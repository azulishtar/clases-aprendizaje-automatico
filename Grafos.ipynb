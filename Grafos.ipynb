{
 "cells": [
  {
   "cell_type": "markdown",
   "metadata": {
    "slideshow": {
     "slide_type": "slide"
    }
   },
   "source": [
    "# Grafos"
   ]
  },
  {
   "cell_type": "markdown",
   "metadata": {
    "slideshow": {
     "slide_type": "fragment"
    }
   },
   "source": [
    "* Matías Battocchia\n",
    "* Científico de datos en [Mutt Data](https://www.muttdata.ai)\n",
    "* Tesista en [CoCuCo Lab](https://www.cocucolab.com)\n",
    "* battox@gmail.com"
   ]
  },
  {
   "cell_type": "markdown",
   "metadata": {
    "slideshow": {
     "slide_type": "slide"
    }
   },
   "source": [
    "### ¿Qué es un grafo?"
   ]
  },
  {
   "cell_type": "markdown",
   "metadata": {
    "slideshow": {
     "slide_type": "fragment"
    }
   },
   "source": [
    "<img src=\"https://upload.wikimedia.org/wikipedia/commons/5/5b/6n-graf.svg\" width=200>"
   ]
  },
  {
   "cell_type": "markdown",
   "metadata": {
    "slideshow": {
     "slide_type": "fragment"
    }
   },
   "source": [
    "* Red — grafo, *graph*\n",
    "  * Nodos — vértices, *nodes*\n",
    "  * Conexiones — aristas, bordes, *edges*"
   ]
  },
  {
   "cell_type": "markdown",
   "metadata": {
    "slideshow": {
     "slide_type": "slide"
    }
   },
   "source": [
    "### ¿Para qué sirven?"
   ]
  },
  {
   "cell_type": "markdown",
   "metadata": {
    "slideshow": {
     "slide_type": "subslide"
    }
   },
   "source": [
    "#### Redes de transporte\n",
    "\n",
    "<img src=\"https://sites.google.com/site/aplicaciongrafos/_/rsrc/1320026146976/home/ciudades.PNG\" width=600>"
   ]
  },
  {
   "cell_type": "markdown",
   "metadata": {
    "slideshow": {
     "slide_type": "subslide"
    }
   },
   "source": [
    "#### Redes de interacción\n",
    "\n",
    "<img src=\"https://upload.wikimedia.org/wikipedia/commons/thumb/e/ef/Network_representation_of_brain_connectivity.JPG/1280px-Network_representation_of_brain_connectivity.JPG\" width=600>"
   ]
  },
  {
   "cell_type": "markdown",
   "metadata": {
    "slideshow": {
     "slide_type": "subslide"
    }
   },
   "source": [
    "#### Redes de comunicación\n",
    "\n",
    "<img src=\"https://www.researchgate.net/profile/Santiago_Bianco/publication/309278789/figure/fig25/AS:750920430284803@1556044790504/Ejemplo-de-red-de-comunicacion-con-componentes-electronicos-y-su-posible-modelizacion.jpg\" width=700>"
   ]
  },
  {
   "cell_type": "markdown",
   "metadata": {
    "slideshow": {
     "slide_type": "subslide"
    }
   },
   "source": [
    "Es una estructura de datos útil para representar:\n",
    "\n",
    "* redes sociales\n",
    "* máquinas de estado\n",
    "* moléculas\n",
    "* mapas conceptuales\n",
    "* estructura del lenguaje\n",
    "* redes de transporte\n",
    "* y mucho más..."
   ]
  },
  {
   "cell_type": "markdown",
   "metadata": {
    "slideshow": {
     "slide_type": "fragment"
    }
   },
   "source": [
    "Ver [glosario de teoría de grafos](https://es.wikipedia.org/wiki/Anexo:Glosario_de_teor%C3%ADa_de_grafos)."
   ]
  },
  {
   "cell_type": "markdown",
   "metadata": {
    "slideshow": {
     "slide_type": "slide"
    }
   },
   "source": [
    "## NetworkX"
   ]
  },
  {
   "cell_type": "markdown",
   "metadata": {
    "slideshow": {
     "slide_type": "fragment"
    }
   },
   "source": [
    "https://networkx.github.io\n",
    "\n",
    "NetworkX es un paquete de Python para la creación, manipulación, y el estudio de la estructura, dinámica, y las funciones de las redes complejas."
   ]
  },
  {
   "cell_type": "code",
   "execution_count": null,
   "metadata": {
    "slideshow": {
     "slide_type": "fragment"
    }
   },
   "outputs": [],
   "source": [
    "!pip install networkx"
   ]
  },
  {
   "cell_type": "code",
   "execution_count": 1,
   "metadata": {
    "slideshow": {
     "slide_type": "fragment"
    }
   },
   "outputs": [],
   "source": [
    "%matplotlib inline\n",
    "\n",
    "import networkx as nx\n",
    "\n",
    "G = nx.Graph()"
   ]
  },
  {
   "cell_type": "code",
   "execution_count": 24,
   "metadata": {
    "slideshow": {
     "slide_type": "subslide"
    }
   },
   "outputs": [
    {
     "data": {
      "image/png": "[encoded data removed]",
      "text/plain": [
       "<Figure size 432x288 with 1 Axes>"
      ]
     },
     "metadata": {},
     "output_type": "display_data"
    }
   ],
   "source": [
    "G.add_node('Buenos Aires')\n",
    "G.add_node('Córdoba')\n",
    "G.add_node('Mendoza')\n",
    "\n",
    "nx.draw(G)"
   ]
  },
  {
   "cell_type": "code",
   "execution_count": 25,
   "metadata": {
    "slideshow": {
     "slide_type": "subslide"
    }
   },
   "outputs": [
    {
     "data": {
      "image/png": "[encoded data removed]",
      "text/plain": [
       "<Figure size 432x288 with 1 Axes>"
      ]
     },
     "metadata": {},
     "output_type": "display_data"
    }
   ],
   "source": [
    "G.add_edge('Buenos Aires', 'Córdoba', distancia=647)\n",
    "G.add_edge('Buenos Aires', 'Mendoza', distancia=948)\n",
    "G.add_edge('Córdoba',      'Mendoza', distancia=682)\n",
    "\n",
    "nx.draw(G)"
   ]
  },
  {
   "cell_type": "code",
   "execution_count": 26,
   "metadata": {
    "slideshow": {
     "slide_type": "subslide"
    }
   },
   "outputs": [
    {
     "data": {
      "image/png": "[encoded data removed]",
      "text/plain": [
       "<Figure size 432x288 with 1 Axes>"
      ]
     },
     "metadata": {},
     "output_type": "display_data"
    }
   ],
   "source": [
    "G.add_edge('Tucumán','Salta', distancia=227)\n",
    "\n",
    "nx.draw(G)"
   ]
  },
  {
   "cell_type": "markdown",
   "metadata": {
    "slideshow": {
     "slide_type": "fragment"
    }
   },
   "source": [
    "* **Subgrafo**: subconjunto de nodos y conexiones.\n",
    "* **Componente conectada**: grupo de nodos conectados."
   ]
  },
  {
   "cell_type": "code",
   "execution_count": 54,
   "metadata": {
    "slideshow": {
     "slide_type": "subslide"
    }
   },
   "outputs": [
    {
     "data": {
      "text/plain": [
       "NodeView(('Buenos Aires', 'Córdoba', 'Mendoza', 'Tucumán', 'Salta'))"
      ]
     },
     "execution_count": 54,
     "metadata": {},
     "output_type": "execute_result"
    }
   ],
   "source": [
    "G.nodes"
   ]
  },
  {
   "cell_type": "code",
   "execution_count": 55,
   "metadata": {
    "slideshow": {
     "slide_type": "fragment"
    }
   },
   "outputs": [
    {
     "data": {
      "text/plain": [
       "EdgeView([('Buenos Aires', 'Córdoba'), ('Buenos Aires', 'Mendoza'), ('Córdoba', 'Mendoza'), ('Tucumán', 'Salta')])"
      ]
     },
     "execution_count": 55,
     "metadata": {},
     "output_type": "execute_result"
    }
   ],
   "source": [
    "G.edges"
   ]
  },
  {
   "cell_type": "code",
   "execution_count": 57,
   "metadata": {
    "slideshow": {
     "slide_type": "fragment"
    }
   },
   "outputs": [
    {
     "data": {
      "text/plain": [
       "2"
      ]
     },
     "execution_count": 57,
     "metadata": {},
     "output_type": "execute_result"
    }
   ],
   "source": [
    "# grado de un nodo (cantidad de conexiones)\n",
    "G.degree['Mendoza']"
   ]
  },
  {
   "cell_type": "markdown",
   "metadata": {
    "slideshow": {
     "slide_type": "subslide"
    }
   },
   "source": [
    "### Graficando"
   ]
  },
  {
   "cell_type": "code",
   "execution_count": 53,
   "metadata": {
    "slideshow": {
     "slide_type": "fragment"
    }
   },
   "outputs": [
    {
     "data": {
      "image/png": "[encoded data removed]",
      "text/plain": [
       "<Figure size 432x288 with 1 Axes>"
      ]
     },
     "metadata": {},
     "output_type": "display_data"
    }
   ],
   "source": [
    "# posiciones de los nodos; elegir un *layout*\n",
    "pos=nx.planar_layout(G)\n",
    "\n",
    "# dibujar etiquetas\n",
    "nx.draw_networkx_labels(G, pos=pos)\n",
    "\n",
    "# dibujar nodos\n",
    "nx.draw_networkx_nodes(G, pos=pos)\n",
    "\n",
    "# dibujar conexiones\n",
    "nx.draw_networkx_edges(G, pos=pos);"
   ]
  },
  {
   "cell_type": "markdown",
   "metadata": {
    "slideshow": {
     "slide_type": "fragment"
    }
   },
   "source": [
    "Graficar grafos no es una tarea sencilla y NetworkX lo deja en mano de otras aplicaciones, como [Gephi](https://gephi.org)."
   ]
  },
  {
   "cell_type": "markdown",
   "metadata": {
    "slideshow": {
     "slide_type": "slide"
    }
   },
   "source": [
    "## Tipos de grafos"
   ]
  },
  {
   "cell_type": "markdown",
   "metadata": {
    "slideshow": {
     "slide_type": "subslide"
    }
   },
   "source": [
    "### Dirigido\n",
    "\n",
    "`nx.DiGraph`\n",
    "\n",
    "<img src=\"https://upload.wikimedia.org/wikipedia/commons/a/a2/Directed.svg\" width=200>"
   ]
  },
  {
   "cell_type": "markdown",
   "metadata": {
    "slideshow": {
     "slide_type": "subslide"
    }
   },
   "source": [
    "### Multigrafo\n",
    "\n",
    "`nx.MultiGraph`, `nx.MultiDiGraph`\n",
    "\n",
    "<img src=\"https://upload.wikimedia.org/wikipedia/commons/c/c9/Multi-pseudograph.svg\" width=200>"
   ]
  },
  {
   "cell_type": "markdown",
   "metadata": {
    "slideshow": {
     "slide_type": "slide"
    }
   },
   "source": [
    "## Algoritmos comunes"
   ]
  },
  {
   "cell_type": "markdown",
   "metadata": {
    "slideshow": {
     "slide_type": "subslide"
    }
   },
   "source": [
    "### Grafo de ejemplo: Familias florentinas\n",
    "\n",
    "Familias que se disputaron el control político de la ciudad de Florencia alrededor de 1430. Dos facciones fueron dominantes en la disputa: Medicis y Strozzis.\n",
    "\n",
    "Dataset de uniones maritales y de negocio entre familias.\n",
    "\n",
    "Fuente: *Padgett, J. F., & Ansell, C. K. (1993). Robust Action and the Rise of the Medici, 1400-1434. American Journal of Sociology, 98(6), 1259-1319.*"
   ]
  },
  {
   "cell_type": "code",
   "execution_count": 7,
   "metadata": {
    "slideshow": {
     "slide_type": "subslide"
    }
   },
   "outputs": [
    {
     "data": {
      "image/png": "[encoded data removed]",
      "text/plain": [
       "<Figure size 432x288 with 1 Axes>"
      ]
     },
     "metadata": {},
     "output_type": "display_data"
    }
   ],
   "source": [
    "G = nx.florentine_families_graph()\n",
    "\n",
    "nx.draw_networkx(G)"
   ]
  },
  {
   "cell_type": "code",
   "execution_count": 4,
   "metadata": {},
   "outputs": [
    {
     "data": {
      "text/plain": [
       "NodeView(('Acciaiuoli', 'Medici', 'Castellani', 'Peruzzi', 'Strozzi', 'Barbadori', 'Ridolfi', 'Tornabuoni', 'Albizzi', 'Salviati', 'Pazzi', 'Bischeri', 'Guadagni', 'Ginori', 'Lamberteschi'))"
      ]
     },
     "execution_count": 4,
     "metadata": {},
     "output_type": "execute_result"
    }
   ],
   "source": [
    "G.nodes"
   ]
  },
  {
   "cell_type": "markdown",
   "metadata": {
    "slideshow": {
     "slide_type": "subslide"
    }
   },
   "source": [
    "## Componentes conectadas\n",
    "\n",
    "https://en.wikipedia.org/wiki/Component_(graph_theory)\n",
    "\n",
    "<img src=\"https://upload.wikimedia.org/wikipedia/commons/8/85/Pseudoforest.svg\" width=200>"
   ]
  },
  {
   "cell_type": "code",
   "execution_count": 64,
   "metadata": {
    "slideshow": {
     "slide_type": "fragment"
    }
   },
   "outputs": [
    {
     "name": "stdout",
     "output_type": "stream",
     "text": [
      "{'Strozzi', 'Bischeri', 'Acciaiuoli', 'Salviati', 'Pazzi', 'Castellani', 'Ridolfi', 'Albizzi', 'Peruzzi', 'Medici', 'Ginori', 'Lamberteschi', 'Barbadori', 'Tornabuoni', 'Guadagni'}\n"
     ]
    }
   ],
   "source": [
    "# el grafo de ejemplo solo tiene una componente conectada\n",
    "for sub_graph in nx.connected_components(G):\n",
    "    print(sub_graph)"
   ]
  },
  {
   "cell_type": "markdown",
   "metadata": {
    "slideshow": {
     "slide_type": "subslide"
    }
   },
   "source": [
    "## El camino más corto\n",
    "\n",
    "https://en.wikipedia.org/wiki/Shortest_path_problem\n",
    "\n",
    "<img src=\"https://upload.wikimedia.org/wikipedia/commons/3/3b/Shortest_path_with_direct_weights.svg\" width=200>\n",
    "\n",
    "#### Aplicaciones\n",
    "\n",
    "* Google Maps\n",
    "* LinkedIn"
   ]
  },
  {
   "cell_type": "code",
   "execution_count": 7,
   "metadata": {
    "slideshow": {
     "slide_type": "fragment"
    }
   },
   "outputs": [
    {
     "data": {
      "text/plain": [
       "['Medici', 'Ridolfi', 'Strozzi']"
      ]
     },
     "execution_count": 7,
     "metadata": {},
     "output_type": "execute_result"
    }
   ],
   "source": [
    "nx.shortest_path(G, source='Medici', target='Strozzi', weight=None)"
   ]
  },
  {
   "cell_type": "markdown",
   "metadata": {
    "slideshow": {
     "slide_type": "subslide"
    }
   },
   "source": [
    "## Árbol recubridor mínimo\n",
    "\n",
    "https://en.wikipedia.org/wiki/Minimum_spanning_tree\n",
    "\n",
    "<img src=\"https://upload.wikimedia.org/wikipedia/commons/d/d2/Minimum_spanning_tree.svg\" width=200>\n",
    "\n",
    "#### Aplicaciones\n",
    "\n",
    "* Tendido de redes"
   ]
  },
  {
   "cell_type": "code",
   "execution_count": 68,
   "metadata": {
    "slideshow": {
     "slide_type": "fragment"
    }
   },
   "outputs": [
    {
     "data": {
      "image/png": "[encoded data removed]",
      "text/plain": [
       "<Figure size 432x288 with 1 Axes>"
      ]
     },
     "metadata": {},
     "output_type": "display_data"
    }
   ],
   "source": [
    "mst = nx.minimum_spanning_tree(G, weight=None)\n",
    "\n",
    "nx.draw(mst)"
   ]
  },
  {
   "cell_type": "markdown",
   "metadata": {
    "slideshow": {
     "slide_type": "subslide"
    }
   },
   "source": [
    "## Pagerank\n",
    "\n",
    "https://en.wikipedia.org/wiki/PageRank\n",
    "\n",
    "<img src=\"https://upload.wikimedia.org/wikipedia/en/8/8b/PageRanks-Example.jpg\" width=200>"
   ]
  },
  {
   "cell_type": "code",
   "execution_count": 20,
   "metadata": {
    "scrolled": false,
    "slideshow": {
     "slide_type": "fragment"
    }
   },
   "outputs": [
    {
     "data": {
      "text/plain": [
       "[('Medici', 0.14581844065218275),\n",
       " ('Guadagni', 0.09839859717156552),\n",
       " ('Strozzi', 0.08809849082725613),\n",
       " ('Albizzi', 0.079121502380729),\n",
       " ('Tornabuoni', 0.07127928374676082),\n",
       " ('Ridolfi', 0.069574170990148),\n",
       " ('Castellani', 0.06933028447008721),\n",
       " ('Bischeri', 0.0688615381141211),\n",
       " ('Peruzzi', 0.06787531774407572),\n",
       " ('Salviati', 0.061302640987807314),\n",
       " ('Barbadori', 0.050300712744633685),\n",
       " ('Pazzi', 0.036054222996734095),\n",
       " ('Ginori', 0.032418257716596434),\n",
       " ('Lamberteschi', 0.03090932465499793),\n",
       " ('Acciaiuoli', 0.03065721480230426)]"
      ]
     },
     "execution_count": 20,
     "metadata": {},
     "output_type": "execute_result"
    }
   ],
   "source": [
    "rank = nx.pagerank(G, weight=None)\n",
    "\n",
    "sorted(rank.items(), key=lambda item: item[1], reverse=True)"
   ]
  },
  {
   "cell_type": "markdown",
   "metadata": {
    "slideshow": {
     "slide_type": "fragment"
    }
   },
   "source": [
    "Ejemplo de uso en aprendizaje automático: [Red de influencia de inversores](https://towardsdatascience.com/investor-network-of-influence-f80f2a1af43f)."
   ]
  },
  {
   "cell_type": "markdown",
   "metadata": {
    "slideshow": {
     "slide_type": "subslide"
    }
   },
   "source": [
    "## Intermediación\n",
    "\n",
    "https://en.wikipedia.org/wiki/Betweenness_centrality\n",
    "\n",
    "<img src=\"https://upload.wikimedia.org/wikipedia/commons/6/60/Graph_betweenness.svg\" width=200>"
   ]
  },
  {
   "cell_type": "code",
   "execution_count": 21,
   "metadata": {
    "slideshow": {
     "slide_type": "fragment"
    }
   },
   "outputs": [
    {
     "data": {
      "text/plain": [
       "[('Medici', 0.521978021978022),\n",
       " ('Guadagni', 0.2545787545787546),\n",
       " ('Albizzi', 0.21245421245421245),\n",
       " ('Salviati', 0.14285714285714288),\n",
       " ('Ridolfi', 0.11355311355311355),\n",
       " ('Bischeri', 0.1043956043956044),\n",
       " ('Strozzi', 0.10256410256410257),\n",
       " ('Barbadori', 0.09340659340659341),\n",
       " ('Tornabuoni', 0.09157509157509157),\n",
       " ('Castellani', 0.05494505494505495),\n",
       " ('Peruzzi', 0.02197802197802198),\n",
       " ('Acciaiuoli', 0.0),\n",
       " ('Pazzi', 0.0),\n",
       " ('Ginori', 0.0),\n",
       " ('Lamberteschi', 0.0)]"
      ]
     },
     "execution_count": 21,
     "metadata": {},
     "output_type": "execute_result"
    }
   ],
   "source": [
    "rank = nx.betweenness_centrality(G, weight=None)\n",
    "\n",
    "sorted(rank.items(), key=lambda item: item[1], reverse=True)"
   ]
  },
  {
   "cell_type": "markdown",
   "metadata": {
    "slideshow": {
     "slide_type": "subslide"
    }
   },
   "source": [
    "### Modularidad\n",
    "\n",
    "https://en.wikipedia.org/wiki/Modularity_(networks)\n",
    "\n",
    "<img src=\"https://www.pnas.org/content/pnas/103/23/8577/F1.large.jpg\" width=200>"
   ]
  },
  {
   "cell_type": "code",
   "execution_count": 70,
   "metadata": {
    "slideshow": {
     "slide_type": "fragment"
    }
   },
   "outputs": [
    {
     "data": {
      "text/plain": [
       "[frozenset({'Acciaiuoli',\n",
       "            'Medici',\n",
       "            'Pazzi',\n",
       "            'Ridolfi',\n",
       "            'Salviati',\n",
       "            'Tornabuoni'}),\n",
       " frozenset({'Barbadori', 'Bischeri', 'Castellani', 'Peruzzi', 'Strozzi'}),\n",
       " frozenset({'Albizzi', 'Ginori', 'Guadagni', 'Lamberteschi'})]"
      ]
     },
     "execution_count": 70,
     "metadata": {},
     "output_type": "execute_result"
    }
   ],
   "source": [
    "nx.algorithms.community.modularity_max.greedy_modularity_communities(G)"
   ]
  },
  {
   "cell_type": "markdown",
   "metadata": {
    "slideshow": {
     "slide_type": "slide"
    }
   },
   "source": [
    "## Pandas"
   ]
  },
  {
   "cell_type": "code",
   "execution_count": 8,
   "metadata": {
    "slideshow": {
     "slide_type": "fragment"
    }
   },
   "outputs": [],
   "source": [
    "import pandas as pd\n",
    "\n",
    "df = pd.read_csv('http://cdn.buenosaires.gob.ar/datosabiertos/datasets/bicicletas-publicas/recorridos-realizados-2019.csv', low_memory=False)"
   ]
  },
  {
   "cell_type": "code",
   "execution_count": 9,
   "metadata": {
    "slideshow": {
     "slide_type": "fragment"
    }
   },
   "outputs": [
    {
     "name": "stdout",
     "output_type": "stream",
     "text": [
      "<class 'pandas.core.frame.DataFrame'>\n",
      "RangeIndex: 2850451 entries, 0 to 2850450\n",
      "Data columns (total 19 columns):\n",
      "id_usuario                    object\n",
      "edad_usuario                  float64\n",
      "genero_usuario                object\n",
      "fecha_origen_recorrido        object\n",
      "id_estacion_origen            object\n",
      "nombre_estacion_origen        object\n",
      "direccion_estacion_origen     object\n",
      "capacidad_estacion_origen     float64\n",
      "lat_estacion_origen           float64\n",
      "long_estacion_origen          float64\n",
      "duracion_recorrido            object\n",
      "fecha_destino_recorrido       object\n",
      "id_estacion_destino           object\n",
      "nombre_estacion_destino       object\n",
      "direccion_estacion_destino    object\n",
      "capacidad_estacion_destino    float64\n",
      "lat_estacion_destino          float64\n",
      "long_estacion_destino         float64\n",
      "servicio                      object\n",
      "dtypes: float64(7), object(12)\n",
      "memory usage: 413.2+ MB\n"
     ]
    }
   ],
   "source": [
    "df.info()"
   ]
  },
  {
   "cell_type": "code",
   "execution_count": 10,
   "metadata": {
    "slideshow": {
     "slide_type": "fragment"
    }
   },
   "outputs": [
    {
     "data": {
      "text/html": [
       "<div>\n",
       "<style scoped>\n",
       "    .dataframe tbody tr th:only-of-type {\n",
       "        vertical-align: middle;\n",
       "    }\n",
       "\n",
       "    .dataframe tbody tr th {\n",
       "        vertical-align: top;\n",
       "    }\n",
       "\n",
       "    .dataframe thead th {\n",
       "        text-align: right;\n",
       "    }\n",
       "</style>\n",
       "<table border=\"1\" class=\"dataframe\">\n",
       "  <thead>\n",
       "    <tr style=\"text-align: right;\">\n",
       "      <th></th>\n",
       "      <th>id_usuario</th>\n",
       "      <th>edad_usuario</th>\n",
       "      <th>genero_usuario</th>\n",
       "      <th>fecha_origen_recorrido</th>\n",
       "      <th>id_estacion_origen</th>\n",
       "      <th>nombre_estacion_origen</th>\n",
       "      <th>direccion_estacion_origen</th>\n",
       "      <th>capacidad_estacion_origen</th>\n",
       "      <th>lat_estacion_origen</th>\n",
       "      <th>long_estacion_origen</th>\n",
       "      <th>duracion_recorrido</th>\n",
       "      <th>fecha_destino_recorrido</th>\n",
       "      <th>id_estacion_destino</th>\n",
       "      <th>nombre_estacion_destino</th>\n",
       "      <th>direccion_estacion_destino</th>\n",
       "      <th>capacidad_estacion_destino</th>\n",
       "      <th>lat_estacion_destino</th>\n",
       "      <th>long_estacion_destino</th>\n",
       "      <th>servicio</th>\n",
       "    </tr>\n",
       "  </thead>\n",
       "  <tbody>\n",
       "    <tr>\n",
       "      <th>0</th>\n",
       "      <td>115783_0</td>\n",
       "      <td>36.0</td>\n",
       "      <td>FEMENINO</td>\n",
       "      <td>2019-01-01 00:01:16</td>\n",
       "      <td>168.0</td>\n",
       "      <td>Estados Unidos</td>\n",
       "      <td>Estados Unidos y Lima</td>\n",
       "      <td>NaN</td>\n",
       "      <td>-34.618620</td>\n",
       "      <td>-58.381283</td>\n",
       "      <td>0 days 00:07:02.000000000</td>\n",
       "      <td>2019-01-01 00:08:18</td>\n",
       "      <td>112.0</td>\n",
       "      <td>9 de Julio</td>\n",
       "      <td>9 de Julio y Moreno</td>\n",
       "      <td>NaN</td>\n",
       "      <td>-34.612389</td>\n",
       "      <td>-58.380766</td>\n",
       "      <td>antiguo</td>\n",
       "    </tr>\n",
       "    <tr>\n",
       "      <th>1</th>\n",
       "      <td>345364_0</td>\n",
       "      <td>40.0</td>\n",
       "      <td>MASCULINO</td>\n",
       "      <td>2019-01-01 00:04:32</td>\n",
       "      <td>47.0</td>\n",
       "      <td>Colegio Nacional Buenos Aires</td>\n",
       "      <td>Bolivar entre Adolfo Alsina y Moreno</td>\n",
       "      <td>NaN</td>\n",
       "      <td>-34.610782</td>\n",
       "      <td>-58.373557</td>\n",
       "      <td>0 days 00:05:33.000000000</td>\n",
       "      <td>2019-01-01 00:10:05</td>\n",
       "      <td>47.0</td>\n",
       "      <td>Colegio Nacional Buenos Aires</td>\n",
       "      <td>Bolivar entre Adolfo Alsina y Moreno</td>\n",
       "      <td>NaN</td>\n",
       "      <td>-34.610782</td>\n",
       "      <td>-58.373557</td>\n",
       "      <td>antiguo</td>\n",
       "    </tr>\n",
       "    <tr>\n",
       "      <th>2</th>\n",
       "      <td>570578_0</td>\n",
       "      <td>41.0</td>\n",
       "      <td>FEMENINO</td>\n",
       "      <td>2019-01-01 00:09:15</td>\n",
       "      <td>144.0</td>\n",
       "      <td>Pueyrredón</td>\n",
       "      <td>Boulogne Sur Mer y Tucuman</td>\n",
       "      <td>NaN</td>\n",
       "      <td>-34.601780</td>\n",
       "      <td>-58.405790</td>\n",
       "      <td>0 days 00:19:45.000000000</td>\n",
       "      <td>2019-01-01 00:29:00</td>\n",
       "      <td>44_0</td>\n",
       "      <td>Ecoparque</td>\n",
       "      <td>NaN</td>\n",
       "      <td>NaN</td>\n",
       "      <td>NaN</td>\n",
       "      <td>NaN</td>\n",
       "      <td>antiguo</td>\n",
       "    </tr>\n",
       "    <tr>\n",
       "      <th>3</th>\n",
       "      <td>588687_0</td>\n",
       "      <td>43.0</td>\n",
       "      <td>MASCULINO</td>\n",
       "      <td>2019-01-01 00:09:28</td>\n",
       "      <td>144.0</td>\n",
       "      <td>Pueyrredón</td>\n",
       "      <td>Boulogne Sur Mer y Tucuman</td>\n",
       "      <td>NaN</td>\n",
       "      <td>-34.601780</td>\n",
       "      <td>-58.405790</td>\n",
       "      <td>0 days 00:19:34.000000000</td>\n",
       "      <td>2019-01-01 00:29:02</td>\n",
       "      <td>44_0</td>\n",
       "      <td>Ecoparque</td>\n",
       "      <td>NaN</td>\n",
       "      <td>NaN</td>\n",
       "      <td>NaN</td>\n",
       "      <td>NaN</td>\n",
       "      <td>antiguo</td>\n",
       "    </tr>\n",
       "    <tr>\n",
       "      <th>4</th>\n",
       "      <td>127201_0</td>\n",
       "      <td>33.0</td>\n",
       "      <td>MASCULINO</td>\n",
       "      <td>2019-01-01 00:11:17</td>\n",
       "      <td>16.0</td>\n",
       "      <td>Legislatura</td>\n",
       "      <td>Perú y Diagonal Sur</td>\n",
       "      <td>NaN</td>\n",
       "      <td>-34.609959</td>\n",
       "      <td>-58.374717</td>\n",
       "      <td>0 days 00:21:32.000000000</td>\n",
       "      <td>2019-01-01 00:32:49</td>\n",
       "      <td>199.0</td>\n",
       "      <td>Estados Unidos y Boedo</td>\n",
       "      <td>Estados Unidos 3568 entre Boedo y Maza</td>\n",
       "      <td>NaN</td>\n",
       "      <td>-34.622439</td>\n",
       "      <td>-58.415882</td>\n",
       "      <td>antiguo</td>\n",
       "    </tr>\n",
       "  </tbody>\n",
       "</table>\n",
       "</div>"
      ],
      "text/plain": [
       "  id_usuario  edad_usuario genero_usuario fecha_origen_recorrido  \\\n",
       "0   115783_0          36.0       FEMENINO    2019-01-01 00:01:16   \n",
       "1   345364_0          40.0      MASCULINO    2019-01-01 00:04:32   \n",
       "2   570578_0          41.0       FEMENINO    2019-01-01 00:09:15   \n",
       "3   588687_0          43.0      MASCULINO    2019-01-01 00:09:28   \n",
       "4   127201_0          33.0      MASCULINO    2019-01-01 00:11:17   \n",
       "\n",
       "  id_estacion_origen         nombre_estacion_origen  \\\n",
       "0              168.0                 Estados Unidos   \n",
       "1               47.0  Colegio Nacional Buenos Aires   \n",
       "2              144.0                     Pueyrredón   \n",
       "3              144.0                     Pueyrredón   \n",
       "4               16.0                    Legislatura   \n",
       "\n",
       "              direccion_estacion_origen  capacidad_estacion_origen  \\\n",
       "0                 Estados Unidos y Lima                        NaN   \n",
       "1  Bolivar entre Adolfo Alsina y Moreno                        NaN   \n",
       "2            Boulogne Sur Mer y Tucuman                        NaN   \n",
       "3            Boulogne Sur Mer y Tucuman                        NaN   \n",
       "4                   Perú y Diagonal Sur                        NaN   \n",
       "\n",
       "   lat_estacion_origen  long_estacion_origen         duracion_recorrido  \\\n",
       "0           -34.618620            -58.381283  0 days 00:07:02.000000000   \n",
       "1           -34.610782            -58.373557  0 days 00:05:33.000000000   \n",
       "2           -34.601780            -58.405790  0 days 00:19:45.000000000   \n",
       "3           -34.601780            -58.405790  0 days 00:19:34.000000000   \n",
       "4           -34.609959            -58.374717  0 days 00:21:32.000000000   \n",
       "\n",
       "  fecha_destino_recorrido id_estacion_destino        nombre_estacion_destino  \\\n",
       "0     2019-01-01 00:08:18               112.0                     9 de Julio   \n",
       "1     2019-01-01 00:10:05                47.0  Colegio Nacional Buenos Aires   \n",
       "2     2019-01-01 00:29:00                44_0                      Ecoparque   \n",
       "3     2019-01-01 00:29:02                44_0                      Ecoparque   \n",
       "4     2019-01-01 00:32:49               199.0         Estados Unidos y Boedo   \n",
       "\n",
       "               direccion_estacion_destino  capacidad_estacion_destino  \\\n",
       "0                     9 de Julio y Moreno                         NaN   \n",
       "1    Bolivar entre Adolfo Alsina y Moreno                         NaN   \n",
       "2                                     NaN                         NaN   \n",
       "3                                     NaN                         NaN   \n",
       "4  Estados Unidos 3568 entre Boedo y Maza                         NaN   \n",
       "\n",
       "   lat_estacion_destino  long_estacion_destino servicio  \n",
       "0            -34.612389             -58.380766  antiguo  \n",
       "1            -34.610782             -58.373557  antiguo  \n",
       "2                   NaN                    NaN  antiguo  \n",
       "3                   NaN                    NaN  antiguo  \n",
       "4            -34.622439             -58.415882  antiguo  "
      ]
     },
     "execution_count": 10,
     "metadata": {},
     "output_type": "execute_result"
    }
   ],
   "source": [
    "df.head()"
   ]
  },
  {
   "cell_type": "markdown",
   "metadata": {
    "slideshow": {
     "slide_type": "subslide"
    }
   },
   "source": [
    "El DataFrame debe contener al menos dos columnas con nombres de nodos (origen y destino) y cero o más columnas con atributos de las conexiones.\n",
    "\n",
    "**Cada fila se procesa como una conexión**."
   ]
  },
  {
   "cell_type": "code",
   "execution_count": 11,
   "metadata": {
    "slideshow": {
     "slide_type": "fragment"
    }
   },
   "outputs": [],
   "source": [
    "df['minutos_viaje'] = pd.to_timedelta(df.duracion_recorrido, unit='minute', errors='coerce')"
   ]
  },
  {
   "cell_type": "code",
   "execution_count": 12,
   "metadata": {
    "slideshow": {
     "slide_type": "fragment"
    }
   },
   "outputs": [
    {
     "data": {
      "text/html": [
       "<div>\n",
       "<style scoped>\n",
       "    .dataframe tbody tr th:only-of-type {\n",
       "        vertical-align: middle;\n",
       "    }\n",
       "\n",
       "    .dataframe tbody tr th {\n",
       "        vertical-align: top;\n",
       "    }\n",
       "\n",
       "    .dataframe thead th {\n",
       "        text-align: right;\n",
       "    }\n",
       "</style>\n",
       "<table border=\"1\" class=\"dataframe\">\n",
       "  <thead>\n",
       "    <tr style=\"text-align: right;\">\n",
       "      <th></th>\n",
       "      <th>nombre_estacion_origen</th>\n",
       "      <th>nombre_estacion_destino</th>\n",
       "      <th>minutos_viaje</th>\n",
       "    </tr>\n",
       "  </thead>\n",
       "  <tbody>\n",
       "    <tr>\n",
       "      <th>0</th>\n",
       "      <td>11 de septiembre</td>\n",
       "      <td>11 de septiembre</td>\n",
       "      <td>00:40:07.839506</td>\n",
       "    </tr>\n",
       "    <tr>\n",
       "      <th>1</th>\n",
       "      <td>11 de septiembre</td>\n",
       "      <td>33 Orientales</td>\n",
       "      <td>01:44:11</td>\n",
       "    </tr>\n",
       "    <tr>\n",
       "      <th>2</th>\n",
       "      <td>11 de septiembre</td>\n",
       "      <td>ARAOZ</td>\n",
       "      <td>00:43:33</td>\n",
       "    </tr>\n",
       "    <tr>\n",
       "      <th>3</th>\n",
       "      <td>11 de septiembre</td>\n",
       "      <td>ARENALES Y AGUERO</td>\n",
       "      <td>00:42:23</td>\n",
       "    </tr>\n",
       "    <tr>\n",
       "      <th>4</th>\n",
       "      <td>11 de septiembre</td>\n",
       "      <td>AUSTRIA Y FRENCH</td>\n",
       "      <td>01:20:06</td>\n",
       "    </tr>\n",
       "  </tbody>\n",
       "</table>\n",
       "</div>"
      ],
      "text/plain": [
       "  nombre_estacion_origen nombre_estacion_destino   minutos_viaje\n",
       "0       11 de septiembre        11 de septiembre 00:40:07.839506\n",
       "1       11 de septiembre           33 Orientales        01:44:11\n",
       "2       11 de septiembre                   ARAOZ        00:43:33\n",
       "3       11 de septiembre       ARENALES Y AGUERO        00:42:23\n",
       "4       11 de septiembre        AUSTRIA Y FRENCH        01:20:06"
      ]
     },
     "execution_count": 12,
     "metadata": {},
     "output_type": "execute_result"
    }
   ],
   "source": [
    "pre_grafo = df.groupby(['nombre_estacion_origen','nombre_estacion_destino']) \\\n",
    "    .minutos_viaje \\\n",
    "    .mean(numeric_only=False) \\\n",
    "    .to_frame() \\\n",
    "    .reset_index()\n",
    "\n",
    "#.agg( lambda x: x.mean() )\n",
    "pre_grafo.head()"
   ]
  },
  {
   "cell_type": "code",
   "execution_count": 30,
   "metadata": {
    "slideshow": {
     "slide_type": "subslide"
    }
   },
   "outputs": [],
   "source": [
    "estaciones = nx.convert_matrix.from_pandas_edgelist(\n",
    "    pre_grafo,\n",
    "    source='nombre_estacion_origen',\n",
    "    target='nombre_estacion_destino',\n",
    "    edge_attr='minutos_viaje'\n",
    ")"
   ]
  },
  {
   "cell_type": "code",
   "execution_count": 32,
   "metadata": {
    "slideshow": {
     "slide_type": "fragment"
    }
   },
   "outputs": [
    {
     "data": {
      "image/png": "[encoded data removed]",
      "text/plain": [
       "<Figure size 432x288 with 1 Axes>"
      ]
     },
     "metadata": {},
     "output_type": "display_data"
    }
   ],
   "source": [
    "nx.draw(estaciones)"
   ]
  },
  {
   "cell_type": "markdown",
   "metadata": {
    "slideshow": {
     "slide_type": "fragment"
    }
   },
   "source": [
    "😱 😱 😱"
   ]
  },
  {
   "cell_type": "markdown",
   "metadata": {
    "slideshow": {
     "slide_type": "slide"
    }
   },
   "source": [
    "## Práctica\n",
    "\n",
    "### Dataset\n",
    "\n",
    "https://data.buenosaires.gob.ar/dataset/bicicletas-publicas"
   ]
  },
  {
   "cell_type": "markdown",
   "metadata": {
    "slideshow": {
     "slide_type": "subslide"
    }
   },
   "source": [
    "### Ideas\n",
    "\n",
    "* https://medium.com/@fcatalano/bicisendas-en-buenos-aires-a29f62bc9e7c — \"La red de bicicletas fue diagramada como un **grafo dirigido**. Esto, porque nos interesaba representar los recorridos realizados respetando el sentido de los viajes.\"\n",
    "\n",
    "  * Análisis exploratorio del dataset\n",
    "  * Análisis de *in-degree* y *out-degree*"
   ]
  },
  {
   "cell_type": "markdown",
   "metadata": {
    "slideshow": {
     "slide_type": "fragment"
    }
   },
   "source": [
    "* https://towardsdatascience.com/buenos-aires-bicycle-lanes-ii-1a40b13ccc25 — \"\\[...\\] we built a graph **where two users shared a link if and only if at least one of them had taken a bicycle at approximately the same time from the same station, and returned them together** (also to the same station).\"\n",
    "\n",
    "  * Distribución grados\n",
    "  * Análisis exploratorio del grafo"
   ]
  },
  {
   "cell_type": "markdown",
   "metadata": {
    "slideshow": {
     "slide_type": "fragment"
    }
   },
   "source": [
    "* https://medium.com/@martinpalazzo/buenos-aires-bicycle-lanes-iii-d0ca4539e767 — \"The first step to understand the communities of stations is to build a network where each node is a station and **each edge between station is the quantity of bicycle journeys**.\"\n",
    "\n",
    "  * Modularidad\n",
    "  * Clustering espectral"
   ]
  }
 ],
 "metadata": {
  "celltoolbar": "Slideshow",
  "kernelspec": {
   "display_name": "Python 3",
   "language": "python",
   "name": "python3"
  },
  "language_info": {
   "codemirror_mode": {
    "name": "ipython",
    "version": 3
   },
   "file_extension": ".py",
   "mimetype": "text/x-python",
   "name": "python",
   "nbconvert_exporter": "python",
   "pygments_lexer": "ipython3",
   "version": "3.7.3"
  }
 },
 "nbformat": 4,
 "nbformat_minor": 2
}
