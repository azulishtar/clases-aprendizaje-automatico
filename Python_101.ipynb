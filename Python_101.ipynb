{
  "nbformat": 4,
  "nbformat_minor": 0,
  "metadata": {
    "colab": {
      "name": "EANT Python 101",
      "provenance": [],
      "collapsed_sections": [],
      "toc_visible": true
    },
    "kernelspec": {
      "name": "python3",
      "display_name": "Python 3"
    }
  },
  "cells": [
    {
      "cell_type": "markdown",
      "metadata": {
        "id": "T_wWE6LDLtAn",
        "colab_type": "text"
      },
      "source": [
        "# Python 101"
      ]
    },
    {
      "cell_type": "markdown",
      "metadata": {
        "id": "rTK0BXHaNr_g",
        "colab_type": "text"
      },
      "source": [
        "## Instalación\n",
        "\n",
        "En este curso vamos a utilizar **Anaconda**, una distribución que ya viene con librarías instaladas y herramientas para facilitar su uso.\n",
        "Se puede descargar de [https://www.anaconda.com/download/](https://www.anaconda.com/download/). Seleccioná la versión que viene con Python 3.x y descargá el ejecutable."
      ]
    },
    {
      "cell_type": "markdown",
      "metadata": {
        "id": "xUe8yQY0SO8Z",
        "colab_type": "text"
      },
      "source": [
        "## Interfaces de Usuario\n",
        "\n",
        "### Jupyter Notebooks\n",
        "\n",
        "Los notebooks son documentos que contienen el código y el resultado de la ejecución del mismo en el mismo documento.\n",
        "\n",
        "### Spyder\n",
        "\n",
        "Esta es una IDE \"similar\" a RStudio.\n",
        "\n",
        "### iPython\n",
        "\n",
        "Herramienta por consola."
      ]
    },
    {
      "cell_type": "markdown",
      "metadata": {
        "id": "O_0KWeEPWKK3",
        "colab_type": "text"
      },
      "source": [
        "# Lenguaje\n",
        "\n",
        "## Comentarios\n",
        "\n",
        "Los comentarios de una sola línea van precedidos por el símbolo #"
      ]
    },
    {
      "cell_type": "code",
      "metadata": {
        "id": "lmn5mgisWEQK",
        "colab_type": "code",
        "colab": {}
      },
      "source": [
        "#Esto es una comentario de una sola línea"
      ],
      "execution_count": null,
      "outputs": []
    },
    {
      "cell_type": "markdown",
      "metadata": {
        "id": "FNuZxrHuXTVt",
        "colab_type": "text"
      },
      "source": [
        "## Variables\n",
        "\n",
        "Python es un lenguaje débilmente tipado, por lo cual, no hace falta hacer explícito el tipo de variable, sólo asignarlas por medio del signo = "
      ]
    },
    {
      "cell_type": "code",
      "metadata": {
        "id": "nFgM3ET5YMMG",
        "colab_type": "code",
        "colab": {}
      },
      "source": [
        "a = 10"
      ],
      "execution_count": null,
      "outputs": []
    },
    {
      "cell_type": "markdown",
      "metadata": {
        "id": "_uhw40CoYPr-",
        "colab_type": "text"
      },
      "source": [
        "También se pueden asignar varias variables en la misma línea separando las asignaciones por , en ambos lados del ="
      ]
    },
    {
      "cell_type": "code",
      "metadata": {
        "id": "nzSDy1w-Y9k6",
        "colab_type": "code",
        "colab": {
          "base_uri": "https://localhost:8080/",
          "height": 34
        },
        "outputId": "0bf68633-34d7-44d4-971f-44ec7cf026a3"
      },
      "source": [
        "b,c,d = 30.5,'Death Parrot',True\n",
        "\n",
        "b"
      ],
      "execution_count": null,
      "outputs": [
        {
          "output_type": "execute_result",
          "data": {
            "text/plain": [
              "30.5"
            ]
          },
          "metadata": {
            "tags": []
          },
          "execution_count": 125
        }
      ]
    },
    {
      "cell_type": "code",
      "metadata": {
        "id": "lRBh0ZGgZbkN",
        "colab_type": "code",
        "colab": {
          "base_uri": "https://localhost:8080/",
          "height": 34
        },
        "outputId": "d65691e3-cd5c-414a-f212-6963dde6a451"
      },
      "source": [
        "c"
      ],
      "execution_count": null,
      "outputs": [
        {
          "output_type": "execute_result",
          "data": {
            "text/plain": [
              "'Death Parrot'"
            ]
          },
          "metadata": {
            "tags": []
          },
          "execution_count": 126
        }
      ]
    },
    {
      "cell_type": "code",
      "metadata": {
        "id": "IyBpoGx6Zhhh",
        "colab_type": "code",
        "colab": {
          "base_uri": "https://localhost:8080/",
          "height": 34
        },
        "outputId": "6ca77ac3-f291-49af-eb4d-f699b875ce17"
      },
      "source": [
        "d"
      ],
      "execution_count": null,
      "outputs": [
        {
          "output_type": "execute_result",
          "data": {
            "text/plain": [
              "True"
            ]
          },
          "metadata": {
            "tags": []
          },
          "execution_count": 127
        }
      ]
    },
    {
      "cell_type": "markdown",
      "metadata": {
        "id": "qzPhEJbVZjy1",
        "colab_type": "text"
      },
      "source": [
        "## Tipos de datos Primitivos\n",
        "\n",
        "### Números\n",
        "\n",
        "Enteros"
      ]
    },
    {
      "cell_type": "code",
      "metadata": {
        "id": "FTRPerjjZvk3",
        "colab_type": "code",
        "colab": {
          "base_uri": "https://localhost:8080/",
          "height": 34
        },
        "outputId": "8e05ef74-f441-4ce5-bf3e-78b22b568df5"
      },
      "source": [
        "type(10)"
      ],
      "execution_count": null,
      "outputs": [
        {
          "output_type": "execute_result",
          "data": {
            "text/plain": [
              "int"
            ]
          },
          "metadata": {
            "tags": []
          },
          "execution_count": 128
        }
      ]
    },
    {
      "cell_type": "markdown",
      "metadata": {
        "id": "kkkybYtoZ4xE",
        "colab_type": "text"
      },
      "source": [
        "Decimales"
      ]
    },
    {
      "cell_type": "code",
      "metadata": {
        "id": "IHwmFd9-Z9Sg",
        "colab_type": "code",
        "colab": {
          "base_uri": "https://localhost:8080/",
          "height": 34
        },
        "outputId": "d7c9150f-337d-4555-87f0-a97e4b687fab"
      },
      "source": [
        "type(10.5)"
      ],
      "execution_count": null,
      "outputs": [
        {
          "output_type": "execute_result",
          "data": {
            "text/plain": [
              "float"
            ]
          },
          "metadata": {
            "tags": []
          },
          "execution_count": 129
        }
      ]
    },
    {
      "cell_type": "markdown",
      "metadata": {
        "id": "hzP0tWliaF82",
        "colab_type": "text"
      },
      "source": [
        "### Texto"
      ]
    },
    {
      "cell_type": "code",
      "metadata": {
        "id": "EeQ1F3AkaQL3",
        "colab_type": "code",
        "colab": {
          "base_uri": "https://localhost:8080/",
          "height": 34
        },
        "outputId": "5ae410f0-604c-47ef-9656-9779d2300fee"
      },
      "source": [
        "type(\"Los textos pueden ir entre comillas dobles...\")"
      ],
      "execution_count": null,
      "outputs": [
        {
          "output_type": "execute_result",
          "data": {
            "text/plain": [
              "str"
            ]
          },
          "metadata": {
            "tags": []
          },
          "execution_count": 130
        }
      ]
    },
    {
      "cell_type": "code",
      "metadata": {
        "id": "5DBy_yU1ak13",
        "colab_type": "code",
        "colab": {
          "base_uri": "https://localhost:8080/",
          "height": 34
        },
        "outputId": "d024d7c5-47fb-4913-e661-29aa6aec83c7"
      },
      "source": [
        "type('...o entre comillas simples')"
      ],
      "execution_count": null,
      "outputs": [
        {
          "output_type": "execute_result",
          "data": {
            "text/plain": [
              "str"
            ]
          },
          "metadata": {
            "tags": []
          },
          "execution_count": 131
        }
      ]
    },
    {
      "cell_type": "markdown",
      "metadata": {
        "id": "dxznn5xbawr3",
        "colab_type": "text"
      },
      "source": [
        "### Booleans"
      ]
    },
    {
      "cell_type": "code",
      "metadata": {
        "id": "7S3PCQXZa13B",
        "colab_type": "code",
        "colab": {
          "base_uri": "https://localhost:8080/",
          "height": 34
        },
        "outputId": "32608957-5f88-4b8c-a7ce-089368c44a0d"
      },
      "source": [
        "type(True)"
      ],
      "execution_count": null,
      "outputs": [
        {
          "output_type": "execute_result",
          "data": {
            "text/plain": [
              "bool"
            ]
          },
          "metadata": {
            "tags": []
          },
          "execution_count": 132
        }
      ]
    },
    {
      "cell_type": "code",
      "metadata": {
        "id": "sRXFJjmea2Cr",
        "colab_type": "code",
        "colab": {
          "base_uri": "https://localhost:8080/",
          "height": 34
        },
        "outputId": "afd9813b-112a-4460-c6c2-d5ebd672d5ae"
      },
      "source": [
        "type(False)"
      ],
      "execution_count": null,
      "outputs": [
        {
          "output_type": "execute_result",
          "data": {
            "text/plain": [
              "bool"
            ]
          },
          "metadata": {
            "tags": []
          },
          "execution_count": 133
        }
      ]
    },
    {
      "cell_type": "markdown",
      "metadata": {
        "id": "uw58biofbFty",
        "colab_type": "text"
      },
      "source": [
        "## Operaciones Matemáticas\n",
        "\n",
        "Suma"
      ]
    },
    {
      "cell_type": "code",
      "metadata": {
        "id": "ZrPjXzQLcZFu",
        "colab_type": "code",
        "colab": {
          "base_uri": "https://localhost:8080/",
          "height": 34
        },
        "outputId": "497b0285-fbd8-4060-b63a-c84735cb31af"
      },
      "source": [
        "10 + 5"
      ],
      "execution_count": null,
      "outputs": [
        {
          "output_type": "execute_result",
          "data": {
            "text/plain": [
              "15"
            ]
          },
          "metadata": {
            "tags": []
          },
          "execution_count": 134
        }
      ]
    },
    {
      "cell_type": "markdown",
      "metadata": {
        "id": "_Wdj8dkdcdI2",
        "colab_type": "text"
      },
      "source": [
        "Resta"
      ]
    },
    {
      "cell_type": "code",
      "metadata": {
        "id": "g6RBvtn8ccgh",
        "colab_type": "code",
        "colab": {
          "base_uri": "https://localhost:8080/",
          "height": 34
        },
        "outputId": "e4aa363e-e4dc-4c31-c3b3-df0f72b71ff0"
      },
      "source": [
        "10 - 7"
      ],
      "execution_count": null,
      "outputs": [
        {
          "output_type": "execute_result",
          "data": {
            "text/plain": [
              "3"
            ]
          },
          "metadata": {
            "tags": []
          },
          "execution_count": 135
        }
      ]
    },
    {
      "cell_type": "markdown",
      "metadata": {
        "id": "OL8jnwEIcjER",
        "colab_type": "text"
      },
      "source": [
        "Multiplicación"
      ]
    },
    {
      "cell_type": "code",
      "metadata": {
        "id": "MQT8eUTtclTz",
        "colab_type": "code",
        "colab": {
          "base_uri": "https://localhost:8080/",
          "height": 34
        },
        "outputId": "89dd52df-2598-4a1c-a6f1-652dcb8935dc"
      },
      "source": [
        "10 * 3"
      ],
      "execution_count": null,
      "outputs": [
        {
          "output_type": "execute_result",
          "data": {
            "text/plain": [
              "30"
            ]
          },
          "metadata": {
            "tags": []
          },
          "execution_count": 136
        }
      ]
    },
    {
      "cell_type": "markdown",
      "metadata": {
        "id": "CAtJNKiJcom9",
        "colab_type": "text"
      },
      "source": [
        "División"
      ]
    },
    {
      "cell_type": "code",
      "metadata": {
        "id": "tNFmobcTcrBz",
        "colab_type": "code",
        "colab": {
          "base_uri": "https://localhost:8080/",
          "height": 34
        },
        "outputId": "db7aae2c-2fa8-4477-b619-2d26bd40d056"
      },
      "source": [
        "10/3"
      ],
      "execution_count": null,
      "outputs": [
        {
          "output_type": "execute_result",
          "data": {
            "text/plain": [
              "3.3333333333333335"
            ]
          },
          "metadata": {
            "tags": []
          },
          "execution_count": 137
        }
      ]
    },
    {
      "cell_type": "markdown",
      "metadata": {
        "id": "ze64TC63cwSg",
        "colab_type": "text"
      },
      "source": [
        "División entera (elimino los decimales)"
      ]
    },
    {
      "cell_type": "code",
      "metadata": {
        "id": "Z-i5qXlKc0wt",
        "colab_type": "code",
        "colab": {
          "base_uri": "https://localhost:8080/",
          "height": 34
        },
        "outputId": "bb03e71f-7369-4690-a70d-9e791bac3070"
      },
      "source": [
        "10 // 3"
      ],
      "execution_count": null,
      "outputs": [
        {
          "output_type": "execute_result",
          "data": {
            "text/plain": [
              "3"
            ]
          },
          "metadata": {
            "tags": []
          },
          "execution_count": 138
        }
      ]
    },
    {
      "cell_type": "markdown",
      "metadata": {
        "id": "bJHpEPtWc3Wu",
        "colab_type": "text"
      },
      "source": [
        "Resto"
      ]
    },
    {
      "cell_type": "code",
      "metadata": {
        "id": "-rykbdlFc3ik",
        "colab_type": "code",
        "colab": {
          "base_uri": "https://localhost:8080/",
          "height": 34
        },
        "outputId": "ae8fa6d9-307d-4e06-bd26-349d7db70b7a"
      },
      "source": [
        "10 % 3"
      ],
      "execution_count": null,
      "outputs": [
        {
          "output_type": "execute_result",
          "data": {
            "text/plain": [
              "1"
            ]
          },
          "metadata": {
            "tags": []
          },
          "execution_count": 139
        }
      ]
    },
    {
      "cell_type": "markdown",
      "metadata": {
        "id": "9yZpoZi_kuhS",
        "colab_type": "text"
      },
      "source": [
        "Potencia"
      ]
    },
    {
      "cell_type": "code",
      "metadata": {
        "id": "s96fduHDkw3E",
        "colab_type": "code",
        "colab": {
          "base_uri": "https://localhost:8080/",
          "height": 34
        },
        "outputId": "086fc55f-a69e-44ea-876a-6a581c9e4591"
      },
      "source": [
        "4 ** 2"
      ],
      "execution_count": null,
      "outputs": [
        {
          "output_type": "execute_result",
          "data": {
            "text/plain": [
              "16"
            ]
          },
          "metadata": {
            "tags": []
          },
          "execution_count": 140
        }
      ]
    },
    {
      "cell_type": "markdown",
      "metadata": {
        "id": "JD1kLxe1lUJr",
        "colab_type": "text"
      },
      "source": [
        "## Lógica\n",
        "\n",
        "Igualdad"
      ]
    },
    {
      "cell_type": "code",
      "metadata": {
        "id": "6aLfGGZgmd-a",
        "colab_type": "code",
        "colab": {
          "base_uri": "https://localhost:8080/",
          "height": 34
        },
        "outputId": "de4e0488-174c-46f2-eb3f-0def6b65d9e9"
      },
      "source": [
        "3 == 4"
      ],
      "execution_count": null,
      "outputs": [
        {
          "output_type": "execute_result",
          "data": {
            "text/plain": [
              "False"
            ]
          },
          "metadata": {
            "tags": []
          },
          "execution_count": 141
        }
      ]
    },
    {
      "cell_type": "markdown",
      "metadata": {
        "id": "wwR4f1yMmjZF",
        "colab_type": "text"
      },
      "source": [
        "Desigualdad"
      ]
    },
    {
      "cell_type": "code",
      "metadata": {
        "id": "yC1nsjq4mkl5",
        "colab_type": "code",
        "colab": {
          "base_uri": "https://localhost:8080/",
          "height": 34
        },
        "outputId": "c5ec7562-1f89-4528-d16e-1f97da982441"
      },
      "source": [
        "3 != 4"
      ],
      "execution_count": null,
      "outputs": [
        {
          "output_type": "execute_result",
          "data": {
            "text/plain": [
              "True"
            ]
          },
          "metadata": {
            "tags": []
          },
          "execution_count": 142
        }
      ]
    },
    {
      "cell_type": "markdown",
      "metadata": {
        "id": "dAEj2YMNmwxv",
        "colab_type": "text"
      },
      "source": [
        "Menor a"
      ]
    },
    {
      "cell_type": "code",
      "metadata": {
        "id": "u1yu6Dh6myX0",
        "colab_type": "code",
        "colab": {
          "base_uri": "https://localhost:8080/",
          "height": 34
        },
        "outputId": "f12d0e37-381e-4a9f-ada0-13fe5e587a2a"
      },
      "source": [
        "3 < 4"
      ],
      "execution_count": null,
      "outputs": [
        {
          "output_type": "execute_result",
          "data": {
            "text/plain": [
              "True"
            ]
          },
          "metadata": {
            "tags": []
          },
          "execution_count": 143
        }
      ]
    },
    {
      "cell_type": "markdown",
      "metadata": {
        "id": "FsOblKjamyjB",
        "colab_type": "text"
      },
      "source": [
        "Menor o igual a"
      ]
    },
    {
      "cell_type": "code",
      "metadata": {
        "id": "7pcGYg52mysa",
        "colab_type": "code",
        "colab": {
          "base_uri": "https://localhost:8080/",
          "height": 34
        },
        "outputId": "b003b706-682d-4bbd-d857-02321ce7502b"
      },
      "source": [
        "3 <= 4"
      ],
      "execution_count": null,
      "outputs": [
        {
          "output_type": "execute_result",
          "data": {
            "text/plain": [
              "True"
            ]
          },
          "metadata": {
            "tags": []
          },
          "execution_count": 144
        }
      ]
    },
    {
      "cell_type": "markdown",
      "metadata": {
        "id": "cHVI37vDmy1o",
        "colab_type": "text"
      },
      "source": [
        "Mayor a"
      ]
    },
    {
      "cell_type": "code",
      "metadata": {
        "id": "gKISSkNEmy-p",
        "colab_type": "code",
        "colab": {
          "base_uri": "https://localhost:8080/",
          "height": 34
        },
        "outputId": "96bc9a52-8d52-46f4-bd34-b5824615b811"
      },
      "source": [
        "3 > 4"
      ],
      "execution_count": null,
      "outputs": [
        {
          "output_type": "execute_result",
          "data": {
            "text/plain": [
              "False"
            ]
          },
          "metadata": {
            "tags": []
          },
          "execution_count": 145
        }
      ]
    },
    {
      "cell_type": "markdown",
      "metadata": {
        "id": "FarSKcyCmzH6",
        "colab_type": "text"
      },
      "source": [
        "Mayor o igual a"
      ]
    },
    {
      "cell_type": "code",
      "metadata": {
        "id": "2gVpS-GemzRK",
        "colab_type": "code",
        "colab": {
          "base_uri": "https://localhost:8080/",
          "height": 34
        },
        "outputId": "2a2af7c3-fa1e-4076-f4e2-b039cc3a1ecf"
      },
      "source": [
        "3 >= 4"
      ],
      "execution_count": null,
      "outputs": [
        {
          "output_type": "execute_result",
          "data": {
            "text/plain": [
              "False"
            ]
          },
          "metadata": {
            "tags": []
          },
          "execution_count": 146
        }
      ]
    },
    {
      "cell_type": "markdown",
      "metadata": {
        "id": "YnskfrNjmzaR",
        "colab_type": "text"
      },
      "source": [
        "Negación"
      ]
    },
    {
      "cell_type": "code",
      "metadata": {
        "id": "byEw1LPSlYw9",
        "colab_type": "code",
        "colab": {
          "base_uri": "https://localhost:8080/",
          "height": 34
        },
        "outputId": "5039f7ef-db1a-4a1c-a2a3-8afd0d3ba031"
      },
      "source": [
        "not False"
      ],
      "execution_count": null,
      "outputs": [
        {
          "output_type": "execute_result",
          "data": {
            "text/plain": [
              "True"
            ]
          },
          "metadata": {
            "tags": []
          },
          "execution_count": 147
        }
      ]
    },
    {
      "cell_type": "code",
      "metadata": {
        "id": "bghyCE4clans",
        "colab_type": "code",
        "colab": {
          "base_uri": "https://localhost:8080/",
          "height": 34
        },
        "outputId": "26b52354-4aa4-4b58-a36e-4180236dc930"
      },
      "source": [
        "not (\"Hola\"=='Hola')"
      ],
      "execution_count": null,
      "outputs": [
        {
          "output_type": "execute_result",
          "data": {
            "text/plain": [
              "False"
            ]
          },
          "metadata": {
            "tags": []
          },
          "execution_count": 148
        }
      ]
    },
    {
      "cell_type": "markdown",
      "metadata": {
        "id": "5kN-JSzjlghC",
        "colab_type": "text"
      },
      "source": [
        "Conjunción"
      ]
    },
    {
      "cell_type": "code",
      "metadata": {
        "id": "3YGQCQ9vpPf8",
        "colab_type": "code",
        "colab": {
          "base_uri": "https://localhost:8080/",
          "height": 34
        },
        "outputId": "c1175182-3c48-4615-8959-3e3ec98f2bdd"
      },
      "source": [
        "a = 1\n",
        "b = 2\n",
        "\n",
        "a == 1 and b > a"
      ],
      "execution_count": null,
      "outputs": [
        {
          "output_type": "execute_result",
          "data": {
            "text/plain": [
              "True"
            ]
          },
          "metadata": {
            "tags": []
          },
          "execution_count": 149
        }
      ]
    },
    {
      "cell_type": "markdown",
      "metadata": {
        "id": "LiWAUg3OSZKz",
        "colab_type": "text"
      },
      "source": [
        "Disyunción"
      ]
    },
    {
      "cell_type": "code",
      "metadata": {
        "id": "WScFBOKYSby5",
        "colab_type": "code",
        "colab": {
          "base_uri": "https://localhost:8080/",
          "height": 34
        },
        "outputId": "76aad935-d839-4988-d8bf-27ee02b6d937"
      },
      "source": [
        "3 > 4 or 3 >2"
      ],
      "execution_count": null,
      "outputs": [
        {
          "output_type": "execute_result",
          "data": {
            "text/plain": [
              "True"
            ]
          },
          "metadata": {
            "tags": []
          },
          "execution_count": 150
        }
      ]
    },
    {
      "cell_type": "markdown",
      "metadata": {
        "id": "7jQS-a2sZ8bv",
        "colab_type": "text"
      },
      "source": [
        "## Estructuras de Datos\n",
        "\n",
        "### Listas\n",
        "\n",
        "Las listas son contenedores que contienen diferentes objetos y se crean utilizando corchetes"
      ]
    },
    {
      "cell_type": "code",
      "metadata": {
        "id": "bwfp_USyaJFc",
        "colab_type": "code",
        "colab": {
          "base_uri": "https://localhost:8080/",
          "height": 34
        },
        "outputId": "bf320230-4147-4b62-d0ac-9860089dab2e"
      },
      "source": [
        "lista = [1,2,3,'Las listas pueden contener strings',['y también','otras listas']]\n",
        "\n",
        "lista"
      ],
      "execution_count": null,
      "outputs": [
        {
          "output_type": "execute_result",
          "data": {
            "text/plain": [
              "[1, 2, 3, 'Las listas pueden contener strings', ['y también', 'otras listas']]"
            ]
          },
          "metadata": {
            "tags": []
          },
          "execution_count": 151
        }
      ]
    },
    {
      "cell_type": "markdown",
      "metadata": {
        "id": "STQS-7n-6YFp",
        "colab_type": "text"
      },
      "source": [
        "#### Tamaño de la lista\n"
      ]
    },
    {
      "cell_type": "code",
      "metadata": {
        "id": "hQPUwW_m6e8H",
        "colab_type": "code",
        "colab": {
          "base_uri": "https://localhost:8080/",
          "height": 34
        },
        "outputId": "463a5d8e-9b47-489a-81fd-0e71927477ea"
      },
      "source": [
        "len(lista)"
      ],
      "execution_count": null,
      "outputs": [
        {
          "output_type": "execute_result",
          "data": {
            "text/plain": [
              "5"
            ]
          },
          "metadata": {
            "tags": []
          },
          "execution_count": 152
        }
      ]
    },
    {
      "cell_type": "markdown",
      "metadata": {
        "id": "tE9wAlKjbIwX",
        "colab_type": "text"
      },
      "source": [
        "#### Seleccionar elementos\n",
        "\n",
        "Los índices en python comienzan en 0, por lo tanto para seleccionar n-ésimo elemento, se debe poner entre corchetes el número (n-1)"
      ]
    },
    {
      "cell_type": "code",
      "metadata": {
        "id": "8U2P8AX9bbsm",
        "colab_type": "code",
        "colab": {
          "base_uri": "https://localhost:8080/",
          "height": 34
        },
        "outputId": "48cfb731-b5c6-4be9-fee9-6db58944af71"
      },
      "source": [
        "lista[1]"
      ],
      "execution_count": null,
      "outputs": [
        {
          "output_type": "execute_result",
          "data": {
            "text/plain": [
              "2"
            ]
          },
          "metadata": {
            "tags": []
          },
          "execution_count": 153
        }
      ]
    },
    {
      "cell_type": "markdown",
      "metadata": {
        "id": "ACDDaqf2bgzC",
        "colab_type": "text"
      },
      "source": [
        "Como vemos, al poner 1, se selecciona el segundo elemento.\n",
        "\n",
        "Si quiero seleccionar más de un elemento, debo poner un *slice*. Los slices me indican el rango de elementos que voy a seleccionar, separando por : los límites de la selección.\n",
        "\n",
        "El límite inferior está incluido, mientras que el superior no."
      ]
    },
    {
      "cell_type": "code",
      "metadata": {
        "id": "ns99Oes2buVJ",
        "colab_type": "code",
        "colab": {
          "base_uri": "https://localhost:8080/",
          "height": 34
        },
        "outputId": "901b116e-6235-4b45-c01f-e5697e585a6c"
      },
      "source": [
        "lista[2:4]"
      ],
      "execution_count": null,
      "outputs": [
        {
          "output_type": "execute_result",
          "data": {
            "text/plain": [
              "[3, 'Las listas pueden contener strings']"
            ]
          },
          "metadata": {
            "tags": []
          },
          "execution_count": 154
        }
      ]
    },
    {
      "cell_type": "markdown",
      "metadata": {
        "id": "MX8_6qaPcfTV",
        "colab_type": "text"
      },
      "source": [
        "Si quiero todos los elementos a partir de un índice dejo en blanco a la derecha de :"
      ]
    },
    {
      "cell_type": "code",
      "metadata": {
        "id": "NB5ghVGzcnl1",
        "colab_type": "code",
        "colab": {
          "base_uri": "https://localhost:8080/",
          "height": 34
        },
        "outputId": "68bb612e-1c57-4ebc-8d5b-d7b787761272"
      },
      "source": [
        "lista[3:]"
      ],
      "execution_count": null,
      "outputs": [
        {
          "output_type": "execute_result",
          "data": {
            "text/plain": [
              "['Las listas pueden contener strings', ['y también', 'otras listas']]"
            ]
          },
          "metadata": {
            "tags": []
          },
          "execution_count": 155
        }
      ]
    },
    {
      "cell_type": "markdown",
      "metadata": {
        "id": "0udaj8UfcrWA",
        "colab_type": "text"
      },
      "source": [
        "Si quiero todos los elementos hasta cierto índice, dejo en blanco a la izquierda de : y a la derecha escribo el índice siguiente"
      ]
    },
    {
      "cell_type": "code",
      "metadata": {
        "id": "vPwP3Tqdc0jI",
        "colab_type": "code",
        "colab": {
          "base_uri": "https://localhost:8080/",
          "height": 34
        },
        "outputId": "fa4b0d2a-fb63-465c-83cc-d90e79923dfb"
      },
      "source": [
        "lista[:3]"
      ],
      "execution_count": null,
      "outputs": [
        {
          "output_type": "execute_result",
          "data": {
            "text/plain": [
              "[1, 2, 3]"
            ]
          },
          "metadata": {
            "tags": []
          },
          "execution_count": 156
        }
      ]
    },
    {
      "cell_type": "markdown",
      "metadata": {
        "id": "9J_o8rlmdAd3",
        "colab_type": "text"
      },
      "source": [
        "Puedo indicar elementos desde el último poniendo los índices en signo negativo, correspondiéndole al último elemento el índice -1"
      ]
    },
    {
      "cell_type": "code",
      "metadata": {
        "id": "22qRs_41dR0a",
        "colab_type": "code",
        "colab": {
          "base_uri": "https://localhost:8080/",
          "height": 34
        },
        "outputId": "bf1f1aa1-fc34-43e1-8411-781c14241bd6"
      },
      "source": [
        "lista[-1]"
      ],
      "execution_count": null,
      "outputs": [
        {
          "output_type": "execute_result",
          "data": {
            "text/plain": [
              "['y también', 'otras listas']"
            ]
          },
          "metadata": {
            "tags": []
          },
          "execution_count": 157
        }
      ]
    },
    {
      "cell_type": "code",
      "metadata": {
        "id": "uv4sPXaqdUBJ",
        "colab_type": "code",
        "colab": {
          "base_uri": "https://localhost:8080/",
          "height": 34
        },
        "outputId": "9927797d-9d61-44fd-e62e-7a726c339872"
      },
      "source": [
        "lista[-2]"
      ],
      "execution_count": null,
      "outputs": [
        {
          "output_type": "execute_result",
          "data": {
            "text/plain": [
              "'Las listas pueden contener strings'"
            ]
          },
          "metadata": {
            "tags": []
          },
          "execution_count": 158
        }
      ]
    },
    {
      "cell_type": "code",
      "metadata": {
        "id": "SDgeF5YedT_L",
        "colab_type": "code",
        "colab": {
          "base_uri": "https://localhost:8080/",
          "height": 34
        },
        "outputId": "d0f64191-5369-4024-ee0b-bbd038e3d649"
      },
      "source": [
        "lista[-3:-1]"
      ],
      "execution_count": null,
      "outputs": [
        {
          "output_type": "execute_result",
          "data": {
            "text/plain": [
              "[3, 'Las listas pueden contener strings']"
            ]
          },
          "metadata": {
            "tags": []
          },
          "execution_count": 159
        }
      ]
    },
    {
      "cell_type": "markdown",
      "metadata": {
        "id": "OifRbFdXeDFf",
        "colab_type": "text"
      },
      "source": [
        "Si quiero cambiar el orden de la lista, agrego un nuevo : en el slicing y pongo -1"
      ]
    },
    {
      "cell_type": "code",
      "metadata": {
        "id": "CxHnnuEXdw4C",
        "colab_type": "code",
        "colab": {
          "base_uri": "https://localhost:8080/",
          "height": 34
        },
        "outputId": "d4fbf584-b9bb-4be7-bd17-10f126283c5e"
      },
      "source": [
        "lista[3:0:-1]"
      ],
      "execution_count": null,
      "outputs": [
        {
          "output_type": "execute_result",
          "data": {
            "text/plain": [
              "['Las listas pueden contener strings', 3, 2]"
            ]
          },
          "metadata": {
            "tags": []
          },
          "execution_count": 160
        }
      ]
    },
    {
      "cell_type": "markdown",
      "metadata": {
        "id": "C67AdAA0eWJx",
        "colab_type": "text"
      },
      "source": [
        "Lo cual también sirve para saltear elementos"
      ]
    },
    {
      "cell_type": "code",
      "metadata": {
        "id": "KtTeMpZWeZD5",
        "colab_type": "code",
        "colab": {
          "base_uri": "https://localhost:8080/",
          "height": 34
        },
        "outputId": "fa58bed1-6cc2-4bbe-ae1f-a61944fa2042"
      },
      "source": [
        "lista[::2]"
      ],
      "execution_count": null,
      "outputs": [
        {
          "output_type": "execute_result",
          "data": {
            "text/plain": [
              "[1, 3, ['y también', 'otras listas']]"
            ]
          },
          "metadata": {
            "tags": []
          },
          "execution_count": 161
        }
      ]
    },
    {
      "cell_type": "markdown",
      "metadata": {
        "id": "bc1uKMS-t6I8",
        "colab_type": "text"
      },
      "source": [
        "#### Buscar elementos"
      ]
    },
    {
      "cell_type": "code",
      "metadata": {
        "id": "maAKeNCiRQ2p",
        "colab_type": "code",
        "colab": {
          "base_uri": "https://localhost:8080/",
          "height": 34
        },
        "outputId": "8f627a64-b69b-4f73-ed0d-643017cecdf8"
      },
      "source": [
        "lista"
      ],
      "execution_count": null,
      "outputs": [
        {
          "output_type": "execute_result",
          "data": {
            "text/plain": [
              "[1, 2, 3, 'Las listas pueden contener strings', ['y también', 'otras listas']]"
            ]
          },
          "metadata": {
            "tags": []
          },
          "execution_count": 162
        }
      ]
    },
    {
      "cell_type": "markdown",
      "metadata": {
        "id": "yARjJInFRynY",
        "colab_type": "text"
      },
      "source": [
        "Traer el índice del primer elemento que coincida con algo que buscamos"
      ]
    },
    {
      "cell_type": "code",
      "metadata": {
        "id": "7nwpf6DcuNvw",
        "colab_type": "code",
        "colab": {
          "base_uri": "https://localhost:8080/",
          "height": 34
        },
        "outputId": "f79c8d78-aab8-4a98-b303-437a26a4e9cf"
      },
      "source": [
        "lista.index(3)"
      ],
      "execution_count": null,
      "outputs": [
        {
          "output_type": "execute_result",
          "data": {
            "text/plain": [
              "2"
            ]
          },
          "metadata": {
            "tags": []
          },
          "execution_count": 163
        }
      ]
    },
    {
      "cell_type": "code",
      "metadata": {
        "id": "3rnKiPiARTwA",
        "colab_type": "code",
        "colab": {
          "base_uri": "https://localhost:8080/",
          "height": 163
        },
        "outputId": "79bf84ce-fea0-46a0-b01c-2f960bb5765f"
      },
      "source": [
        "lista.index(4)"
      ],
      "execution_count": null,
      "outputs": [
        {
          "output_type": "error",
          "ename": "ValueError",
          "evalue": "ignored",
          "traceback": [
            "\u001b[0;31m---------------------------------------------------------------------------\u001b[0m",
            "\u001b[0;31mValueError\u001b[0m                                Traceback (most recent call last)",
            "\u001b[0;32m<ipython-input-164-25f8ed480b4d>\u001b[0m in \u001b[0;36m<module>\u001b[0;34m()\u001b[0m\n\u001b[0;32m----> 1\u001b[0;31m \u001b[0mlista\u001b[0m\u001b[0;34m.\u001b[0m\u001b[0mindex\u001b[0m\u001b[0;34m(\u001b[0m\u001b[0;36m4\u001b[0m\u001b[0;34m)\u001b[0m\u001b[0;34m\u001b[0m\u001b[0m\n\u001b[0m",
            "\u001b[0;31mValueError\u001b[0m: 4 is not in list"
          ]
        }
      ]
    },
    {
      "cell_type": "markdown",
      "metadata": {
        "id": "8EA902dSR0no",
        "colab_type": "text"
      },
      "source": [
        "Comprobar si un elemento está en la lista"
      ]
    },
    {
      "cell_type": "code",
      "metadata": {
        "id": "ozbboOUfR3WF",
        "colab_type": "code",
        "colab": {
          "base_uri": "https://localhost:8080/",
          "height": 34
        },
        "outputId": "01f0d3e2-e1d7-4f2a-f35b-be021b9a5302"
      },
      "source": [
        "3 in lista"
      ],
      "execution_count": null,
      "outputs": [
        {
          "output_type": "execute_result",
          "data": {
            "text/plain": [
              "True"
            ]
          },
          "metadata": {
            "tags": []
          },
          "execution_count": 63
        }
      ]
    },
    {
      "cell_type": "code",
      "metadata": {
        "id": "WGOv4ToPR4XC",
        "colab_type": "code",
        "colab": {
          "base_uri": "https://localhost:8080/",
          "height": 34
        },
        "outputId": "42a7631b-665b-47c4-a13e-183d11b5ab13"
      },
      "source": [
        "4 in lista"
      ],
      "execution_count": null,
      "outputs": [
        {
          "output_type": "execute_result",
          "data": {
            "text/plain": [
              "False"
            ]
          },
          "metadata": {
            "tags": []
          },
          "execution_count": 64
        }
      ]
    },
    {
      "cell_type": "markdown",
      "metadata": {
        "id": "VOLDHrmwY95l",
        "colab_type": "text"
      },
      "source": [
        "#### Modificar elementos"
      ]
    },
    {
      "cell_type": "code",
      "metadata": {
        "id": "yugmhSYVZC5G",
        "colab_type": "code",
        "colab": {
          "base_uri": "https://localhost:8080/",
          "height": 34
        },
        "outputId": "70c325dc-0c80-4071-c721-56e8e2df5fb1"
      },
      "source": [
        "lista[0]=10\n",
        "\n",
        "lista"
      ],
      "execution_count": null,
      "outputs": [
        {
          "output_type": "execute_result",
          "data": {
            "text/plain": [
              "[10, 2, 3, 'Las listas pueden contener strings', ['y también', 'otras listas']]"
            ]
          },
          "metadata": {
            "tags": []
          },
          "execution_count": 65
        }
      ]
    },
    {
      "cell_type": "markdown",
      "metadata": {
        "id": "jMdVt_1Ha1gi",
        "colab_type": "text"
      },
      "source": [
        "#### Agregar elementos"
      ]
    },
    {
      "cell_type": "code",
      "metadata": {
        "id": "OFKhW2yAa7Gs",
        "colab_type": "code",
        "colab": {
          "base_uri": "https://localhost:8080/",
          "height": 119
        },
        "outputId": "533842c0-8105-4016-9477-91139609fe50"
      },
      "source": [
        "lista.append('agregado')\n",
        "\n",
        "lista"
      ],
      "execution_count": null,
      "outputs": [
        {
          "output_type": "execute_result",
          "data": {
            "text/plain": [
              "[10,\n",
              " 2,\n",
              " 3,\n",
              " 'Las listas pueden contener strings',\n",
              " ['y también', 'otras listas'],\n",
              " 'agregado']"
            ]
          },
          "metadata": {
            "tags": []
          },
          "execution_count": 66
        }
      ]
    },
    {
      "cell_type": "markdown",
      "metadata": {
        "id": "K_a--pHWffz6",
        "colab_type": "text"
      },
      "source": [
        "#### Eliminar elementos\n",
        "\n",
        "El método pop elimina el último elemento y lo muesta"
      ]
    },
    {
      "cell_type": "code",
      "metadata": {
        "id": "yL7YdeXQtxix",
        "colab_type": "code",
        "colab": {
          "base_uri": "https://localhost:8080/",
          "height": 119
        },
        "outputId": "8c63275d-bd2c-424d-910b-f0379120fc3c"
      },
      "source": [
        "lista"
      ],
      "execution_count": null,
      "outputs": [
        {
          "output_type": "execute_result",
          "data": {
            "text/plain": [
              "[10,\n",
              " 2,\n",
              " 3,\n",
              " 'Las listas pueden contener strings',\n",
              " ['y también', 'otras listas'],\n",
              " 'agregado']"
            ]
          },
          "metadata": {
            "tags": []
          },
          "execution_count": 67
        }
      ]
    },
    {
      "cell_type": "code",
      "metadata": {
        "id": "_CBXEa8rfqUr",
        "colab_type": "code",
        "colab": {
          "base_uri": "https://localhost:8080/",
          "height": 34
        },
        "outputId": "44692fe5-860c-4a1a-b330-5cc630efc53f"
      },
      "source": [
        "lista.pop()"
      ],
      "execution_count": null,
      "outputs": [
        {
          "output_type": "execute_result",
          "data": {
            "text/plain": [
              "'agregado'"
            ]
          },
          "metadata": {
            "tags": []
          },
          "execution_count": 68
        }
      ]
    },
    {
      "cell_type": "code",
      "metadata": {
        "id": "PHtkDzIxftBU",
        "colab_type": "code",
        "colab": {
          "base_uri": "https://localhost:8080/",
          "height": 34
        },
        "outputId": "6cbf7b1d-b7ca-48ab-d50e-62d2fa44a755"
      },
      "source": [
        "lista"
      ],
      "execution_count": null,
      "outputs": [
        {
          "output_type": "execute_result",
          "data": {
            "text/plain": [
              "[10, 2, 3, 'Las listas pueden contener strings', ['y también', 'otras listas']]"
            ]
          },
          "metadata": {
            "tags": []
          },
          "execution_count": 69
        }
      ]
    },
    {
      "cell_type": "markdown",
      "metadata": {
        "id": "f2U0LG7gUrec",
        "colab_type": "text"
      },
      "source": [
        "Se pueden eliminar elementos por índice"
      ]
    },
    {
      "cell_type": "code",
      "metadata": {
        "id": "jhGmrWklUvL9",
        "colab_type": "code",
        "colab": {
          "base_uri": "https://localhost:8080/",
          "height": 34
        },
        "outputId": "85ad3125-b681-400d-e2f7-189430e11527"
      },
      "source": [
        "del lista[1]\n",
        "\n",
        "lista"
      ],
      "execution_count": null,
      "outputs": [
        {
          "output_type": "execute_result",
          "data": {
            "text/plain": [
              "[10, 3, 'Las listas pueden contener strings', ['y también', 'otras listas']]"
            ]
          },
          "metadata": {
            "tags": []
          },
          "execution_count": 70
        }
      ]
    },
    {
      "cell_type": "markdown",
      "metadata": {
        "id": "3ue0h6qDU17h",
        "colab_type": "text"
      },
      "source": [
        "Se pueden elminar elementos de algún valor en particular "
      ]
    },
    {
      "cell_type": "code",
      "metadata": {
        "id": "DruylEWlU9GA",
        "colab_type": "code",
        "colab": {
          "base_uri": "https://localhost:8080/",
          "height": 34
        },
        "outputId": "a44fcfc1-ce3f-45d9-81b5-8959b2707b3f"
      },
      "source": [
        "lista.remove(3)\n",
        "\n",
        "lista"
      ],
      "execution_count": null,
      "outputs": [
        {
          "output_type": "execute_result",
          "data": {
            "text/plain": [
              "[10, 'Las listas pueden contener strings', ['y también', 'otras listas']]"
            ]
          },
          "metadata": {
            "tags": []
          },
          "execution_count": 71
        }
      ]
    },
    {
      "cell_type": "markdown",
      "metadata": {
        "id": "Gb5S_HTIedZe",
        "colab_type": "text"
      },
      "source": [
        "#### Concatenar listas\n",
        "\n",
        "Para concatenar listas creando una nueva lista, se usa el símbolo +"
      ]
    },
    {
      "cell_type": "code",
      "metadata": {
        "id": "2z-rCkoiexZs",
        "colab_type": "code",
        "colab": {
          "base_uri": "https://localhost:8080/",
          "height": 119
        },
        "outputId": "29a6f515-0adb-4e50-9c35-c087ddb4a601"
      },
      "source": [
        "lista + [20,30,50]"
      ],
      "execution_count": null,
      "outputs": [
        {
          "output_type": "execute_result",
          "data": {
            "text/plain": [
              "[10,\n",
              " 'Las listas pueden contener strings',\n",
              " ['y también', 'otras listas'],\n",
              " 20,\n",
              " 30,\n",
              " 50]"
            ]
          },
          "metadata": {
            "tags": []
          },
          "execution_count": 72
        }
      ]
    },
    {
      "cell_type": "markdown",
      "metadata": {
        "id": "fLtl-ZuYVUsh",
        "colab_type": "text"
      },
      "source": [
        "En caso de querer incorporar los elementos a la lista"
      ]
    },
    {
      "cell_type": "code",
      "metadata": {
        "id": "X5EKZx1AXf52",
        "colab_type": "code",
        "colab": {
          "base_uri": "https://localhost:8080/",
          "height": 102
        },
        "outputId": "3dccde13-dec3-4547-f453-8f77b9050b70"
      },
      "source": [
        "lista.extend(['agrego esto','y esto'])\n",
        "\n",
        "lista"
      ],
      "execution_count": null,
      "outputs": [
        {
          "output_type": "execute_result",
          "data": {
            "text/plain": [
              "[10,\n",
              " 'Las listas pueden contener strings',\n",
              " ['y también', 'otras listas'],\n",
              " 'agrego esto',\n",
              " 'y esto']"
            ]
          },
          "metadata": {
            "tags": []
          },
          "execution_count": 73
        }
      ]
    },
    {
      "cell_type": "markdown",
      "metadata": {
        "id": "xndkD2JGX5xd",
        "colab_type": "text"
      },
      "source": [
        "Multiplicar una lista por un escalar concatena la lista con sí misma esa cantidad de veces"
      ]
    },
    {
      "cell_type": "code",
      "metadata": {
        "id": "_ghWCrcQYI6g",
        "colab_type": "code",
        "colab": {
          "base_uri": "https://localhost:8080/",
          "height": 272
        },
        "outputId": "1be215b3-0e09-44a4-d6cd-5d3a0ad4405f"
      },
      "source": [
        "lista * 3"
      ],
      "execution_count": null,
      "outputs": [
        {
          "output_type": "execute_result",
          "data": {
            "text/plain": [
              "[10,\n",
              " 'Las listas pueden contener strings',\n",
              " ['y también', 'otras listas'],\n",
              " 'agrego esto',\n",
              " 'y esto',\n",
              " 10,\n",
              " 'Las listas pueden contener strings',\n",
              " ['y también', 'otras listas'],\n",
              " 'agrego esto',\n",
              " 'y esto',\n",
              " 10,\n",
              " 'Las listas pueden contener strings',\n",
              " ['y también', 'otras listas'],\n",
              " 'agrego esto',\n",
              " 'y esto']"
            ]
          },
          "metadata": {
            "tags": []
          },
          "execution_count": 74
        }
      ]
    },
    {
      "cell_type": "markdown",
      "metadata": {
        "id": "H3e6x03sYt0a",
        "colab_type": "text"
      },
      "source": [
        "### Tuplas\n",
        "\n",
        "Las tuplas son como las listas pero sus elementos son inmutables.\n",
        "Para crear una, se deben agregar los elementos entre ()"
      ]
    },
    {
      "cell_type": "code",
      "metadata": {
        "id": "-0-eKr3IePTD",
        "colab_type": "code",
        "colab": {
          "base_uri": "https://localhost:8080/",
          "height": 34
        },
        "outputId": "fa46adb3-4ef0-4e2c-973b-16328ce58524"
      },
      "source": [
        "tupla = (1,2,3,4)\n",
        "\n",
        "tupla"
      ],
      "execution_count": null,
      "outputs": [
        {
          "output_type": "execute_result",
          "data": {
            "text/plain": [
              "(1, 2, 3, 4)"
            ]
          },
          "metadata": {
            "tags": []
          },
          "execution_count": 76
        }
      ]
    },
    {
      "cell_type": "code",
      "metadata": {
        "id": "hxkWw2DNefZa",
        "colab_type": "code",
        "colab": {
          "base_uri": "https://localhost:8080/",
          "height": 163
        },
        "outputId": "9cdd3ee9-0f70-44ec-da6d-30f351160d7b"
      },
      "source": [
        "tupla[1] = 20"
      ],
      "execution_count": null,
      "outputs": [
        {
          "output_type": "error",
          "ename": "TypeError",
          "evalue": "ignored",
          "traceback": [
            "\u001b[0;31m---------------------------------------------------------------------------\u001b[0m",
            "\u001b[0;31mTypeError\u001b[0m                                 Traceback (most recent call last)",
            "\u001b[0;32m<ipython-input-77-68914336887d>\u001b[0m in \u001b[0;36m<module>\u001b[0;34m()\u001b[0m\n\u001b[0;32m----> 1\u001b[0;31m \u001b[0mtupla\u001b[0m\u001b[0;34m[\u001b[0m\u001b[0;36m1\u001b[0m\u001b[0;34m]\u001b[0m \u001b[0;34m=\u001b[0m \u001b[0;36m20\u001b[0m\u001b[0;34m\u001b[0m\u001b[0m\n\u001b[0m",
            "\u001b[0;31mTypeError\u001b[0m: 'tuple' object does not support item assignment"
          ]
        }
      ]
    },
    {
      "cell_type": "markdown",
      "metadata": {
        "id": "YwE5v0iOeq8c",
        "colab_type": "text"
      },
      "source": [
        "### Diccionarios\n",
        "\n",
        "Los diccionarios son una estructura para mapear claves a valores.\n",
        "\n",
        "Se generan poniendo la clave valor entre {}"
      ]
    },
    {
      "cell_type": "code",
      "metadata": {
        "id": "W-TmdNMbe3_A",
        "colab_type": "code",
        "colab": {
          "base_uri": "https://localhost:8080/",
          "height": 34
        },
        "outputId": "af3bb3f5-4185-4833-d13b-d48d16c38f55"
      },
      "source": [
        "diccionarioVacio = {}\n",
        "\n",
        "diccionarioVacio"
      ],
      "execution_count": null,
      "outputs": [
        {
          "output_type": "execute_result",
          "data": {
            "text/plain": [
              "{}"
            ]
          },
          "metadata": {
            "tags": []
          },
          "execution_count": 78
        }
      ]
    },
    {
      "cell_type": "code",
      "metadata": {
        "id": "GL7ZYKnrfL_-",
        "colab_type": "code",
        "colab": {
          "base_uri": "https://localhost:8080/",
          "height": 68
        },
        "outputId": "c2f84120-ba8d-4781-b3ae-5738d9502f7c"
      },
      "source": [
        "curso = {'nombre':'Python para Data science',\n",
        "        'cantidad de clases':5,\n",
        "        'profesores':['Federico','Matías','Alfredo']}\n",
        "\n",
        "curso"
      ],
      "execution_count": null,
      "outputs": [
        {
          "output_type": "execute_result",
          "data": {
            "text/plain": [
              "{'cantidad de clases': 5,\n",
              " 'nombre': 'Python para Data science',\n",
              " 'profesores': ['Federico', 'Matías', 'Alfredo']}"
            ]
          },
          "metadata": {
            "tags": []
          },
          "execution_count": 84
        }
      ]
    },
    {
      "cell_type": "markdown",
      "metadata": {
        "id": "hBKzujV0flBy",
        "colab_type": "text"
      },
      "source": [
        "Como podemos ver, la impresión no es en el orden en el cual fue creado.\n",
        "\n",
        "Para invocar un elemento, se llama la clave entre []"
      ]
    },
    {
      "cell_type": "code",
      "metadata": {
        "id": "mY_eALzggBJt",
        "colab_type": "code",
        "colab": {
          "base_uri": "https://localhost:8080/",
          "height": 34
        },
        "outputId": "4f5a2c0f-3e3b-4333-c7ef-2f10a5e11232"
      },
      "source": [
        "curso['nombre']"
      ],
      "execution_count": null,
      "outputs": [
        {
          "output_type": "execute_result",
          "data": {
            "text/plain": [
              "'Python para Data science'"
            ]
          },
          "metadata": {
            "tags": []
          },
          "execution_count": 85
        }
      ]
    },
    {
      "cell_type": "code",
      "metadata": {
        "id": "7PiR8YeGgIUe",
        "colab_type": "code",
        "colab": {
          "base_uri": "https://localhost:8080/",
          "height": 85
        },
        "outputId": "fd13971f-d620-440c-c61e-4bb884907d9b"
      },
      "source": [
        "curso['workshops']=1\n",
        "\n",
        "curso"
      ],
      "execution_count": null,
      "outputs": [
        {
          "output_type": "execute_result",
          "data": {
            "text/plain": [
              "{'cantidad de clases': 5,\n",
              " 'nombre': 'Python para Data science',\n",
              " 'profesores': ['Federico', 'Matías', 'Alfredo'],\n",
              " 'workshops': 1}"
            ]
          },
          "metadata": {
            "tags": []
          },
          "execution_count": 86
        }
      ]
    },
    {
      "cell_type": "code",
      "metadata": {
        "id": "JJd9I_7NgY5l",
        "colab_type": "code",
        "colab": {
          "base_uri": "https://localhost:8080/",
          "height": 85
        },
        "outputId": "220283a3-93c5-467b-e0b5-866cfc27fcb5"
      },
      "source": [
        "curso['nombre']='Python para Data Science'\n",
        "\n",
        "curso"
      ],
      "execution_count": null,
      "outputs": [
        {
          "output_type": "execute_result",
          "data": {
            "text/plain": [
              "{'cantidad de clases': 5,\n",
              " 'nombre': 'Python para Data Science',\n",
              " 'profesores': ['Federico', 'Matías', 'Alfredo'],\n",
              " 'workshops': 1}"
            ]
          },
          "metadata": {
            "tags": []
          },
          "execution_count": 87
        }
      ]
    },
    {
      "cell_type": "markdown",
      "metadata": {
        "id": "V4BE6U5uhMoR",
        "colab_type": "text"
      },
      "source": [
        "## Texto\n",
        "\n",
        "Python tiene la particularidad de poder tratar los strings como listas."
      ]
    },
    {
      "cell_type": "code",
      "metadata": {
        "id": "h6ws_sabhYi7",
        "colab_type": "code",
        "colab": {
          "base_uri": "https://localhost:8080/",
          "height": 34
        },
        "outputId": "41ace65e-4637-4bab-f66c-8fd79519511a"
      },
      "source": [
        "texto ='Always look at the bright side of life'\n",
        "\n",
        "texto"
      ],
      "execution_count": null,
      "outputs": [
        {
          "output_type": "execute_result",
          "data": {
            "text/plain": [
              "'Always look at the bright side of life'"
            ]
          },
          "metadata": {
            "tags": []
          },
          "execution_count": 94
        }
      ]
    },
    {
      "cell_type": "code",
      "metadata": {
        "id": "Ugk8siVyhc5I",
        "colab_type": "code",
        "colab": {
          "base_uri": "https://localhost:8080/",
          "height": 34
        },
        "outputId": "1c6b59d4-cf4d-4f91-c007-25dc9b0c5b92"
      },
      "source": [
        "texto[:3]"
      ],
      "execution_count": null,
      "outputs": [
        {
          "output_type": "execute_result",
          "data": {
            "text/plain": [
              "'Alw'"
            ]
          },
          "metadata": {
            "tags": []
          },
          "execution_count": 95
        }
      ]
    },
    {
      "cell_type": "code",
      "metadata": {
        "id": "9FvfK8vShne8",
        "colab_type": "code",
        "colab": {
          "base_uri": "https://localhost:8080/",
          "height": 34
        },
        "outputId": "3bb17e6a-f16a-4670-eb9c-7917e81e3803"
      },
      "source": [
        "texto[7:11]"
      ],
      "execution_count": null,
      "outputs": [
        {
          "output_type": "execute_result",
          "data": {
            "text/plain": [
              "'look'"
            ]
          },
          "metadata": {
            "tags": []
          },
          "execution_count": 97
        }
      ]
    },
    {
      "cell_type": "markdown",
      "metadata": {
        "id": "vetAPczFiK6o",
        "colab_type": "text"
      },
      "source": [
        "### Algunos métodos de los strings"
      ]
    },
    {
      "cell_type": "code",
      "metadata": {
        "id": "kIE_zjWqiErp",
        "colab_type": "code",
        "colab": {
          "base_uri": "https://localhost:8080/",
          "height": 34
        },
        "outputId": "cba38d71-566f-40e8-ec2c-c4c29dac4f5e"
      },
      "source": [
        "texto.upper()"
      ],
      "execution_count": null,
      "outputs": [
        {
          "output_type": "execute_result",
          "data": {
            "text/plain": [
              "'ALWAYS LOOK AT THE BRIGHT SIDE OF LIFE'"
            ]
          },
          "metadata": {
            "tags": []
          },
          "execution_count": 98
        }
      ]
    },
    {
      "cell_type": "code",
      "metadata": {
        "id": "sP5pUbgNiZrX",
        "colab_type": "code",
        "colab": {
          "base_uri": "https://localhost:8080/",
          "height": 34
        },
        "outputId": "58001d4b-9b50-497b-bfc7-5b22ea7d8dd9"
      },
      "source": [
        "texto.lower()"
      ],
      "execution_count": null,
      "outputs": [
        {
          "output_type": "execute_result",
          "data": {
            "text/plain": [
              "'always look at the bright side of life'"
            ]
          },
          "metadata": {
            "tags": []
          },
          "execution_count": 99
        }
      ]
    },
    {
      "cell_type": "code",
      "metadata": {
        "id": "mCJFr68RicV-",
        "colab_type": "code",
        "colab": {
          "base_uri": "https://localhost:8080/",
          "height": 34
        },
        "outputId": "0455b0b6-5c8c-460f-c105-eb1867259988"
      },
      "source": [
        "texto.split(' ')"
      ],
      "execution_count": null,
      "outputs": [
        {
          "output_type": "execute_result",
          "data": {
            "text/plain": [
              "['Always', 'look', 'at', 'the', 'bright', 'side', 'of', 'life']"
            ]
          },
          "metadata": {
            "tags": []
          },
          "execution_count": 100
        }
      ]
    },
    {
      "cell_type": "markdown",
      "metadata": {
        "id": "BLKtV0hFjUmI",
        "colab_type": "text"
      },
      "source": [
        "## Condicionales\n",
        "\n",
        "Para hacer un condicional, se debe poner if, la condición, luego : , identado en la línea siguiente lo que debe ejecutarse si se cumple la condición."
      ]
    },
    {
      "cell_type": "code",
      "metadata": {
        "id": "OfVzy_TcjQ_9",
        "colab_type": "code",
        "colab": {
          "base_uri": "https://localhost:8080/",
          "height": 34
        },
        "outputId": "b250c361-8477-4c02-efb2-a17374f8e7f9"
      },
      "source": [
        "numero = 5\n",
        "\n",
        "if numero < 4:\n",
        "  print('El número es menor que 4')\n",
        "elif numero < 6:\n",
        "  print('El número es menor que 6 pero mayor o igual a 4')\n",
        "else:\n",
        "  print('El número es mayor o igual a 6')"
      ],
      "execution_count": null,
      "outputs": [
        {
          "output_type": "stream",
          "text": [
            "El número es menor que 6 pero mayor o igual a 4\n"
          ],
          "name": "stdout"
        }
      ]
    },
    {
      "cell_type": "markdown",
      "metadata": {
        "id": "qVe1WsN2nekD",
        "colab_type": "text"
      },
      "source": [
        "Hay otra estructura para cuando se debe sólo devolver un valor"
      ]
    },
    {
      "cell_type": "code",
      "metadata": {
        "id": "MKJvrzNYnk-L",
        "colab_type": "code",
        "colab": {
          "base_uri": "https://localhost:8080/",
          "height": 34
        },
        "outputId": "230d0d4b-5ab6-4797-bb30-c99ad5beae2a"
      },
      "source": [
        "'El numero es menor a 5' if numero <5 else 'El numero es mayor o igual a 5'"
      ],
      "execution_count": null,
      "outputs": [
        {
          "output_type": "execute_result",
          "data": {
            "text/plain": [
              "'El numero es mayor o igual a 5'"
            ]
          },
          "metadata": {
            "tags": []
          },
          "execution_count": 104
        }
      ]
    },
    {
      "cell_type": "markdown",
      "metadata": {
        "id": "10uFn3Gtnyg9",
        "colab_type": "text"
      },
      "source": [
        "## Iteraciones\n",
        "\n",
        "### for loop"
      ]
    },
    {
      "cell_type": "code",
      "metadata": {
        "id": "HcJQteE5n8I-",
        "colab_type": "code",
        "colab": {
          "base_uri": "https://localhost:8080/",
          "height": 136
        },
        "outputId": "7f295f36-4a4a-42b5-9126-02346516dd82"
      },
      "source": [
        "iterar=[1,2,3,4,5,6,7]\n",
        "\n",
        "for i in iterar:\n",
        "  print(2**i)"
      ],
      "execution_count": null,
      "outputs": [
        {
          "output_type": "stream",
          "text": [
            "2\n",
            "4\n",
            "8\n",
            "16\n",
            "32\n",
            "64\n",
            "128\n"
          ],
          "name": "stdout"
        }
      ]
    },
    {
      "cell_type": "markdown",
      "metadata": {
        "id": "f2d6K0Cjoes9",
        "colab_type": "text"
      },
      "source": [
        "### while"
      ]
    },
    {
      "cell_type": "code",
      "metadata": {
        "id": "cXvfhk5voVuM",
        "colab_type": "code",
        "colab": {
          "base_uri": "https://localhost:8080/",
          "height": 153
        },
        "outputId": "40882053-9958-4d0d-b68a-98095ee8ff8e"
      },
      "source": [
        "resultado = 1\n",
        "i = 0\n",
        "\n",
        "while resultado < 1000:\n",
        "  resultado = 3**i\n",
        "  i+=1 #Esto suma 1 a la variable i\n",
        "  print(resultado)\n"
      ],
      "execution_count": null,
      "outputs": [
        {
          "output_type": "stream",
          "text": [
            "1\n",
            "3\n",
            "9\n",
            "27\n",
            "81\n",
            "243\n",
            "729\n",
            "2187\n"
          ],
          "name": "stdout"
        }
      ]
    },
    {
      "cell_type": "markdown",
      "metadata": {
        "id": "uaKiiFnHpJvS",
        "colab_type": "text"
      },
      "source": [
        "### list comprehension\n",
        "\n",
        "Es una forma de iterar sobre los valores de una lista y devolver una lista"
      ]
    },
    {
      "cell_type": "code",
      "metadata": {
        "id": "KFxTBeR_pTAw",
        "colab_type": "code",
        "colab": {
          "base_uri": "https://localhost:8080/",
          "height": 34
        },
        "outputId": "3b873eef-47e6-468f-9ebd-aa3d608e98bc"
      },
      "source": [
        "lista = [1,2,3,4,5,6,7,8]\n",
        "\n",
        "[x**2 for x in lista]"
      ],
      "execution_count": null,
      "outputs": [
        {
          "output_type": "execute_result",
          "data": {
            "text/plain": [
              "[1, 4, 9, 16, 25, 36, 49, 64]"
            ]
          },
          "metadata": {
            "tags": []
          },
          "execution_count": 107
        }
      ]
    },
    {
      "cell_type": "markdown",
      "metadata": {
        "id": "pZHuzUgQpbqI",
        "colab_type": "text"
      },
      "source": [
        "Se pueden agregar condiciones"
      ]
    },
    {
      "cell_type": "code",
      "metadata": {
        "id": "gM6_Hv2kph3-",
        "colab_type": "code",
        "colab": {
          "base_uri": "https://localhost:8080/",
          "height": 34
        },
        "outputId": "5f1ddeac-2124-43ec-dd02-b8b56eed77f4"
      },
      "source": [
        "[x**2 for x in lista if x%2==0]"
      ],
      "execution_count": null,
      "outputs": [
        {
          "output_type": "execute_result",
          "data": {
            "text/plain": [
              "[4, 16, 36, 64]"
            ]
          },
          "metadata": {
            "tags": []
          },
          "execution_count": 110
        }
      ]
    },
    {
      "cell_type": "code",
      "metadata": {
        "id": "U5P7C3J3pwG4",
        "colab_type": "code",
        "colab": {
          "base_uri": "https://localhost:8080/",
          "height": 34
        },
        "outputId": "cd3d9094-4338-4480-a009-32b7647a28f0"
      },
      "source": [
        "[x**2 if x%2==0 else -(x**2) for x in lista]"
      ],
      "execution_count": null,
      "outputs": [
        {
          "output_type": "execute_result",
          "data": {
            "text/plain": [
              "[-1, 4, -9, 16, -25, 36, -49, 64]"
            ]
          },
          "metadata": {
            "tags": []
          },
          "execution_count": 111
        }
      ]
    },
    {
      "cell_type": "markdown",
      "metadata": {
        "id": "E3CHtfTTpeKT",
        "colab_type": "text"
      },
      "source": [
        "## Funciones\n",
        "\n",
        "Para definir una función se debe escribir def, nombre de la función, parámetroes entre (), : y debajo identado lo que debe ejecutarse.\n",
        "\n",
        "En caso de devolverse un valor, se debe especificar lo que debe devolver con return."
      ]
    },
    {
      "cell_type": "code",
      "metadata": {
        "id": "ZR5LKn_zqSv0",
        "colab_type": "code",
        "colab": {
          "base_uri": "https://localhost:8080/",
          "height": 119
        },
        "outputId": "fcbd5518-2e2a-4622-f42c-378742ac5ceb"
      },
      "source": [
        "def imprimoCuadrados(x):\n",
        "  i=0\n",
        "  while i<=x:\n",
        "    print(i**2)\n",
        "    i+=1\n",
        "    \n",
        "imprimoCuadrados(5)"
      ],
      "execution_count": null,
      "outputs": [
        {
          "output_type": "stream",
          "text": [
            "0\n",
            "1\n",
            "4\n",
            "9\n",
            "16\n",
            "25\n"
          ],
          "name": "stdout"
        }
      ]
    },
    {
      "cell_type": "code",
      "metadata": {
        "id": "MjIP45INqxhj",
        "colab_type": "code",
        "colab": {
          "base_uri": "https://localhost:8080/",
          "height": 34
        },
        "outputId": "5e791f55-a83b-4afe-f937-be418c3567ab"
      },
      "source": [
        "def pasoAMayusculaYSeparo(texto):\n",
        "  separado = texto.upper().split(' ')\n",
        "  return separado\n",
        "  \n",
        "pasoAMayusculaYSeparo('Este Ejemplo es malo')"
      ],
      "execution_count": null,
      "outputs": [
        {
          "output_type": "execute_result",
          "data": {
            "text/plain": [
              "['ESTE', 'EJEMPLO', 'ES', 'MALO']"
            ]
          },
          "metadata": {
            "tags": []
          },
          "execution_count": 115
        }
      ]
    },
    {
      "cell_type": "code",
      "metadata": {
        "id": "C_C-HXhYrJJ2",
        "colab_type": "code",
        "colab": {
          "base_uri": "https://localhost:8080/",
          "height": 34
        },
        "outputId": "eb56bf47-4a13-40a7-bd21-0c9032e1a809"
      },
      "source": [
        "def potencia(x,y):\n",
        "  return x**y\n",
        "\n",
        "potencia(3,2)"
      ],
      "execution_count": null,
      "outputs": [
        {
          "output_type": "execute_result",
          "data": {
            "text/plain": [
              "9"
            ]
          },
          "metadata": {
            "tags": []
          },
          "execution_count": 117
        }
      ]
    },
    {
      "cell_type": "markdown",
      "metadata": {
        "id": "_hREmD2trunT",
        "colab_type": "text"
      },
      "source": [
        "### Funciones lambda\n",
        "\n",
        "Las funciones lambda son funcione anónimas, por lo cual se puede utilizar sin que persistan en memoria"
      ]
    },
    {
      "cell_type": "code",
      "metadata": {
        "id": "AtjKSV4vr5ed",
        "colab_type": "code",
        "colab": {
          "base_uri": "https://localhost:8080/",
          "height": 34
        },
        "outputId": "7381f257-401f-4e10-b472-ace1f0a5c5e7"
      },
      "source": [
        "(lambda x:x[0:5])('Acá pongo un texto por ponerlo')"
      ],
      "execution_count": null,
      "outputs": [
        {
          "output_type": "execute_result",
          "data": {
            "text/plain": [
              "'Acá p'"
            ]
          },
          "metadata": {
            "tags": []
          },
          "execution_count": 118
        }
      ]
    },
    {
      "cell_type": "code",
      "metadata": {
        "id": "NXRygcJLsFED",
        "colab_type": "code",
        "colab": {
          "base_uri": "https://localhost:8080/",
          "height": 34
        },
        "outputId": "e9c3b5ea-1a9f-4bb1-bd5b-a73a4631c28f"
      },
      "source": [
        "(lambda x,y:x**y)(2,3)"
      ],
      "execution_count": null,
      "outputs": [
        {
          "output_type": "execute_result",
          "data": {
            "text/plain": [
              "8"
            ]
          },
          "metadata": {
            "tags": []
          },
          "execution_count": 119
        }
      ]
    },
    {
      "cell_type": "markdown",
      "metadata": {
        "id": "VnHb4EPIsaM0",
        "colab_type": "text"
      },
      "source": [
        "## Módulos\n",
        "\n",
        "Python tiene numerosas librerías, las más usadas para Data Science son Pandas, Numpy y Scikit-Learn.\n",
        "\n",
        "Para invocar todo un módulo"
      ]
    },
    {
      "cell_type": "code",
      "metadata": {
        "id": "PvX1azZEs26L",
        "colab_type": "code",
        "colab": {
          "base_uri": "https://localhost:8080/",
          "height": 34
        },
        "outputId": "91303a8c-ff98-47ae-f8d7-70ea0f3a0518"
      },
      "source": [
        "import math\n",
        "\n",
        "math.sqrt(16)"
      ],
      "execution_count": null,
      "outputs": [
        {
          "output_type": "execute_result",
          "data": {
            "text/plain": [
              "4.0"
            ]
          },
          "metadata": {
            "tags": []
          },
          "execution_count": 120
        }
      ]
    },
    {
      "cell_type": "markdown",
      "metadata": {
        "id": "gkwBRReKs6hO",
        "colab_type": "text"
      },
      "source": [
        "Se puede importar con un alias"
      ]
    },
    {
      "cell_type": "code",
      "metadata": {
        "id": "f2GoaM1zs8o9",
        "colab_type": "code",
        "colab": {
          "base_uri": "https://localhost:8080/",
          "height": 34
        },
        "outputId": "09a61f2c-bc1e-4a6d-c29f-c504978f0a42"
      },
      "source": [
        "import math as m\n",
        "\n",
        "m.sqrt(9)"
      ],
      "execution_count": null,
      "outputs": [
        {
          "output_type": "execute_result",
          "data": {
            "text/plain": [
              "3.0"
            ]
          },
          "metadata": {
            "tags": []
          },
          "execution_count": 121
        }
      ]
    },
    {
      "cell_type": "markdown",
      "metadata": {
        "id": "i_zahjC5tBTV",
        "colab_type": "text"
      },
      "source": [
        "Se pueden importar objetos particulares de los módulos"
      ]
    },
    {
      "cell_type": "code",
      "metadata": {
        "id": "TS1dQ0vBtFew",
        "colab_type": "code",
        "colab": {
          "base_uri": "https://localhost:8080/",
          "height": 34
        },
        "outputId": "04f93cec-7887-42ef-e5c8-3f8d8b279d21"
      },
      "source": [
        "from math import sqrt\n",
        "\n",
        "sqrt(25)"
      ],
      "execution_count": null,
      "outputs": [
        {
          "output_type": "execute_result",
          "data": {
            "text/plain": [
              "5.0"
            ]
          },
          "metadata": {
            "tags": []
          },
          "execution_count": 122
        }
      ]
    },
    {
      "cell_type": "markdown",
      "metadata": {
        "id": "ycGod4jKFoDe",
        "colab_type": "text"
      },
      "source": [
        "## Una receta para elaborar cerveza\n",
        "\n",
        "**Ingredientes**\n",
        "\n",
        "* Agua *purificada*. Se usan distintos tipos de agua para diferentes tipos de cerveza.\n",
        "* Cebada *malteada, molida*. La cebada es un cereal, el cual pasa por un proceso de malteado que extrae su almidón y sus enzimas.\n",
        "* Lúpulo. Las flores de lúpulo son las encargadas de dar el amargor y el aroma característicos de la cerveza.\n",
        "* Levadura para cerveza: Son microorganismos encargados de convertir azúcares en alcohol.\n",
        "\n",
        "**Elaboración**\n",
        "\n",
        "1. Maceración: Se mezcla el agua con la cebada durante cierto periodo de tiempo a cierta temperatura, las enzimas atacan al almidón convirtiéndolo en azúcares. Se filtra la mezcla. *Producto: mosto*.\n",
        "\n",
        "2. Hervido: Se hierve el mosto durante cierto tiempo, esto permite su esterilización. En el hervido también se agrega el lúpulo, además de aportar sabor y aroma, frena los procesos enzimáticos. Se lo deja enfriar. *Producto: mosto amargo*.\n",
        "\n",
        "3. Fermentación: Se le agrega la levadura al mosto. Este proceso dura cierta cantidad de días a cierta temperatura. Luego el mosto fermentado es nuevamente filtrado. *Producto: cerveza*.\n",
        "\n",
        "*Fuente*: http://www.blogdecerveza.com/infografia-cerveza-sajonia-brewing"
      ]
    },
    {
      "cell_type": "markdown",
      "metadata": {
        "id": "2cX3e_intSQK",
        "colab_type": "text"
      },
      "source": [
        "## La receta vista como un programa\n",
        "\n",
        "En la receta se hace distinción entre los ingredientes y las instrucciones de elaboracción. En un programa sucede algo similar, es posible distinguir a los **datos** (los ingredientes) del **código** (las instrucciones); el código es aplicado a los datos para transformarlos y así obtener nuevos datos (los productos), sobre los cuales se puede seguir aplicando código hasta obtener un resultado (o producto) final.\n",
        "\n",
        "**Datos**\n",
        "\n",
        "```\n",
        "# cantidades para 15 litros de cerveza artesanal\n",
        "\n",
        "agua     =  30 litros de agua mineral\n",
        "malta    = 4,5 kilos  de harina de cebada malteada (malta)\n",
        "lúpulo   = 200 gramos de lúpulo\n",
        "levadura =  10 gramos de levadura de cerveza\n",
        "```\n",
        "\n",
        "**Código**\n",
        "\n",
        "```\n",
        "mosto   = macerar(agua, malta)\n",
        "amargo  = hervir(mosto, lúpulo)\n",
        "cerveza = fermentar(amargo, levadura)\n",
        "```\n",
        "\n",
        "Resalta en este programa la estructura renglonada. Cada renglón constituye una **instrucción** que expresa alguna acción a realizar. Vemos que un **programa** está conformado por una secuencia de una o más instrucciones.\n",
        "\n",
        "Todo texto precedido por un numeral (`#`) es un **comentario**. Estos son ignorados por el programa, son útiles para dejar anotaciones que faciliten la lectura del mismo.\n",
        "\n",
        "También es notorio el uso del signo igual (`=`). Su función es asignar el **valor** de la derecha a la **variable** de la izquierda en lo que se conoce como *instrucción de asignación*. Un valor es un dato, como mencionamos, una entidad capaz de ser manipulada por el código. A su vez, una variable es un nombre simbólico (también conocido como *identificador*) que está asociado a una entidad.\n",
        "\n",
        "La variable es la manera breve de referirse al valor, como el nombre o el DNI de una persona, que sirve para evitar hacer una descripción que la identifique cada vez que la queramos mencionar. A diferencia del nombre o el documento de las personas, que están asociados de por vida a una persona particular, una variable puede cambiar de valor mediante posteriores re-asignaciones."
      ]
    },
    {
      "cell_type": "markdown",
      "metadata": {
        "id": "LDTz71T3UBnq",
        "colab_type": "text"
      },
      "source": [
        "## Tipos de datos\n",
        "\n",
        "Analizaremos con mayor profundidad la sección ingredientes/datos. Es común que los programas comiencen con algunas deficiones de variables ya que constituyen la materia prima sobre la cual realizar la ejecución del código.\n",
        "\n",
        "Queremos experimentar un poco, de la receta respetaremos el proceso de elaboración y variaremos las *cantidades* y las *cualidades* de las materias primas para obtener diversas cervezas. Asociaremos cantidades con valores y cualidades con **tipos**. A continuación, una tabla que resume los ingredientes.\n",
        "\n",
        "```\n",
        "     VALOR  |  TIPO\n",
        "-----------------------\n",
        " 30 litros  |  agua mineral\n",
        "4,5 kilos   |  harina de cebada malteada (malta)\n",
        "200 gramos  |  lúpulo\n",
        " 10 gramos  |  levadura de cerveza\n",
        "```\n",
        "\n",
        "Podríamos usar menos lúpulo para crear una cerveza menos amarga. Quizás queramos usar más malta para una cerveza más alcohólica. Mientras mantengamos los valores dentro de ciertos rangos y proporciones la receta funcionará. Esto es interesante y esencialmente se debe a que los *tipos* de ingredientes continúan siendo los mismos. Diferente sería el caso de no contar con levadura de cerveza y querer reemplazarla por levadura de pan; sucede que no sirve para hacer cerveza.\n",
        "\n",
        "Es así que los datos se diferencian por sus cualidades y que los programas se escriben teniendo en cuenta ciertos tipos de datos y no otros. Algunos lenguajes de programación son escrictos respecto a los tipos —si la receta dice *agua mineral* entonces sí o sí tiene que ser agua mineral— y otros, como Python, no lo son: mientras los datos se comporten de manera similar *a efectos del programa* entonces pueden usarse de manera indistinta. Por ejemplo, en vez de *agua mineral* podríamos utilizar *agua filtrada* ya que también se puede beber y *a efectos de la receta* servirá para la obtención de mosto por medio del proceso de maceración. "
      ]
    },
    {
      "cell_type": "markdown",
      "metadata": {
        "id": "0SQMaWynjfQs",
        "colab_type": "text"
      },
      "source": [
        "## Funciones\n",
        "\n",
        "Ahora profundizaremos sobre la sección elaboración/código. En abstracto se trata de una secuencia de operaciones que resuelve un problema (el de hacer cerveza), lo que se conoce como **algoritmo**. Concretamente, un algoritmo puede ser expresado de diversas maneras, utilizando un lengaje natural como en la receta, un lenguaje formal como en el programa e incluso gráficamente mediante un diagrama.\n",
        "\n",
        "Las operaciones toman datos *de entrada*, internamente realizan tareas, y devuelven un dato *de salida*. Asociaremos el concepto de operación con el de **función**. A continuación, una tabla que lista las operaciones del proceso de elaboración.\n",
        "\n",
        "```\n",
        "FUNCIÓN    |  ENTRADAS                |  SALIDA\n",
        "-----------------------------------------------------\n",
        "macerar    |  agua, malta             |  mosto\n",
        "hervir     |  mosto, lúpulo           |  mosto amargo\n",
        "fermentar  |  mosto amargo, levadura  |  cerveza\n",
        "```\n",
        "\n",
        "Las funciones son, como los datos, también entidades. Como sucede con los datos, también se las asocia con un nombre o identificador para poder invocarlas cuando sea necesario. En principio las funciones son operaciones *en potencia*, son entidades que si bien son capaces de realizar tareas, se encuentran en letargo. Para convertirlas *en acto*, en la realización de las tareas, las funciones deben ser accionadas, lo que se conoce como *llamar a la función*. Una manera de lograrlo es mediante el *operador llamar a función* `()`, que al acompañar a una función, la activa. Dentro de los paréntesis se especifican los valores (datos) de entrada, los llamados **argumentos** de la función. Como resultado la función será **evaluada**—convertida en un valor (dato) de salida.\n",
        "\n",
        "```\n",
        "función(argumentos...)  ->  valor\n",
        "macerar(agua, malta)    ->  mosto\n",
        "```\n",
        "\n",
        "Caracterizan a una función los argumentos que requiere, en número y en tipo. Por ejemplo `macerar` requiere dos argumentos, el primero del tipo `agua` y el segundo del tipo `malta`. Fallar al proporcionar los valores requeridos por alguna función durante la ejecución del código hará que se detenga.\n",
        "\n",
        "Dijimos que las funciones internamente realizan tareas. No siempre estas tareas producirán meramente el dato a ser retornado sino que tendrán otros efectos como almacenar datos o imprimirlos en pantalla y a veces importan más estos efectos que el valor de salida.\n",
        "\n",
        "En la receta asignamos los valores retornados a variables así luego los podemos referenciar."
      ]
    },
    {
      "cell_type": "markdown",
      "metadata": {
        "id": "cMyPCYbFDUkE",
        "colab_type": "text"
      },
      "source": [
        "## Ejercicio 1\n",
        "\n",
        "Elaborar un glosario con las palabras resaltadas en negrita."
      ]
    },
    {
      "cell_type": "markdown",
      "metadata": {
        "id": "kg2rRbdsaCAK",
        "colab_type": "text"
      },
      "source": [
        "## Constantes\n",
        "\n",
        "Las constantes son como las variables solo que mantienen su valor. Es decir que una vez asignado un valor a un nombre (identificador), a este no se le podrá reasignar otro valor en el transcurso del programa."
      ]
    },
    {
      "cell_type": "markdown",
      "metadata": {
        "id": "NAESM4lUY1iy",
        "colab_type": "text"
      },
      "source": [
        "## Operadores\n",
        "\n",
        "Los operadores son como las funciones solo que se escriben diferente para otorgarle al lenguaje naturalidad y expresividad (facilidad para leerlo y escribirlo). Por ejemplo, las operaciones artiméticas nos resultarán más familiares así\n",
        "\n",
        "```\n",
        " 1 + 1  ->  2\n",
        " 8 - 1  ->  7\n",
        "```\n",
        "\n",
        "que en una forma funcional.\n",
        "\n",
        "```\n",
        "sumar(1, 1)   ->  2\n",
        "restar(8, 1)  ->  7\n",
        "```\n",
        "\n",
        "Si bien el orden de escritura es otro, en ambos casos el tipo de dato de los argumentos/operandos tiene que ser compatible con la operación y la operación retornará un valor.\n",
        "\n",
        "```\n",
        "función(argumento_1, argumento_2)  ->  valor\n",
        "operando_1 operador operando_2     ->  valor\n",
        "```"
      ]
    },
    {
      "cell_type": "markdown",
      "metadata": {
        "id": "Ig1jbUiAkfkQ",
        "colab_type": "text"
      },
      "source": [
        "## Literales\n",
        "\n",
        "Los valores surgen de las operaciones, así como la flor de lúpulo sale de una planta—viendo a la planta como un proceso que engendra flores. Por otro lado las operaciones requieren valores de entrada, así como se necesita una semilla para dar origen a una planta. Estamos ante una situación del tipo *el huevo y la gallina*, en la que se requieren operaciones para obtener valores y valores para obtener operaciones. Para salir de este enriedo los lenguajes de programación proveen **literales** para algunos tipos de datos, una manera de escribir valores de manera espontánea, sin recurrir a operaciones que les den origen."
      ]
    },
    {
      "cell_type": "markdown",
      "metadata": {
        "id": "pbVks7A3Edvg",
        "colab_type": "text"
      },
      "source": [
        "## Entidades primitivas\n",
        "\n",
        "Los lenguajes de programación proveen elementos básicos con los cuales crear programas. Llamamos **primitivas** a las entidades preexistentes en el lenguaje. Las llamamos así para diferenciarlas de las entidades que es posible construir a partir de estas. Por ejemplo, podemos definir nuestras propias funciones, afines al problema a resolver (más adelante veremos cómo). Mientras tanto el lenguaje cuenta con entidades genéricas con las cuales empezar.\n",
        "\n",
        "Python no es un lenguaje especialmente pensado para elaborar cerveza. Los ingredientes con los que cuenta son otros, esta es una lista no exhaustiva de tipos de datos primitivos, los más frecuentes. Entre paréntesis se encuentra el nombre que les da Python.\n",
        "\n",
        "* Nada (`NoneType`)\n",
        "* Booleanos (`bool`)\n",
        "* Numéricos\n",
        "  * Enteros (`int`)\n",
        "  * Flotantes (`float`)\n",
        "* Secuencias\n",
        "  * Texto (`str`)\n",
        "  * Listas (`list`)\n",
        "* Mapeos\n",
        "  * Diccionarios (`dict`)\n",
        "\n",
        "**Nada**. Este tipo tiene un solo valor (hay una única entidad con este valor). Nos podemos refereir a esta entidad usando la constante primitiva `None`. Se usa en varias situaciones para significar la ausencia de un valor.\n",
        "\n",
        "**Booleanos**. Este tipo tiene dos valores. Estas entidades representan los valores *verdadero* y *falso*. Nos podemos referir a estas entidades mediante las constantes primitivas `True` y `False` respectivamente.\n",
        "\n",
        "**Enteros**. Este tipo tiene infinitos valores, son los números positivos y negativos. Estos valores se pueden referenciar de una manera literal utilizando numerales (0–9). Python interpretará al símbolo `2` como un entero de valor dos.\n",
        "\n",
        "**Flotantes**. Son los números reales. Se pueden referenciar literalmente usando numerales y el punto (.) como separador decimal. Python interpretará `3.14` como un valor del tipo flotante. Son representaciones *aproximadas* de los números reales, es una consesión de precisión por rango, que permite computar números reales muy pequeños y muy grandes eficientemente.\n",
        "\n",
        "*Nota*: Las constantes `None`, `True` y `False` son necesarias ya que no existen en nuestro *lenguaje natural occidental* símbolos para referirnos a la nada, a lo verdadero y a lo falso de manera literal, en la manera en la que sí existen caracteres numéricos para referirnos a los números.\n",
        "\n",
        "### Secuencias\n",
        "\n",
        "Las secuencias son *colecciones ordenadas* de datos indexadas por números no negativos. A diferencia de los tipos de datos vistos hasta el momento, el valor de una colección es *los datos que contiene*. Un cajón de cervezas viene a ser una colección de botellas de cerveza; el cajón es muy útil para manipular todas esas botellas en conjunto. Por ordenado e indexado nos referimos a que cada lugar del cajón está numerado, lo que nos permite colocar o retirar botellas de lugares específicos.\n",
        "\n",
        "La función primitiva `len` devuelve la cantidad de ítems de la secuencia—aplicada a un cajón lleno debería devolver el número 12.\n",
        "\n",
        "```\n",
        "len(secuencia)  ->  tamaño de la secuencia\n",
        "len(cajón)  ->  12\n",
        "```\n",
        "\n",
        "El operador *índice* `[]` selecciona una posición en la secuencia y devuelve su contenido; dentro de los corchetes se especifica la posición. En Python, **el índice comienza en cero**.\n",
        "\n",
        "```\n",
        "secuencia[entero]  ->  dato\n",
        "cajón[2]  ->  botella de cerveza del lugar número 3\n",
        "```\n",
        "\n",
        "**Texto**. Normalmente reciben el nombre de *strings* (cuerdas), son colecciones de **caracteres**. Los valores del tipo *string* se pueden generar de manera literal al escribirlos entre comillas simples (') o dobles (\"). Por ejemplo el literal `\"cerveza\"` se diferencia del identificador `cerveza`, el intérprete de Python [revisar: no se ha explicado qué es el intérprete] al leer el literal lo transformará en un dato del tipo texto cuyo valor es cerveza, en cambio cuando si lee el identificador —la palabra sin comillas— que podría tratarse del nombre de una variable o una función, invocará a la entidad asociada.\n",
        "\n",
        "**Listas**. Son colecciones arbitrarias de datos. Una lista puede contener todo tipo de datos, incluso otras listas. Se pueden crear de manera literal utilizando corchetes (\\[ \\]) como delimitadores y coma (,) para separar los elementos de la lista.\n",
        "\n",
        "```\n",
        "números = [1, 2, 3]\n",
        "números[0]  ->  1\n",
        "```\n",
        "\n",
        "*Nota*: Puede resultar ambigüa la utilización de corchetes, ya que sirven tanto para la creación de listas como para el operador índice. Sin embargo se utilizan de manera diferente, lo que rompe la ambigüedad.\n",
        "\n",
        "### Mapeos\n",
        "\n",
        "Los mapeos son colecciones de datos indexadas por valores arbitrarios. Un ejemplo es una agenda de contactos telefónicos; se trata de una colección de números de teléfono, en la que cada número está relacionado —*mapeado*— a un nombre de contacto. Relaciona *claves* (nombres de contacto) con *valores* (números de teléfono). Las secuencias y los mapeos son parecidos, ambos son colecciones, se diferencian en la forma de indexar los datos, es decir, en la forma de recuperarlos: mediante la **posición** en el caso de las secuencias, por medio de una **clave** en el de los mapeos. En la agenda, para encontrar un número de teléfono (el valor), lo buscamos por el nombre del contacto (la clave). \n",
        "\n",
        "Como sucede con las secuencias,  la función `len` devuelve la cantidad de elementos del mapeo y el operador *índice* `[]` selecciona un elemento del mapeo y devuelve su valor; dentro de los corchetes se especifica la clave. \n",
        "\n",
        "**Diccionarios**. Es el mapeo paradigmático. Se pueden crear de manera literal utilizando llaves ({ }) como delimitadores, coma (,) para separar los elementos del diccionario, lo que nos recuerda un poco a las listas, solo que los elementos del diccionario son pares clave-valor, utilizándose dos puntos (:) para separar la clave del valor.\n",
        "\n",
        "```\n",
        "proveedores = {'a':1, 'b':2, 'c':3}\n",
        "proveedores['b']  ->  2\n",
        "```\n",
        "\n",
        "En este ejemplo se usaron *strings* para las claves y enteros para los valores. Los tipos de datos que pueden cumplir estas funciones no están limitados a estos, los valores pueden ser de cualquier tipo, incluyendo listas y otros diccionarios; las claves están más acotadas, normalmente son *strings*, podrían ser de otros pero no listas ni diccionarios. "
      ]
    },
    {
      "cell_type": "markdown",
      "metadata": {
        "id": "si1eQH7dC_yE",
        "colab_type": "text"
      },
      "source": [
        "## Un almacén cervecero\n",
        "\n",
        "Antes de pasar a una receta más detallada para elaborar cerveza, haremos una visita a un proveedor de insumos para fabricación de cerveza artesanal. Hay tres tipos de ingredientes claves: maltas, lúpulos y levaduras. A su vez estos tipos se ramifican en subtipos. Organizados así encontraremos una amplia variedad de ingredientes de los cuales —según lo que elijamos— dependerá la personalidad de la cerveza.\n",
        "\n",
        "```\n",
        "Malta\n",
        "  Base: maltas claras.\n",
        "    Pilsen   (ECB 3)\n",
        "    Pale Ale (ECB 5)\n",
        "    Viena    (ECB 8—12)\n",
        "    Múnich   (ECB 15—25)\n",
        "  Caramelo: maltas oscuras, otorgan a la cerveza sabores a torrado, azúcar quemado, miel y a caramelo.\n",
        "    Caramelo  30 (~ 70 EBC)\n",
        "    Caramelo  60 (~140 EBC)\n",
        "    Caramelo 120 (~250 EBC)\n",
        "  Tostada: maltas de oscuridad entre media y total, con sabores que recuerdan al mismo tostado, a la nuez o a la galleta.\n",
        "    Chocolate (~800 EBC)\n",
        "    Negra (~1600 EBC)\n",
        "Lúpulo\n",
        "  Nobles\n",
        "    Hallertauer\n",
        "    Tettnanger\n",
        "    Spalter\n",
        "    Saaz\n",
        "  Ingleses\n",
        "    Goldings\n",
        "    Fuggles\n",
        "  Estadounidenses\n",
        "    Cascade\n",
        "    Centennial\n",
        "    Chinook\n",
        "Levadura\n",
        "  Ale (fermentación alta)\n",
        "    SafAle S-04\n",
        "    SafAle US-05\n",
        "  Lager (fermentación baja)\n",
        "    SafLager S-23\n",
        "\n",
        "```\n",
        "\n",
        "Fuentes:\n",
        "* https://www.cervezartesana.es/blog/post/la-guia-definitiva-de-la-malta.html\n",
        "* https://www.cervezartesana.es/blog/post/la-guia-definitiva-del-lupulo.html\n",
        "* https://www.cervezartesana.es/blog/post/la-guia-definitiva-de-la-levadura.html\n",
        "\n",
        "* http://www.browersinsumos.com.ar/assets/controller/Catalogo/documentos/catalogo.pdf\n",
        "* http://www.cibart.com.ar\n",
        "* http://somoscerveceros.com\n"
      ]
    },
    {
      "cell_type": "markdown",
      "metadata": {
        "id": "SSLkVh2rzK88",
        "colab_type": "text"
      },
      "source": [
        "### Una receta para cerveza IPA\n",
        "\n",
        "Malta weyermann.de\n",
        "Levadura fermentis.com\n",
        "Lúpulo \n",
        "* macerar 30 minutos, "
      ]
    },
    {
      "cell_type": "markdown",
      "metadata": {
        "id": "_aBnPcXmkdOi",
        "colab_type": "text"
      },
      "source": [
        "## Ejercicio 2"
      ]
    },
    {
      "cell_type": "markdown",
      "metadata": {
        "id": "gcn9-4jLYbsE",
        "colab_type": "text"
      },
      "source": [
        "Como las operaciones más frecuentes por comodidad suelen expresarse en forma de operadores en vez de funciones, en los lenguajes de programación es común que las operaciones primitivas "
      ]
    },
    {
      "cell_type": "markdown",
      "metadata": {
        "id": "XSOHf9BzQOEU",
        "colab_type": "text"
      },
      "source": [
        "## Ejercicio 3\n",
        "\n",
        "Prácticamente cualquier operador se puede escribir en forma de función."
      ]
    },
    {
      "cell_type": "markdown",
      "metadata": {
        "id": "lbgjOdjoRK9M",
        "colab_type": "text"
      },
      "source": [
        "## Borrador\n",
        "\n",
        "* expresiones\n",
        "* control de flujo\n",
        "\n",
        "\n",
        "---\n",
        "\n",
        "Es interesante notar que las cualidades a tener en cuenta dependen de las operaciones del programa. A esto se lo conoce como *duck typing*.\n",
        "\n",
        "---\n",
        "\n",
        "A su vez las operaciones se agrupan en instrucciones, que son conjuntos de operaciones con un efecto real en el programa. Cada instrucción puede contener más de una operación, aunque no es el caso del programa de ejemplo.\n",
        "\n",
        "---\n",
        "\n",
        "Algunas funciones toman un número variable de argumentos. La cantidad de argumentos recibe el nombre de **aridad**.\n",
        "\n",
        "---\n",
        "\n",
        "Tuplas y tipos de datos mutables e inmutables no entrarían.\n",
        "\n",
        "---\n",
        "\n",
        "Mapeos: The only types of values not acceptable as keys are values containing lists or dictionaries or other mutable types that are compared by value rather than by object identity.\n",
        "\n",
        "---\n",
        "\n",
        "Las funciones también son datos."
      ]
    }
  ]
}