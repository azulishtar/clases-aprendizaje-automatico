{
 "cells": [
  {
   "cell_type": "markdown",
   "metadata": {},
   "source": [
    "# Dataset Properati\n",
    "\n",
    "### Limpieza"
   ]
  },
  {
   "cell_type": "markdown",
   "metadata": {},
   "source": [
    "Descargamos el [dataset de Properati](https://www.properati.com.ar/data) con propiedades en venta en Argentina de los últimos 6 meses. Cambiar la fecha en la URL de estar desactualizada. Ejercicio: armar un dataset con avisos de los últimos 12 meses."
   ]
  },
  {
   "cell_type": "code",
   "execution_count": 12,
   "metadata": {},
   "outputs": [],
   "source": [
    "import requests\n",
    "\n",
    "url = 'https://www.properati.com.ar/static/data/AR/properati-AR-2018-05-01-properties-sell-six_months.csv.gz'\n",
    "\n",
    "r = requests.get(url)\n",
    "\n",
    "with open('datos_properati.csv.gz', 'wb') as f:  \n",
    "    f.write(r.content)"
   ]
  },
  {
   "cell_type": "markdown",
   "metadata": {},
   "source": [
    "Leemos el archivo descargado."
   ]
  },
  {
   "cell_type": "code",
   "execution_count": 1,
   "metadata": {},
   "outputs": [],
   "source": [
    "import pandas as pd\n",
    "\n",
    "df = pd.read_csv('datos_properati.csv.gz', parse_dates=['created_on'])\n",
    "df.set_index('id', inplace=True)"
   ]
  },
  {
   "cell_type": "markdown",
   "metadata": {},
   "source": [
    "Nos deshacemos del algunas columnas."
   ]
  },
  {
   "cell_type": "code",
   "execution_count": 2,
   "metadata": {},
   "outputs": [],
   "source": [
    "df.drop(columns=[\n",
    "    'operation', # son todas propiedades en venta\n",
    "    'place_name', # ver place_with_parent_names...\n",
    "    'place_with_parent_names', # vamos a estimar el lugar usando las coordenadas\n",
    "    'country_name', # son todas propiedades de Argentina\n",
    "    'state_name', # en algún momento nos vamos a quedar con propiedades de CABA solamente\n",
    "    'geonames_id', # no hace falta\n",
    "    'lat-lon', # ya viene lat y lon por separado\n",
    "    'price', # vamos a usar price_aprox_usd\n",
    "    'currency', # ídem\n",
    "    'price_aprox_local_currency', # ídem\n",
    "    'price_usd_per_m2', # este dato puede ser reconstruido luego con mayor calidad\n",
    "    'price_per_m2', # ídem\n",
    "    'properati_url', # no hace falta\n",
    "    'image_thumbnail', # ídem\n",
    "], inplace=True)"
   ]
  },
  {
   "cell_type": "code",
   "execution_count": 3,
   "metadata": {},
   "outputs": [],
   "source": [
    "df.drop(columns=['floor', 'expenses', 'description', 'title'], inplace=True)"
   ]
  },
  {
   "cell_type": "code",
   "execution_count": 11,
   "metadata": {},
   "outputs": [],
   "source": [
    "df.dropna(subset=['lat','lon'],inplace=True)"
   ]
  },
  {
   "cell_type": "markdown",
   "metadata": {},
   "source": [
    "Solo por diversión, cambiamos nombres de columnas."
   ]
  },
  {
   "cell_type": "code",
   "execution_count": 9,
   "metadata": {},
   "outputs": [],
   "source": [
    "df.rename(columns={\n",
    "    'created_on':'fecha',\n",
    "    'property_type':'tipo',\n",
    "    'price_aprox_usd':'precio',\n",
    "    'surface_total_in_m2':'superficie_total',\n",
    "    'surface_covered_in_m2':'superficie_cubierta',\n",
    "    'rooms':'ambientes',\n",
    "}, inplace=True)"
   ]
  },
  {
   "cell_type": "code",
   "execution_count": 10,
   "metadata": {},
   "outputs": [],
   "source": [
    "df.tipo = df.tipo.apply(lambda x: {'house':'casa','apartment':'departamento','PH':'ph','store':'local'}[x])"
   ]
  },
  {
   "cell_type": "markdown",
   "metadata": {},
   "source": [
    "Ahora nos vamos a quedar con propiedades:\n",
    "\n",
    "* geolocalizadas,\n",
    "* que sean casas o departamentos,\n",
    "* que informen al menos una superficie (cubierta o total),\n",
    "* que informen cantidad de ambientes,\n",
    "* que informen precio de venta."
   ]
  },
  {
   "cell_type": "code",
   "execution_count": 89,
   "metadata": {
    "collapsed": true
   },
   "outputs": [],
   "source": [
    "geo        =  df.lat.notnull() & df.lon.notnull()\n",
    "tipo       =  df.property_type.isin(['house', 'apartment'])\n",
    "superficie =  df.surface_covered.notnull() | df.surface_total.notnull() \n",
    "ambientes  =  df.rooms.notnull()\n",
    "precio     =  df.price_usd.notnull()\n",
    "\n",
    "df = df[geo & tipo & superficie & ambientes & precio]"
   ]
  },
  {
   "cell_type": "markdown",
   "metadata": {},
   "source": [
    "#### Un poco de GeoPandas\n",
    "\n",
    "Usamos el [dataset de barrios](https://data.buenosaires.gob.ar/dataset/barrios) de BA Data para determinar por medio de las coordenas geográficas a qué barrio pertenece cada propiedad."
   ]
  },
  {
   "cell_type": "code",
   "execution_count": 12,
   "metadata": {},
   "outputs": [],
   "source": [
    "import geopandas as gpd\n",
    "from shapely.geometry import Point\n",
    "\n",
    "barrios = gpd.read_file('barrios/barrios_badata.shp').to_crs(epsg=4326)\n",
    "barrios.drop(columns=['AREA', 'PERIMETRO'], inplace=True)\n",
    "barrios.rename(columns={'COMUNA':'comuna', 'BARRIO':'barrio'}, inplace=True)"
   ]
  },
  {
   "cell_type": "code",
   "execution_count": 15,
   "metadata": {},
   "outputs": [
    {
     "name": "stderr",
     "output_type": "stream",
     "text": [
      "/home/matias/jupyterhub/lib/python3.7/site-packages/geopandas/tools/sjoin.py:44: UserWarning: CRS of frames being joined does not match!\n",
      "  warn('CRS of frames being joined does not match!')\n"
     ]
    }
   ],
   "source": [
    "df = gpd.GeoDataFrame(df, crs={'init':'epsg:4326'})\n",
    "df.geometry = df.apply(lambda row: Point(row.lon, row.lat), axis=1)\n",
    "df = gpd.sjoin(df, barrios, how='inner', op='intersects')"
   ]
  },
  {
   "cell_type": "code",
   "execution_count": 17,
   "metadata": {},
   "outputs": [],
   "source": [
    "df.drop(columns=['geometry','index_right','comuna'],inplace=True)"
   ]
  },
  {
   "cell_type": "code",
   "execution_count": 21,
   "metadata": {},
   "outputs": [],
   "source": [
    "df.to_csv('/home/matias/python-ds/Python DS/Clase 1/datos/properati_básico.csv.gz',compression='gzip',index=False)"
   ]
  },
  {
   "cell_type": "markdown",
   "metadata": {},
   "source": [
    "#### Registros duplicados"
   ]
  },
  {
   "cell_type": "markdown",
   "metadata": {},
   "source": [
    "Tiramos propiedades repetidas, según todas las columnas exceptuando `created_on`. Las inmobiliarias suelen volver a publicar sus propiedades para que aparezcan múltiples veces en el sitio. A veces lo hacen en momentos diferentes, en este caso la fecha de creación haría que dos filas de la tabla que coincidan en el resto de sus atributos no sean consideradas la misma propiedad, por eso no la usamos para la comparación."
   ]
  },
  {
   "cell_type": "code",
   "execution_count": 92,
   "metadata": {
    "collapsed": true
   },
   "outputs": [],
   "source": [
    "df.drop_duplicates([\n",
    "    'property_type',\n",
    "    'place_name',\n",
    "    'state_name',\n",
    "    'lat',\n",
    "    'lon',\n",
    "    'price_usd',\n",
    "    'surface_total',\n",
    "    'surface_covered',\n",
    "    'floor',\n",
    "    'rooms',\n",
    "    'expenses',\n",
    "    'description',\n",
    "    'title',\n",
    "], inplace=True)"
   ]
  },
  {
   "cell_type": "markdown",
   "metadata": {},
   "source": [
    "Queremos filtrar las propiedades con coordenadas que se repiten mucho. Cuando no se cuenta con las coordenadas reales las inmobiliarias suelen asignar centroides de barrios o puntos de interés como el Obelisco.\n",
    "\n",
    "Nos quedamos con las propiedades con coordenadas que se repitan hasta 5 veces."
   ]
  },
  {
   "cell_type": "code",
   "execution_count": 98,
   "metadata": {
    "collapsed": true
   },
   "outputs": [],
   "source": [
    "conteo_puntos = df.groupby(['lat', 'lon']).size()\n",
    "conteo_puntos.name = 'conteo'\n",
    "\n",
    "df = df.join(conteo_puntos, on=['lat', 'lon'])\n",
    "\n",
    "df = df[df.conteo <= 5]"
   ]
  },
  {
   "cell_type": "markdown",
   "metadata": {},
   "source": [
    "Un poco más de limpieza todavía."
   ]
  },
  {
   "cell_type": "code",
   "execution_count": 100,
   "metadata": {
    "collapsed": true
   },
   "outputs": [],
   "source": [
    "df.drop(columns=['index_right', 'conteo'], inplace=True)"
   ]
  },
  {
   "cell_type": "markdown",
   "metadata": {},
   "source": [
    "#### Imputación de valores\n",
    "\n",
    "Si la superficie total es inexistente o cero, la imputamos desde la superficie cubierta, y viceversa."
   ]
  },
  {
   "cell_type": "code",
   "execution_count": 101,
   "metadata": {
    "collapsed": true
   },
   "outputs": [],
   "source": [
    "# total\n",
    "mal = df[~(df.surface_total > 0)]\n",
    "df.loc[mal.index, 'surface_total'] = mal.surface_covered\n",
    "\n",
    "# cubierta\n",
    "mal = df[~(df.surface_covered > 0)]\n",
    "df.loc[mal.index, 'surface_covered'] = mal.surface_total"
   ]
  },
  {
   "cell_type": "markdown",
   "metadata": {},
   "source": [
    "Si la superficie total es menor a la cubierta, lo cual no tiene sentido, intercambiamos los valores."
   ]
  },
  {
   "cell_type": "code",
   "execution_count": 102,
   "metadata": {
    "collapsed": true
   },
   "outputs": [],
   "source": [
    "mal = df[df.surface_total < df.surface_covered]\n",
    "df.loc[mal.index, 'surface_total'], df.loc[mal.index, 'surface_covered'] = mal.surface_covered, mal.surface_total"
   ]
  },
  {
   "cell_type": "markdown",
   "metadata": {},
   "source": [
    "### Separación del dataset en desarrollo y prueba"
   ]
  },
  {
   "cell_type": "code",
   "execution_count": null,
   "metadata": {
    "collapsed": true
   },
   "outputs": [],
   "source": [
    "from sklearn.model_selection import train_test_split\n",
    "\n",
    "train, test = train_test_split(df, test_size=0.2, random_state=1)"
   ]
  },
  {
   "cell_type": "markdown",
   "metadata": {},
   "source": [
    "### Desempeño"
   ]
  },
  {
   "cell_type": "markdown",
   "metadata": {},
   "source": [
    "Para calcular el error, vamos a usar el error relativo."
   ]
  },
  {
   "cell_type": "code",
   "execution_count": 60,
   "metadata": {
    "collapsed": true
   },
   "outputs": [],
   "source": [
    "def error_relativo(precio_real, precio_predicción):\n",
    "    e = np.abs(precio_real - precio_predicción) / precio_real * 100\n",
    "    return e.round(1)"
   ]
  },
  {
   "cell_type": "code",
   "execution_count": null,
   "metadata": {
    "collapsed": true
   },
   "outputs": [],
   "source": [
    "test['predicción'] = modelo.predict(test)\n",
    "test['error'] = error_relativo(test.price_usd, test.predicción)"
   ]
  },
  {
   "cell_type": "markdown",
   "metadata": {},
   "source": [
    "Para reportar el error, vamos a usar la mediana. Cuando hay *outliers*, la mediana funciona mejor que el promedio."
   ]
  },
  {
   "cell_type": "code",
   "execution_count": null,
   "metadata": {
    "collapsed": true
   },
   "outputs": [],
   "source": [
    "test.error.median()"
   ]
  },
  {
   "cell_type": "markdown",
   "metadata": {},
   "source": [
    "¿Cómo te fue? Por ejemplo, si conseguís un error del 15% quiere decir que para *la mitad de las propiedades* en venta en CABA del dataset de prueba, el error de la estimación fue del 15% o menos. "
   ]
  }
 ],
 "metadata": {
  "kernelspec": {
   "display_name": "Python 3",
   "language": "python",
   "name": "python3"
  },
  "language_info": {
   "codemirror_mode": {
    "name": "ipython",
    "version": 3
   },
   "file_extension": ".py",
   "mimetype": "text/x-python",
   "name": "python",
   "nbconvert_exporter": "python",
   "pygments_lexer": "ipython3",
   "version": "3.7.1"
  }
 },
 "nbformat": 4,
 "nbformat_minor": 2
}
