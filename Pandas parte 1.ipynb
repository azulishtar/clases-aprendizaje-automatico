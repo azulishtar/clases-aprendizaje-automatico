{
 "cells": [
  {
   "cell_type": "markdown",
   "metadata": {},
   "source": [
    "# Pandas (primera parte)"
   ]
  },
  {
   "cell_type": "code",
   "execution_count": 1,
   "metadata": {},
   "outputs": [],
   "source": [
    "import pandas as pd"
   ]
  },
  {
   "cell_type": "markdown",
   "metadata": {},
   "source": [
    "## Estructuras de datos\n",
    "\n",
    "Dos tipos de datos muy usados en Python son las listas (`list`) y los diccionarios (`dict`). Ambos son útiles para coleccionar valores de todo tipo."
   ]
  },
  {
   "cell_type": "code",
   "execution_count": 18,
   "metadata": {},
   "outputs": [
    {
     "data": {
      "text/plain": [
       "['hidrógeno', 'helio', 'litio']"
      ]
     },
     "execution_count": 18,
     "metadata": {},
     "output_type": "execute_result"
    }
   ],
   "source": [
    "lista = ['hidrógeno', 'helio', 'litio']\n",
    "\n",
    "lista"
   ]
  },
  {
   "cell_type": "markdown",
   "metadata": {},
   "source": [
    " Podemos referenciar un valor coleccionado utilizando el **operador índice** `[ ]`. Las listas *indexan* por posición. En Python se empieza contar desde cero, por lo tanto las posiciones también."
   ]
  },
  {
   "cell_type": "code",
   "execution_count": 19,
   "metadata": {},
   "outputs": [
    {
     "data": {
      "text/plain": [
       "'hidrógeno'"
      ]
     },
     "execution_count": 19,
     "metadata": {},
     "output_type": "execute_result"
    }
   ],
   "source": [
    "# get\n",
    "lista[0]"
   ]
  },
  {
   "cell_type": "code",
   "execution_count": 20,
   "metadata": {},
   "outputs": [
    {
     "data": {
      "text/plain": [
       "['?', 'helio', 'litio']"
      ]
     },
     "execution_count": 20,
     "metadata": {},
     "output_type": "execute_result"
    }
   ],
   "source": [
    "# set\n",
    "lista[0] = '?'\n",
    "lista"
   ]
  },
  {
   "cell_type": "markdown",
   "metadata": {},
   "source": [
    "Los diccionarios son colecciones de pares `etiqueta:valor` e indexan por etiqueta. No es posible referenciar a un elemento por posición."
   ]
  },
  {
   "cell_type": "code",
   "execution_count": 13,
   "metadata": {},
   "outputs": [
    {
     "data": {
      "text/plain": [
       "{'H': 'hidrógeno', 'He': 'helio', 'Li': 'litio'}"
      ]
     },
     "execution_count": 13,
     "metadata": {},
     "output_type": "execute_result"
    }
   ],
   "source": [
    "diccionario = {\n",
    "    'H' :'hidrógeno',\n",
    "    'He':'helio',\n",
    "    'Li':'litio',\n",
    "}\n",
    "\n",
    "diccionario"
   ]
  },
  {
   "cell_type": "code",
   "execution_count": 21,
   "metadata": {},
   "outputs": [
    {
     "data": {
      "text/plain": [
       "'hidrógeno'"
      ]
     },
     "execution_count": 21,
     "metadata": {},
     "output_type": "execute_result"
    }
   ],
   "source": [
    "# get\n",
    "diccionario['H']"
   ]
  },
  {
   "cell_type": "code",
   "execution_count": 22,
   "metadata": {},
   "outputs": [
    {
     "data": {
      "text/plain": [
       "{'H': 'hidrógeno', 'He': 'helio', 'Li': 'litio', 'Be': 'berilio'}"
      ]
     },
     "execution_count": 22,
     "metadata": {},
     "output_type": "execute_result"
    }
   ],
   "source": [
    "# set\n",
    "diccionario['Be'] = 'berilio'\n",
    "\n",
    "diccionario"
   ]
  },
  {
   "cell_type": "markdown",
   "metadata": {},
   "source": [
    "### Pandas\n",
    "\n",
    "Una `Series` es un objeto unidimensional, similar a una columna en una tabla. Se comporta comporta como una lista y también le asigna una etiqueta a cada elemento en la colección, comportándose como un diccionario. Por defecto, cada elemento recibirá una etiqueta que va de 0 a N-1, donde N es la longitud/tamaño de la colección."
   ]
  },
  {
   "cell_type": "code",
   "execution_count": 56,
   "metadata": {},
   "outputs": [
    {
     "data": {
      "text/plain": [
       "0    hidrógeno\n",
       "1        helio\n",
       "2        litio\n",
       "dtype: object"
      ]
     },
     "execution_count": 56,
     "metadata": {},
     "output_type": "execute_result"
    }
   ],
   "source": [
    "# creación de una Series a partir de una lista arbitraria\n",
    "pd.Series(['hidrógeno', 'helio', 'litio'])"
   ]
  },
  {
   "cell_type": "markdown",
   "metadata": {},
   "source": [
    "**Nota**: *dtype* es el tipo de los elementos de la colección. En este caso `object` hace referencia a *objetos en general*, es decir, cualquier tipo de objeto: entero (`int`), flotante (`float`), texto (`str`), etcétera. "
   ]
  },
  {
   "cell_type": "code",
   "execution_count": 57,
   "metadata": {},
   "outputs": [
    {
     "data": {
      "text/plain": [
       "H     hidrógeno\n",
       "He        helio\n",
       "Li        litio\n",
       "dtype: object"
      ]
     },
     "execution_count": 57,
     "metadata": {},
     "output_type": "execute_result"
    }
   ],
   "source": [
    "# creación de una Series especificando un índice\n",
    "pd.Series(['hidrógeno', 'helio', 'litio'], index=['H', 'He', 'Li'])"
   ]
  },
  {
   "cell_type": "code",
   "execution_count": 59,
   "metadata": {},
   "outputs": [
    {
     "data": {
      "text/plain": [
       "H     hidrógeno\n",
       "He        helio\n",
       "Li        litio\n",
       "dtype: object"
      ]
     },
     "execution_count": 59,
     "metadata": {},
     "output_type": "execute_result"
    }
   ],
   "source": [
    "# creación de una Series a partir de un diccionario (las etiquetas serán los valores del índice)\n",
    "s = pd.Series({\n",
    "    'H' :'hidrógeno',\n",
    "    'He':'helio',\n",
    "    'Li':'litio',\n",
    "})\n",
    "\n",
    "s"
   ]
  },
  {
   "cell_type": "code",
   "execution_count": 60,
   "metadata": {},
   "outputs": [
    {
     "data": {
      "text/plain": [
       "Index(['H', 'He', 'Li'], dtype='object')"
      ]
     },
     "execution_count": 60,
     "metadata": {},
     "output_type": "execute_result"
    }
   ],
   "source": [
    "# obtener el índice\n",
    "s.index"
   ]
  },
  {
   "cell_type": "markdown",
   "metadata": {},
   "source": [
    "El índice es un objeto del tipo `Index`, aportado por Pandas."
   ]
  },
  {
   "cell_type": "code",
   "execution_count": 61,
   "metadata": {},
   "outputs": [
    {
     "data": {
      "text/plain": [
       "array(['hidrógeno', 'helio', 'litio'], dtype=object)"
      ]
     },
     "execution_count": 61,
     "metadata": {},
     "output_type": "execute_result"
    }
   ],
   "source": [
    "# obtener los elementos\n",
    "s.values"
   ]
  },
  {
   "cell_type": "markdown",
   "metadata": {},
   "source": [
    "Los valores se coleccionan en arreglos de NumPy (objetos del tipo `array`). Los arreglos son similares a las listas, tienen más funcionalidades."
   ]
  },
  {
   "cell_type": "code",
   "execution_count": 62,
   "metadata": {},
   "outputs": [
    {
     "data": {
      "text/plain": [
       "'hidrógeno'"
      ]
     },
     "execution_count": 62,
     "metadata": {},
     "output_type": "execute_result"
    }
   ],
   "source": [
    "# el índice se utiliza para seleccionar elementos específicos\n",
    "s['H']"
   ]
  },
  {
   "cell_type": "code",
   "execution_count": 63,
   "metadata": {},
   "outputs": [
    {
     "data": {
      "text/plain": [
       "H     hidrógeno\n",
       "He        helio\n",
       "Li        litio\n",
       "Be      berilio\n",
       "dtype: object"
      ]
     },
     "execution_count": 63,
     "metadata": {},
     "output_type": "execute_result"
    }
   ],
   "source": [
    "# los valores se pueden cambiar o agregar mediante asignación como si se tratase de un diccionario\n",
    "s['Be'] = 'berilio'\n",
    "\n",
    "s"
   ]
  },
  {
   "cell_type": "markdown",
   "metadata": {},
   "source": [
    "---"
   ]
  },
  {
   "cell_type": "markdown",
   "metadata": {},
   "source": [
    "Un `DataFrame` es una estructura tabular (bidimensional) compuesta por filas y columnas, similar a una hoja de cálculo, una tabla de una base de datos, o a un `data.frame` del lenguaje R.\n",
    "\n",
    "Se puede pensar al `DataFrame` como una `Series` de `Series`: una `Series` cuyo índice son los nombres de las columnas y cuyos elementos son `Series` que se comportan como columnas. El índice de las `Series`-columna son los nombres de las filas."
   ]
  },
  {
   "cell_type": "code",
   "execution_count": 75,
   "metadata": {},
   "outputs": [
    {
     "data": {
      "text/html": [
       "<div>\n",
       "<style scoped>\n",
       "    .dataframe tbody tr th:only-of-type {\n",
       "        vertical-align: middle;\n",
       "    }\n",
       "\n",
       "    .dataframe tbody tr th {\n",
       "        vertical-align: top;\n",
       "    }\n",
       "\n",
       "    .dataframe thead th {\n",
       "        text-align: right;\n",
       "    }\n",
       "</style>\n",
       "<table border=\"1\" class=\"dataframe\">\n",
       "  <thead>\n",
       "    <tr style=\"text-align: right;\">\n",
       "      <th></th>\n",
       "      <th>0</th>\n",
       "      <th>1</th>\n",
       "    </tr>\n",
       "  </thead>\n",
       "  <tbody>\n",
       "    <tr>\n",
       "      <th>0</th>\n",
       "      <td>1</td>\n",
       "      <td>1.008</td>\n",
       "    </tr>\n",
       "    <tr>\n",
       "      <th>1</th>\n",
       "      <td>2</td>\n",
       "      <td>4.003</td>\n",
       "    </tr>\n",
       "    <tr>\n",
       "      <th>2</th>\n",
       "      <td>3</td>\n",
       "      <td>6.941</td>\n",
       "    </tr>\n",
       "    <tr>\n",
       "      <th>3</th>\n",
       "      <td>4</td>\n",
       "      <td>9.012</td>\n",
       "    </tr>\n",
       "  </tbody>\n",
       "</table>\n",
       "</div>"
      ],
      "text/plain": [
       "   0      1\n",
       "0  1  1.008\n",
       "1  2  4.003\n",
       "2  3  6.941\n",
       "3  4  9.012"
      ]
     },
     "execution_count": 75,
     "metadata": {},
     "output_type": "execute_result"
    }
   ],
   "source": [
    "# creación de un DataFrame a partir de una lista de listas\n",
    "pd.DataFrame([\n",
    "    [1, 1.008],\n",
    "    [2, 4.003],\n",
    "    [3, 6.941],\n",
    "    [4, 9.012]\n",
    "])"
   ]
  },
  {
   "cell_type": "code",
   "execution_count": 67,
   "metadata": {},
   "outputs": [
    {
     "data": {
      "text/html": [
       "<div>\n",
       "<style scoped>\n",
       "    .dataframe tbody tr th:only-of-type {\n",
       "        vertical-align: middle;\n",
       "    }\n",
       "\n",
       "    .dataframe tbody tr th {\n",
       "        vertical-align: top;\n",
       "    }\n",
       "\n",
       "    .dataframe thead th {\n",
       "        text-align: right;\n",
       "    }\n",
       "</style>\n",
       "<table border=\"1\" class=\"dataframe\">\n",
       "  <thead>\n",
       "    <tr style=\"text-align: right;\">\n",
       "      <th></th>\n",
       "      <th>número_atómico</th>\n",
       "      <th>masa_atómica</th>\n",
       "    </tr>\n",
       "  </thead>\n",
       "  <tbody>\n",
       "    <tr>\n",
       "      <th>H</th>\n",
       "      <td>1</td>\n",
       "      <td>1.008</td>\n",
       "    </tr>\n",
       "    <tr>\n",
       "      <th>He</th>\n",
       "      <td>2</td>\n",
       "      <td>4.003</td>\n",
       "    </tr>\n",
       "    <tr>\n",
       "      <th>Li</th>\n",
       "      <td>3</td>\n",
       "      <td>6.941</td>\n",
       "    </tr>\n",
       "    <tr>\n",
       "      <th>Be</th>\n",
       "      <td>4</td>\n",
       "      <td>9.012</td>\n",
       "    </tr>\n",
       "  </tbody>\n",
       "</table>\n",
       "</div>"
      ],
      "text/plain": [
       "    número_atómico  masa_atómica\n",
       "H                1         1.008\n",
       "He               2         4.003\n",
       "Li               3         6.941\n",
       "Be               4         9.012"
      ]
     },
     "execution_count": 67,
     "metadata": {},
     "output_type": "execute_result"
    }
   ],
   "source": [
    "# creación de un DataFrame especificando índice y columnas\n",
    "df = pd.DataFrame(\n",
    "   [[1, 1.008],\n",
    "    [2, 4.003],\n",
    "    [3, 6.941],\n",
    "    [4, 9.012]],\n",
    "    index=['H', 'He', 'Li', 'Be'],\n",
    "    columns=['número_atómico', 'masa_atómica']\n",
    ")\n",
    "\n",
    "df"
   ]
  },
  {
   "cell_type": "markdown",
   "metadata": {},
   "source": [
    "Otras formas de inicializar un `DataFrame`, usando:\n",
    "* diccionario de listas\n",
    "* diccionario de diccionarios\n",
    "* lista de diccionarios"
   ]
  },
  {
   "cell_type": "code",
   "execution_count": 68,
   "metadata": {},
   "outputs": [
    {
     "data": {
      "text/plain": [
       "Index(['H', 'He', 'Li', 'Be'], dtype='object')"
      ]
     },
     "execution_count": 68,
     "metadata": {},
     "output_type": "execute_result"
    }
   ],
   "source": [
    "# obtener los nombres de las filas\n",
    "df.index"
   ]
  },
  {
   "cell_type": "code",
   "execution_count": 69,
   "metadata": {},
   "outputs": [
    {
     "data": {
      "text/plain": [
       "Index(['número_atómico', 'masa_atómica'], dtype='object')"
      ]
     },
     "execution_count": 69,
     "metadata": {},
     "output_type": "execute_result"
    }
   ],
   "source": [
    "# obtener los nombres de las columnas\n",
    "df.columns"
   ]
  },
  {
   "cell_type": "code",
   "execution_count": 70,
   "metadata": {},
   "outputs": [
    {
     "data": {
      "text/plain": [
       "array([[1.   , 1.008],\n",
       "       [2.   , 4.003],\n",
       "       [3.   , 6.941],\n",
       "       [4.   , 9.012]])"
      ]
     },
     "execution_count": 70,
     "metadata": {},
     "output_type": "execute_result"
    }
   ],
   "source": [
    "# obtener solo los valores\n",
    "df.values"
   ]
  },
  {
   "cell_type": "markdown",
   "metadata": {},
   "source": [
    "**Nota**: Los nombres de columnas también son un índice (`Index`). Recapitulando, las `Series` tiene un índice y los `DataFrame`s tienen dos. Como Pandas piensa la tabla como una colección de columnas, para obtener un valor de una celda primero hay que acceder a la columna y luego a la fila. "
   ]
  },
  {
   "cell_type": "code",
   "execution_count": 72,
   "metadata": {},
   "outputs": [
    {
     "data": {
      "text/plain": [
       "H     1.008\n",
       "He    4.003\n",
       "Li    6.941\n",
       "Be    9.012\n",
       "Name: masa_atómica, dtype: float64"
      ]
     },
     "execution_count": 72,
     "metadata": {},
     "output_type": "execute_result"
    }
   ],
   "source": [
    "# podemos seleccionar una columna, obtendremos una Series\n",
    "df['masa_atómica']"
   ]
  },
  {
   "cell_type": "code",
   "execution_count": 73,
   "metadata": {},
   "outputs": [
    {
     "data": {
      "text/html": [
       "<div>\n",
       "<style scoped>\n",
       "    .dataframe tbody tr th:only-of-type {\n",
       "        vertical-align: middle;\n",
       "    }\n",
       "\n",
       "    .dataframe tbody tr th {\n",
       "        vertical-align: top;\n",
       "    }\n",
       "\n",
       "    .dataframe thead th {\n",
       "        text-align: right;\n",
       "    }\n",
       "</style>\n",
       "<table border=\"1\" class=\"dataframe\">\n",
       "  <thead>\n",
       "    <tr style=\"text-align: right;\">\n",
       "      <th></th>\n",
       "      <th>número_atómico</th>\n",
       "      <th>masa_atómica</th>\n",
       "      <th>nombre</th>\n",
       "    </tr>\n",
       "  </thead>\n",
       "  <tbody>\n",
       "    <tr>\n",
       "      <th>H</th>\n",
       "      <td>1</td>\n",
       "      <td>1.008</td>\n",
       "      <td>hidrógeno</td>\n",
       "    </tr>\n",
       "    <tr>\n",
       "      <th>He</th>\n",
       "      <td>2</td>\n",
       "      <td>4.003</td>\n",
       "      <td>helio</td>\n",
       "    </tr>\n",
       "    <tr>\n",
       "      <th>Li</th>\n",
       "      <td>3</td>\n",
       "      <td>6.941</td>\n",
       "      <td>litio</td>\n",
       "    </tr>\n",
       "    <tr>\n",
       "      <th>Be</th>\n",
       "      <td>4</td>\n",
       "      <td>9.012</td>\n",
       "      <td>berilio</td>\n",
       "    </tr>\n",
       "  </tbody>\n",
       "</table>\n",
       "</div>"
      ],
      "text/plain": [
       "    número_atómico  masa_atómica     nombre\n",
       "H                1         1.008  hidrógeno\n",
       "He               2         4.003      helio\n",
       "Li               3         6.941      litio\n",
       "Be               4         9.012    berilio"
      ]
     },
     "execution_count": 73,
     "metadata": {},
     "output_type": "execute_result"
    }
   ],
   "source": [
    "# podemos cambiar o crear una columna mediante asignación, normalmente de una Series; usamos la del ejemplo anterior\n",
    "df['nombre'] = s\n",
    "\n",
    "df"
   ]
  },
  {
   "cell_type": "code",
   "execution_count": 31,
   "metadata": {},
   "outputs": [
    {
     "data": {
      "text/plain": [
       "'He'"
      ]
     },
     "execution_count": 31,
     "metadata": {},
     "output_type": "execute_result"
    }
   ],
   "source": [
    "# porque una columna es una Series, podemos usar el índice de la Series para obtener el valor de la celda\n",
    "df['símbolo']['helio']"
   ]
  },
  {
   "cell_type": "markdown",
   "metadata": {},
   "source": [
    "**Nota**: Los índices se corresponden con las dimensiones del objeto, un valor de una celda no tiene índices, por lo que es un objeto cero-dimensional, también llamado *escalar*."
   ]
  },
  {
   "cell_type": "markdown",
   "metadata": {},
   "source": [
    "## Carga de datos\n",
    "\n",
    "Ver más: http://pandas.pydata.org/pandas-docs/stable/io.html\n",
    "\n",
    "Pandas importa y exporta datos de y hacia gran cantidad de formatos."
   ]
  },
  {
   "cell_type": "markdown",
   "metadata": {},
   "source": [
    "#### CSV"
   ]
  },
  {
   "cell_type": "code",
   "execution_count": 120,
   "metadata": {},
   "outputs": [],
   "source": [
    "df = pd.read_csv('datos/properati_básico.csv.gz')"
   ]
  },
  {
   "cell_type": "markdown",
   "metadata": {},
   "source": [
    "Para exportar un `DataFrame` a un archivo CSV podemos usar\n",
    "\n",
    "    df.to_csv('archivo.csv')"
   ]
  },
  {
   "cell_type": "markdown",
   "metadata": {},
   "source": [
    "#### Excel\n",
    "\n",
    "Requiere un paquete adicional.\n",
    "\n",
    "    !pip install xlrd\n",
    "    \n",
    "Leer una hoja de cálculo.\n",
    "\n",
    "    pd.read_excel('datos/archivo.xlsx')"
   ]
  },
  {
   "cell_type": "markdown",
   "metadata": {},
   "source": [
    "#### SQL\n",
    "\n",
    "El siguiente código muestra cómo consultar una base de datos.\n",
    "\n",
    "```\n",
    "import sqlite3\n",
    "\n",
    "conexión = sqlite3.connect('datos/db.sqlite')\n",
    "consulta = \"SELECT * FROM tabla\"\n",
    "\n",
    "pd.read_sql(consulta, conexión)\n",
    "```"
   ]
  },
  {
   "cell_type": "markdown",
   "metadata": {},
   "source": [
    "#### BigQuery\n",
    "\n",
    "Requiere un paquete adicional.\n",
    "\n",
    "    !pip install pandas-gbq\n",
    "    \n",
    "El resto es parecido a importar desde una base de datos relacional.\n",
    "\n",
    "    consulta = \"SELECT * FROM tabla\"\n",
    "    \n",
    "    pd.read_gbq(consulta, project_id='properati-data-public')"
   ]
  },
  {
   "cell_type": "markdown",
   "metadata": {},
   "source": [
    "## Inspección"
   ]
  },
  {
   "cell_type": "code",
   "execution_count": 35,
   "metadata": {},
   "outputs": [
    {
     "data": {
      "text/html": [
       "<div>\n",
       "<style scoped>\n",
       "    .dataframe tbody tr th:only-of-type {\n",
       "        vertical-align: middle;\n",
       "    }\n",
       "\n",
       "    .dataframe tbody tr th {\n",
       "        vertical-align: top;\n",
       "    }\n",
       "\n",
       "    .dataframe thead th {\n",
       "        text-align: right;\n",
       "    }\n",
       "</style>\n",
       "<table border=\"1\" class=\"dataframe\">\n",
       "  <thead>\n",
       "    <tr style=\"text-align: right;\">\n",
       "      <th></th>\n",
       "      <th>fecha</th>\n",
       "      <th>tipo</th>\n",
       "      <th>lat</th>\n",
       "      <th>lon</th>\n",
       "      <th>precio</th>\n",
       "      <th>superficie_total</th>\n",
       "      <th>superficie_cubierta</th>\n",
       "      <th>ambientes</th>\n",
       "      <th>barrio</th>\n",
       "    </tr>\n",
       "  </thead>\n",
       "  <tbody>\n",
       "    <tr>\n",
       "      <th>0</th>\n",
       "      <td>2017-11-01</td>\n",
       "      <td>departamento</td>\n",
       "      <td>-34.629118</td>\n",
       "      <td>-58.480835</td>\n",
       "      <td>275000.0</td>\n",
       "      <td>NaN</td>\n",
       "      <td>NaN</td>\n",
       "      <td>5.0</td>\n",
       "      <td>FLORESTA</td>\n",
       "    </tr>\n",
       "    <tr>\n",
       "      <th>1</th>\n",
       "      <td>2017-11-03</td>\n",
       "      <td>departamento</td>\n",
       "      <td>-34.627120</td>\n",
       "      <td>-58.475595</td>\n",
       "      <td>268000.0</td>\n",
       "      <td>134.0</td>\n",
       "      <td>122.0</td>\n",
       "      <td>4.0</td>\n",
       "      <td>FLORESTA</td>\n",
       "    </tr>\n",
       "    <tr>\n",
       "      <th>2</th>\n",
       "      <td>2017-11-03</td>\n",
       "      <td>departamento</td>\n",
       "      <td>-34.630429</td>\n",
       "      <td>-58.486193</td>\n",
       "      <td>88000.0</td>\n",
       "      <td>37.0</td>\n",
       "      <td>34.0</td>\n",
       "      <td>2.0</td>\n",
       "      <td>FLORESTA</td>\n",
       "    </tr>\n",
       "    <tr>\n",
       "      <th>3</th>\n",
       "      <td>2017-11-09</td>\n",
       "      <td>departamento</td>\n",
       "      <td>-34.628319</td>\n",
       "      <td>-58.479828</td>\n",
       "      <td>134900.0</td>\n",
       "      <td>70.0</td>\n",
       "      <td>70.0</td>\n",
       "      <td>3.0</td>\n",
       "      <td>FLORESTA</td>\n",
       "    </tr>\n",
       "    <tr>\n",
       "      <th>4</th>\n",
       "      <td>2017-11-14</td>\n",
       "      <td>departamento</td>\n",
       "      <td>-34.620887</td>\n",
       "      <td>-58.491288</td>\n",
       "      <td>69000.0</td>\n",
       "      <td>NaN</td>\n",
       "      <td>50.0</td>\n",
       "      <td>2.0</td>\n",
       "      <td>FLORESTA</td>\n",
       "    </tr>\n",
       "  </tbody>\n",
       "</table>\n",
       "</div>"
      ],
      "text/plain": [
       "        fecha          tipo        lat        lon    precio  superficie_total  \\\n",
       "0  2017-11-01  departamento -34.629118 -58.480835  275000.0               NaN   \n",
       "1  2017-11-03  departamento -34.627120 -58.475595  268000.0             134.0   \n",
       "2  2017-11-03  departamento -34.630429 -58.486193   88000.0              37.0   \n",
       "3  2017-11-09  departamento -34.628319 -58.479828  134900.0              70.0   \n",
       "4  2017-11-14  departamento -34.620887 -58.491288   69000.0               NaN   \n",
       "\n",
       "   superficie_cubierta  ambientes    barrio  \n",
       "0                  NaN        5.0  FLORESTA  \n",
       "1                122.0        4.0  FLORESTA  \n",
       "2                 34.0        2.0  FLORESTA  \n",
       "3                 70.0        3.0  FLORESTA  \n",
       "4                 50.0        2.0  FLORESTA  "
      ]
     },
     "execution_count": 35,
     "metadata": {},
     "output_type": "execute_result"
    }
   ],
   "source": [
    "# ver primeras filas; probar tail para las últimas\n",
    "df.head()"
   ]
  },
  {
   "cell_type": "markdown",
   "metadata": {},
   "source": [
    "El método `info` nos informa de ambos índices (filas y columnas), incluyendo cantidades. Nombres de columnas, tipos de datos, cantidades de valores no nulos, uso de memoria RAM."
   ]
  },
  {
   "cell_type": "code",
   "execution_count": 7,
   "metadata": {},
   "outputs": [
    {
     "name": "stdout",
     "output_type": "stream",
     "text": [
      "<class 'pandas.core.frame.DataFrame'>\n",
      "RangeIndex: 24258 entries, 0 to 24257\n",
      "Data columns (total 9 columns):\n",
      "fecha                  24258 non-null object\n",
      "tipo                   24258 non-null object\n",
      "lat                    24258 non-null float64\n",
      "lon                    24258 non-null float64\n",
      "precio                 23141 non-null float64\n",
      "superficie_total       22261 non-null float64\n",
      "superficie_cubierta    22664 non-null float64\n",
      "ambientes              20533 non-null float64\n",
      "barrio                 24258 non-null object\n",
      "dtypes: float64(6), object(3)\n",
      "memory usage: 1.7+ MB\n"
     ]
    }
   ],
   "source": [
    "df.info()"
   ]
  },
  {
   "cell_type": "markdown",
   "metadata": {},
   "source": [
    "El método `describe` muestra estadísticas básicas acerca de las columnas númericas. Aplica sobre todas las columnas númericas, incluso sobre aquellas en las que no tiene sentido hacer estadísticas (lat y lon por ejemplo)."
   ]
  },
  {
   "cell_type": "code",
   "execution_count": 8,
   "metadata": {},
   "outputs": [
    {
     "data": {
      "text/html": [
       "<div>\n",
       "<style scoped>\n",
       "    .dataframe tbody tr th:only-of-type {\n",
       "        vertical-align: middle;\n",
       "    }\n",
       "\n",
       "    .dataframe tbody tr th {\n",
       "        vertical-align: top;\n",
       "    }\n",
       "\n",
       "    .dataframe thead th {\n",
       "        text-align: right;\n",
       "    }\n",
       "</style>\n",
       "<table border=\"1\" class=\"dataframe\">\n",
       "  <thead>\n",
       "    <tr style=\"text-align: right;\">\n",
       "      <th></th>\n",
       "      <th>lat</th>\n",
       "      <th>lon</th>\n",
       "      <th>precio</th>\n",
       "      <th>superficie_total</th>\n",
       "      <th>superficie_cubierta</th>\n",
       "      <th>ambientes</th>\n",
       "    </tr>\n",
       "  </thead>\n",
       "  <tbody>\n",
       "    <tr>\n",
       "      <th>count</th>\n",
       "      <td>24258.000000</td>\n",
       "      <td>24258.000000</td>\n",
       "      <td>2.314100e+04</td>\n",
       "      <td>22261.000000</td>\n",
       "      <td>22664.000000</td>\n",
       "      <td>20533.000000</td>\n",
       "    </tr>\n",
       "    <tr>\n",
       "      <th>mean</th>\n",
       "      <td>-34.599238</td>\n",
       "      <td>-58.436230</td>\n",
       "      <td>2.779905e+05</td>\n",
       "      <td>133.717578</td>\n",
       "      <td>137.000176</td>\n",
       "      <td>2.874056</td>\n",
       "    </tr>\n",
       "    <tr>\n",
       "      <th>std</th>\n",
       "      <td>0.026307</td>\n",
       "      <td>0.039340</td>\n",
       "      <td>3.611446e+05</td>\n",
       "      <td>1633.426319</td>\n",
       "      <td>2418.268251</td>\n",
       "      <td>1.690704</td>\n",
       "    </tr>\n",
       "    <tr>\n",
       "      <th>min</th>\n",
       "      <td>-34.695717</td>\n",
       "      <td>-58.529982</td>\n",
       "      <td>4.870050e+03</td>\n",
       "      <td>0.000000</td>\n",
       "      <td>1.000000</td>\n",
       "      <td>1.000000</td>\n",
       "    </tr>\n",
       "    <tr>\n",
       "      <th>25%</th>\n",
       "      <td>-34.618590</td>\n",
       "      <td>-58.464357</td>\n",
       "      <td>1.200000e+05</td>\n",
       "      <td>46.000000</td>\n",
       "      <td>41.000000</td>\n",
       "      <td>2.000000</td>\n",
       "    </tr>\n",
       "    <tr>\n",
       "      <th>50%</th>\n",
       "      <td>-34.598897</td>\n",
       "      <td>-58.436198</td>\n",
       "      <td>1.800000e+05</td>\n",
       "      <td>70.000000</td>\n",
       "      <td>62.000000</td>\n",
       "      <td>3.000000</td>\n",
       "    </tr>\n",
       "    <tr>\n",
       "      <th>75%</th>\n",
       "      <td>-34.580350</td>\n",
       "      <td>-58.403884</td>\n",
       "      <td>2.990000e+05</td>\n",
       "      <td>120.000000</td>\n",
       "      <td>104.000000</td>\n",
       "      <td>4.000000</td>\n",
       "    </tr>\n",
       "    <tr>\n",
       "      <th>max</th>\n",
       "      <td>-34.536066</td>\n",
       "      <td>-58.353946</td>\n",
       "      <td>1.350000e+07</td>\n",
       "      <td>184000.000000</td>\n",
       "      <td>263960.000000</td>\n",
       "      <td>38.000000</td>\n",
       "    </tr>\n",
       "  </tbody>\n",
       "</table>\n",
       "</div>"
      ],
      "text/plain": [
       "                lat           lon        precio  superficie_total  \\\n",
       "count  24258.000000  24258.000000  2.314100e+04      22261.000000   \n",
       "mean     -34.599238    -58.436230  2.779905e+05        133.717578   \n",
       "std        0.026307      0.039340  3.611446e+05       1633.426319   \n",
       "min      -34.695717    -58.529982  4.870050e+03          0.000000   \n",
       "25%      -34.618590    -58.464357  1.200000e+05         46.000000   \n",
       "50%      -34.598897    -58.436198  1.800000e+05         70.000000   \n",
       "75%      -34.580350    -58.403884  2.990000e+05        120.000000   \n",
       "max      -34.536066    -58.353946  1.350000e+07     184000.000000   \n",
       "\n",
       "       superficie_cubierta     ambientes  \n",
       "count         22664.000000  20533.000000  \n",
       "mean            137.000176      2.874056  \n",
       "std            2418.268251      1.690704  \n",
       "min               1.000000      1.000000  \n",
       "25%              41.000000      2.000000  \n",
       "50%              62.000000      3.000000  \n",
       "75%             104.000000      4.000000  \n",
       "max          263960.000000     38.000000  "
      ]
     },
     "execution_count": 8,
     "metadata": {},
     "output_type": "execute_result"
    }
   ],
   "source": [
    "df.describe()"
   ]
  },
  {
   "cell_type": "markdown",
   "metadata": {},
   "source": [
    "## Indexación\n",
    "\n",
    "Por indexación nos referimos a la selección de un subconjunto de un `DataFrame` o de una `Series`. Por ahora hemos visto un uso básico de los corchetes `[ ]`, el operador índice, para acceder a columnas de un `DataFrame` y a valores de una `Series`. En el caso de las `Series` los casos de uso del operador no difieren prácticamente de lo que se puede hacer con un arreglo de NumPy, sin embargo en el caso de los `DataFrame`s se complejiza ya que permite seleccionar por filas (no lo vimos) o por columnas (sí lo vimos).\n",
    "\n",
    "Los corchetes existen en Pandas por conveniencia para hacer algunas operaciones más simples, lo cual también traerá aparejado limitaciones. Pandas va a determinar si estamos queriendo acceder a la tabla usando el índice que se llama *index* (nombres filas) o el que se llama *columns*.\n",
    "\n",
    "A su vez **hay dos maneras de utilizar los índices**:\n",
    "\n",
    "* por etiqueta (como en los diccionarios),\n",
    "* por posición (como en las listas).\n",
    "\n",
    "Esta modalidad dual no está presente en los diccionarios, que no pueden ser indexados por posición, ni en las listas, que no pueden ser indexadas por etiqueta. Está presente en Pandas y nos permite acceder a los datos de la forma conveniente según el caso."
   ]
  },
  {
   "cell_type": "code",
   "execution_count": 36,
   "metadata": {},
   "outputs": [
    {
     "data": {
      "text/plain": [
       "0    FLORESTA\n",
       "1    FLORESTA\n",
       "2    FLORESTA\n",
       "3    FLORESTA\n",
       "4    FLORESTA\n",
       "Name: barrio, dtype: object"
      ]
     },
     "execution_count": 36,
     "metadata": {},
     "output_type": "execute_result"
    }
   ],
   "source": [
    "# un nombre columna, devuelve una Series\n",
    "df['barrio'].head()"
   ]
  },
  {
   "cell_type": "markdown",
   "metadata": {},
   "source": [
    "**No es posible obtener una sola fila** con `[ ]`, pero sí un subconjunto de filas y también un subconjunto de columnas. Antes de mostrar cómo hacerlo, introducimos tres nuevos conceptos: `slice`, lista de índices y máscara booleana."
   ]
  },
  {
   "cell_type": "markdown",
   "metadata": {},
   "source": [
    "### Cortes\n",
    "\n",
    "Existe en Python un tipo de objeto llamado `slice`, traducido como corte o rebanada, cuyo fin es ayudar a producir sublistas a partir de listas, \"cortando\" una lista desde una posición inicial hasta una posición final. En realidad la lista original no es modificada sino que se devuelve una nueva, usando los elementos que ya existen en la original (los objetos no son copiados)."
   ]
  },
  {
   "cell_type": "code",
   "execution_count": 37,
   "metadata": {},
   "outputs": [
    {
     "data": {
      "text/plain": [
       "['naranja', 'banana', 'ananá', 'durazno', 'uva']"
      ]
     },
     "execution_count": 37,
     "metadata": {},
     "output_type": "execute_result"
    }
   ],
   "source": [
    "frutas = ['naranja', 'banana', 'ananá', 'durazno', 'uva']\n",
    "frutas"
   ]
  },
  {
   "cell_type": "markdown",
   "metadata": {},
   "source": [
    "Sabemos cómo obtener valores individuales."
   ]
  },
  {
   "cell_type": "code",
   "execution_count": 38,
   "metadata": {},
   "outputs": [
    {
     "data": {
      "text/plain": [
       "'ananá'"
      ]
     },
     "execution_count": 38,
     "metadata": {},
     "output_type": "execute_result"
    }
   ],
   "source": [
    "frutas[2]"
   ]
  },
  {
   "cell_type": "markdown",
   "metadata": {},
   "source": [
    "Supongamos que nos interesa conseguir una sublista con las tres primeras frutas, serían los elementos en las posiciones 0, 1, 2, por lo que deberíamos cortar desde 0 hasta 3 (no inclusive)."
   ]
  },
  {
   "cell_type": "code",
   "execution_count": 39,
   "metadata": {},
   "outputs": [
    {
     "data": {
      "text/plain": [
       "slice(0, 3, None)"
      ]
     },
     "execution_count": 39,
     "metadata": {},
     "output_type": "execute_result"
    }
   ],
   "source": [
    "corte = slice(0, 3)\n",
    "corte"
   ]
  },
  {
   "cell_type": "code",
   "execution_count": 40,
   "metadata": {},
   "outputs": [
    {
     "data": {
      "text/plain": [
       "['naranja', 'banana', 'ananá']"
      ]
     },
     "execution_count": 40,
     "metadata": {},
     "output_type": "execute_result"
    }
   ],
   "source": [
    "frutas[corte]"
   ]
  },
  {
   "cell_type": "markdown",
   "metadata": {},
   "source": [
    "Podemos obtener el mismo resultado con un atajo. Los atajos reciben el nombre de **azúcar sintáctica**, son expresiones cómodas para idiomas frecuentes, que existen en paralelo a las formas regulares del lenguaje.  "
   ]
  },
  {
   "cell_type": "code",
   "execution_count": 41,
   "metadata": {},
   "outputs": [
    {
     "data": {
      "text/plain": [
       "['naranja', 'banana', 'ananá']"
      ]
     },
     "execution_count": 41,
     "metadata": {},
     "output_type": "execute_result"
    }
   ],
   "source": [
    "frutas[0:3]"
   ]
  },
  {
   "cell_type": "code",
   "execution_count": 42,
   "metadata": {},
   "outputs": [
    {
     "data": {
      "text/plain": [
       "['naranja', 'banana', 'ananá']"
      ]
     },
     "execution_count": 42,
     "metadata": {},
     "output_type": "execute_result"
    }
   ],
   "source": [
    "# si la posición inicial está ausente, se entiende que va desde el principio\n",
    "frutas[:3]"
   ]
  },
  {
   "cell_type": "code",
   "execution_count": 43,
   "metadata": {},
   "outputs": [
    {
     "data": {
      "text/plain": [
       "['durazno', 'uva']"
      ]
     },
     "execution_count": 43,
     "metadata": {},
     "output_type": "execute_result"
    }
   ],
   "source": [
    "# si la posición final está ausente, se entiende que va hasta el final\n",
    "frutas[3:]"
   ]
  },
  {
   "cell_type": "code",
   "execution_count": 44,
   "metadata": {},
   "outputs": [
    {
     "data": {
      "text/plain": [
       "['naranja', 'banana', 'ananá', 'durazno', 'uva']"
      ]
     },
     "execution_count": 44,
     "metadata": {},
     "output_type": "execute_result"
    }
   ],
   "source": [
    "# esto no parece útil ahora pero lo será más adelante\n",
    "frutas[:]"
   ]
  },
  {
   "cell_type": "code",
   "execution_count": 45,
   "metadata": {},
   "outputs": [
    {
     "data": {
      "text/plain": [
       "slice(None, None, None)"
      ]
     },
     "execution_count": 45,
     "metadata": {},
     "output_type": "execute_result"
    }
   ],
   "source": [
    "# ídem pero sin azúcar\n",
    "corte = slice(None)\n",
    "corte"
   ]
  },
  {
   "cell_type": "code",
   "execution_count": 46,
   "metadata": {},
   "outputs": [
    {
     "data": {
      "text/plain": [
       "['naranja', 'banana', 'ananá', 'durazno', 'uva']"
      ]
     },
     "execution_count": 46,
     "metadata": {},
     "output_type": "execute_result"
    }
   ],
   "source": [
    "frutas[corte]"
   ]
  },
  {
   "cell_type": "markdown",
   "metadata": {},
   "source": [
    "### Listas de índices y máscaras booleanas"
   ]
  },
  {
   "cell_type": "markdown",
   "metadata": {},
   "source": [
    "Los arreglos de NumPy son como las listas de Python pero con funcionalidades agregadas. Admiten indexado por posición, por corte y añaden nuevas maneras de formar sub-arreglos, mediante\n",
    "* listas o rangos de posiciones,\n",
    "* listas de valores booleanos, llamadas máscaras."
   ]
  },
  {
   "cell_type": "code",
   "execution_count": 90,
   "metadata": {},
   "outputs": [
    {
     "data": {
      "text/plain": [
       "array(['naranja', 'banana', 'ananá', 'durazno', 'uva'], dtype='<U7')"
      ]
     },
     "execution_count": 90,
     "metadata": {},
     "output_type": "execute_result"
    }
   ],
   "source": [
    "import numpy as np\n",
    "\n",
    "frutas = np.array(['naranja', 'banana', 'ananá', 'durazno', 'uva'])\n",
    "frutas"
   ]
  },
  {
   "cell_type": "markdown",
   "metadata": {},
   "source": [
    "#### Listas de posiciones\n",
    "\n",
    "Supongamos que queremos obtener los elementos naranja, ananá, uva. A diferencia de las listas que solo permiten enteros o cortes, NumPy nos permite pasar una lista con las posiciones de interés."
   ]
  },
  {
   "cell_type": "code",
   "execution_count": 48,
   "metadata": {},
   "outputs": [
    {
     "data": {
      "text/plain": [
       "array(['naranja', 'ananá', 'uva'], dtype='<U7')"
      ]
     },
     "execution_count": 48,
     "metadata": {},
     "output_type": "execute_result"
    }
   ],
   "source": [
    "# en vez de usar un escalar (int, str...) usamos una lista\n",
    "frutas[[0,2,4]]"
   ]
  },
  {
   "cell_type": "markdown",
   "metadata": {},
   "source": [
    "En Python existe un tipo de objeto llamado rango (`range`), que se puede crear —como casi todos los tipos de objetos en el lenguaje— utilizando una función homónima, que representa una colección de números desde un valor inicial hasta un valor final (no inclusive) utilizando un intervalo determinado. A diferencia de `slice`, los rangos pueden ser convertidos en listas.\n",
    "\n",
    "Si se trata de un patrón regular, es mejor definir un rango antes que una lista."
   ]
  },
  {
   "cell_type": "code",
   "execution_count": 49,
   "metadata": {},
   "outputs": [
    {
     "data": {
      "text/plain": [
       "range(0, 5, 2)"
      ]
     },
     "execution_count": 49,
     "metadata": {},
     "output_type": "execute_result"
    }
   ],
   "source": [
    "# desde cero hasta cinco contando de a dos\n",
    "rango = range(0, 5, 2)\n",
    "rango"
   ]
  },
  {
   "cell_type": "code",
   "execution_count": 50,
   "metadata": {},
   "outputs": [
    {
     "data": {
      "text/plain": [
       "[0, 2, 4]"
      ]
     },
     "execution_count": 50,
     "metadata": {},
     "output_type": "execute_result"
    }
   ],
   "source": [
    "# pueden ser convertidos en listas\n",
    "list(rango)"
   ]
  },
  {
   "cell_type": "code",
   "execution_count": 51,
   "metadata": {},
   "outputs": [
    {
     "data": {
      "text/plain": [
       "array(['naranja', 'ananá', 'uva'], dtype='<U7')"
      ]
     },
     "execution_count": 51,
     "metadata": {},
     "output_type": "execute_result"
    }
   ],
   "source": [
    "# se obtienen los mismos resultados\n",
    "frutas[rango]"
   ]
  },
  {
   "cell_type": "markdown",
   "metadata": {},
   "source": [
    "#### Máscaras\n",
    "\n",
    "**La máscara debe tener el mismo largo que el arreglo** y estar compuesta por valores booleanos (`bool`). En este caso, cinco elementos."
   ]
  },
  {
   "cell_type": "code",
   "execution_count": 52,
   "metadata": {},
   "outputs": [
    {
     "data": {
      "text/plain": [
       "array(['naranja', 'ananá', 'uva'], dtype='<U7')"
      ]
     },
     "execution_count": 52,
     "metadata": {},
     "output_type": "execute_result"
    }
   ],
   "source": [
    "máscara = [True, False, True, False, True]\n",
    "\n",
    "frutas[máscara]"
   ]
  },
  {
   "cell_type": "markdown",
   "metadata": {},
   "source": [
    "Se filtran aquellos elementos cuya posición se corresponde con las posiciones de los valores `False` de la máscara, se seleccionan aquellos donde `True`. La máscara sirve para ocultar algunas partes y mostrar otras.\n",
    "\n",
    "---\n",
    "\n",
    "Podemos utilizar una lista de etiquetas para obtener un subconjunto de columnas."
   ]
  },
  {
   "cell_type": "code",
   "execution_count": 53,
   "metadata": {},
   "outputs": [
    {
     "data": {
      "text/html": [
       "<div>\n",
       "<style scoped>\n",
       "    .dataframe tbody tr th:only-of-type {\n",
       "        vertical-align: middle;\n",
       "    }\n",
       "\n",
       "    .dataframe tbody tr th {\n",
       "        vertical-align: top;\n",
       "    }\n",
       "\n",
       "    .dataframe thead th {\n",
       "        text-align: right;\n",
       "    }\n",
       "</style>\n",
       "<table border=\"1\" class=\"dataframe\">\n",
       "  <thead>\n",
       "    <tr style=\"text-align: right;\">\n",
       "      <th></th>\n",
       "      <th>barrio</th>\n",
       "      <th>ambientes</th>\n",
       "      <th>precio</th>\n",
       "    </tr>\n",
       "  </thead>\n",
       "  <tbody>\n",
       "    <tr>\n",
       "      <th>0</th>\n",
       "      <td>FLORESTA</td>\n",
       "      <td>5.0</td>\n",
       "      <td>275000.0</td>\n",
       "    </tr>\n",
       "    <tr>\n",
       "      <th>1</th>\n",
       "      <td>FLORESTA</td>\n",
       "      <td>4.0</td>\n",
       "      <td>268000.0</td>\n",
       "    </tr>\n",
       "    <tr>\n",
       "      <th>2</th>\n",
       "      <td>FLORESTA</td>\n",
       "      <td>2.0</td>\n",
       "      <td>88000.0</td>\n",
       "    </tr>\n",
       "    <tr>\n",
       "      <th>3</th>\n",
       "      <td>FLORESTA</td>\n",
       "      <td>3.0</td>\n",
       "      <td>134900.0</td>\n",
       "    </tr>\n",
       "    <tr>\n",
       "      <th>4</th>\n",
       "      <td>FLORESTA</td>\n",
       "      <td>2.0</td>\n",
       "      <td>69000.0</td>\n",
       "    </tr>\n",
       "  </tbody>\n",
       "</table>\n",
       "</div>"
      ],
      "text/plain": [
       "     barrio  ambientes    precio\n",
       "0  FLORESTA        5.0  275000.0\n",
       "1  FLORESTA        4.0  268000.0\n",
       "2  FLORESTA        2.0   88000.0\n",
       "3  FLORESTA        3.0  134900.0\n",
       "4  FLORESTA        2.0   69000.0"
      ]
     },
     "execution_count": 53,
     "metadata": {},
     "output_type": "execute_result"
    }
   ],
   "source": [
    "# lista de nombres de columnas, devuelve un DataFrame\n",
    "df[['barrio', 'ambientes', 'precio']].head()"
   ]
  },
  {
   "cell_type": "markdown",
   "metadata": {},
   "source": [
    "Podemos utilizar un corte para obtener un subconjunto de filas **por posición**."
   ]
  },
  {
   "cell_type": "code",
   "execution_count": 55,
   "metadata": {},
   "outputs": [
    {
     "data": {
      "text/html": [
       "<div>\n",
       "<style scoped>\n",
       "    .dataframe tbody tr th:only-of-type {\n",
       "        vertical-align: middle;\n",
       "    }\n",
       "\n",
       "    .dataframe tbody tr th {\n",
       "        vertical-align: top;\n",
       "    }\n",
       "\n",
       "    .dataframe thead th {\n",
       "        text-align: right;\n",
       "    }\n",
       "</style>\n",
       "<table border=\"1\" class=\"dataframe\">\n",
       "  <thead>\n",
       "    <tr style=\"text-align: right;\">\n",
       "      <th></th>\n",
       "      <th>fecha</th>\n",
       "      <th>tipo</th>\n",
       "      <th>lat</th>\n",
       "      <th>lon</th>\n",
       "      <th>precio</th>\n",
       "      <th>superficie_total</th>\n",
       "      <th>superficie_cubierta</th>\n",
       "      <th>ambientes</th>\n",
       "      <th>barrio</th>\n",
       "    </tr>\n",
       "  </thead>\n",
       "  <tbody>\n",
       "    <tr>\n",
       "      <th>0</th>\n",
       "      <td>2017-11-01</td>\n",
       "      <td>departamento</td>\n",
       "      <td>-34.629118</td>\n",
       "      <td>-58.480835</td>\n",
       "      <td>275000.0</td>\n",
       "      <td>NaN</td>\n",
       "      <td>NaN</td>\n",
       "      <td>5.0</td>\n",
       "      <td>FLORESTA</td>\n",
       "    </tr>\n",
       "    <tr>\n",
       "      <th>1</th>\n",
       "      <td>2017-11-03</td>\n",
       "      <td>departamento</td>\n",
       "      <td>-34.627120</td>\n",
       "      <td>-58.475595</td>\n",
       "      <td>268000.0</td>\n",
       "      <td>134.0</td>\n",
       "      <td>122.0</td>\n",
       "      <td>4.0</td>\n",
       "      <td>FLORESTA</td>\n",
       "    </tr>\n",
       "    <tr>\n",
       "      <th>2</th>\n",
       "      <td>2017-11-03</td>\n",
       "      <td>departamento</td>\n",
       "      <td>-34.630429</td>\n",
       "      <td>-58.486193</td>\n",
       "      <td>88000.0</td>\n",
       "      <td>37.0</td>\n",
       "      <td>34.0</td>\n",
       "      <td>2.0</td>\n",
       "      <td>FLORESTA</td>\n",
       "    </tr>\n",
       "    <tr>\n",
       "      <th>3</th>\n",
       "      <td>2017-11-09</td>\n",
       "      <td>departamento</td>\n",
       "      <td>-34.628319</td>\n",
       "      <td>-58.479828</td>\n",
       "      <td>134900.0</td>\n",
       "      <td>70.0</td>\n",
       "      <td>70.0</td>\n",
       "      <td>3.0</td>\n",
       "      <td>FLORESTA</td>\n",
       "    </tr>\n",
       "    <tr>\n",
       "      <th>4</th>\n",
       "      <td>2017-11-14</td>\n",
       "      <td>departamento</td>\n",
       "      <td>-34.620887</td>\n",
       "      <td>-58.491288</td>\n",
       "      <td>69000.0</td>\n",
       "      <td>NaN</td>\n",
       "      <td>50.0</td>\n",
       "      <td>2.0</td>\n",
       "      <td>FLORESTA</td>\n",
       "    </tr>\n",
       "  </tbody>\n",
       "</table>\n",
       "</div>"
      ],
      "text/plain": [
       "        fecha          tipo        lat        lon    precio  superficie_total  \\\n",
       "0  2017-11-01  departamento -34.629118 -58.480835  275000.0               NaN   \n",
       "1  2017-11-03  departamento -34.627120 -58.475595  268000.0             134.0   \n",
       "2  2017-11-03  departamento -34.630429 -58.486193   88000.0              37.0   \n",
       "3  2017-11-09  departamento -34.628319 -58.479828  134900.0              70.0   \n",
       "4  2017-11-14  departamento -34.620887 -58.491288   69000.0               NaN   \n",
       "\n",
       "   superficie_cubierta  ambientes    barrio  \n",
       "0                  NaN        5.0  FLORESTA  \n",
       "1                122.0        4.0  FLORESTA  \n",
       "2                 34.0        2.0  FLORESTA  \n",
       "3                 70.0        3.0  FLORESTA  \n",
       "4                 50.0        2.0  FLORESTA  "
      ]
     },
     "execution_count": 55,
     "metadata": {},
     "output_type": "execute_result"
    }
   ],
   "source": [
    "df[:5]"
   ]
  },
  {
   "cell_type": "markdown",
   "metadata": {},
   "source": [
    "**Nota**: En muchos casos los nombres de filas van a coincidir con las posiciones de filas, ya que si no especificamos un índice, el índice por defecto que asigna Pandas a las filas va de 0 a N-1, siendo N la cantidad de filas. **Estas etiquetas coinciden con la posición**.\n",
    "\n",
    "También podemos utilizar una máscara. Hay formas muy prácticas de generar máscaras, la que se presenta a continuación solo tiene fines demostrativos y jamás volverá a ser utilizada."
   ]
  },
  {
   "cell_type": "code",
   "execution_count": 56,
   "metadata": {},
   "outputs": [
    {
     "data": {
      "text/html": [
       "<div>\n",
       "<style scoped>\n",
       "    .dataframe tbody tr th:only-of-type {\n",
       "        vertical-align: middle;\n",
       "    }\n",
       "\n",
       "    .dataframe tbody tr th {\n",
       "        vertical-align: top;\n",
       "    }\n",
       "\n",
       "    .dataframe thead th {\n",
       "        text-align: right;\n",
       "    }\n",
       "</style>\n",
       "<table border=\"1\" class=\"dataframe\">\n",
       "  <thead>\n",
       "    <tr style=\"text-align: right;\">\n",
       "      <th></th>\n",
       "      <th>fecha</th>\n",
       "      <th>tipo</th>\n",
       "      <th>lat</th>\n",
       "      <th>lon</th>\n",
       "      <th>precio</th>\n",
       "      <th>superficie_total</th>\n",
       "      <th>superficie_cubierta</th>\n",
       "      <th>ambientes</th>\n",
       "      <th>barrio</th>\n",
       "    </tr>\n",
       "  </thead>\n",
       "  <tbody>\n",
       "    <tr>\n",
       "      <th>0</th>\n",
       "      <td>2017-11-01</td>\n",
       "      <td>departamento</td>\n",
       "      <td>-34.629118</td>\n",
       "      <td>-58.480835</td>\n",
       "      <td>275000.0</td>\n",
       "      <td>NaN</td>\n",
       "      <td>NaN</td>\n",
       "      <td>5.0</td>\n",
       "      <td>FLORESTA</td>\n",
       "    </tr>\n",
       "    <tr>\n",
       "      <th>1</th>\n",
       "      <td>2017-11-03</td>\n",
       "      <td>departamento</td>\n",
       "      <td>-34.627120</td>\n",
       "      <td>-58.475595</td>\n",
       "      <td>268000.0</td>\n",
       "      <td>134.0</td>\n",
       "      <td>122.0</td>\n",
       "      <td>4.0</td>\n",
       "      <td>FLORESTA</td>\n",
       "    </tr>\n",
       "  </tbody>\n",
       "</table>\n",
       "</div>"
      ],
      "text/plain": [
       "        fecha          tipo        lat        lon    precio  superficie_total  \\\n",
       "0  2017-11-01  departamento -34.629118 -58.480835  275000.0               NaN   \n",
       "1  2017-11-03  departamento -34.627120 -58.475595  268000.0             134.0   \n",
       "\n",
       "   superficie_cubierta  ambientes    barrio  \n",
       "0                  NaN        5.0  FLORESTA  \n",
       "1                122.0        4.0  FLORESTA  "
      ]
     },
     "execution_count": 56,
     "metadata": {},
     "output_type": "execute_result"
    }
   ],
   "source": [
    "# la función len nos dice la cantidad de filas del DataFrame\n",
    "cantidad_filas = len(df)\n",
    "\n",
    "# usando la función np.null armamos un arreglo tan largo como la tabla, lleno de un valor especificado (False)\n",
    "máscara = np.full(cantidad_filas, False)\n",
    "\n",
    "# retocamos la máscara para recuperar solo las primeras dos filas\n",
    "máscara[0] = True\n",
    "máscara[1] = True\n",
    "\n",
    "df[máscara]"
   ]
  },
  {
   "cell_type": "markdown",
   "metadata": {},
   "source": [
    "Resumimos las capacidades de `[ ]`:\n",
    "* Una etiqueta de columna, devuelve una columna.\n",
    "* Una lista de etiquetas de columnas, devuelve una subtabla.\n",
    "* Un corte de posiciones de filas, devuelve una subtabla.\n",
    "* Una máscara de posiciones de filas, devuelve una subtabla.\n",
    "\n",
    "Se nota el comportamiento de filas por sus posiciones y columnas por sus etiquetas."
   ]
  },
  {
   "cell_type": "markdown",
   "metadata": {},
   "source": [
    "Alternativamente se puede acceder a una columna como si fuera un atributo del `DataFrame`."
   ]
  },
  {
   "cell_type": "code",
   "execution_count": 57,
   "metadata": {},
   "outputs": [
    {
     "data": {
      "text/plain": [
       "0    FLORESTA\n",
       "1    FLORESTA\n",
       "2    FLORESTA\n",
       "3    FLORESTA\n",
       "4    FLORESTA\n",
       "Name: barrio, dtype: object"
      ]
     },
     "execution_count": 57,
     "metadata": {},
     "output_type": "execute_result"
    }
   ],
   "source": [
    "# funciona como df['barrio']; es como df$barrio en R\n",
    "df.barrio.head()"
   ]
  },
  {
   "cell_type": "markdown",
   "metadata": {},
   "source": [
    "### Filas y columnas\n",
    "\n",
    "¿Qué pasa si queremos filtrar utilizando ambos índices simultáneamente? En principio podríamos hacer\n",
    "\n",
    "    df[columnas][filas]\n",
    "\n",
    "sin embargo esta manera efectúa dos selecciones, una seguida de la otra, no es simultánea, lo que traerá más adelante implicancias para la asignación. Para esta situación Pandas provee las siguientes formas de indexar.\n",
    "\n",
    "* `loc[filas, columnas]` para acceder por etiquetas,\n",
    "* `iloc[filas, columnas]` para acceder por posición.\n",
    "\n",
    "Es un poco confuso al principio, la i de `iloc` hace pensar en la fila (o en la columna) número i, o sea en la posición i.\n",
    "\n",
    "La limitación de estas formas es que **no es posible mezclar etiquetas con posiciones**; por ejemplo posición de filas y etiquetas de columnas, una combinación bastante deseable."
   ]
  },
  {
   "cell_type": "code",
   "execution_count": 26,
   "metadata": {},
   "outputs": [
    {
     "data": {
      "text/html": [
       "<div>\n",
       "<style scoped>\n",
       "    .dataframe tbody tr th:only-of-type {\n",
       "        vertical-align: middle;\n",
       "    }\n",
       "\n",
       "    .dataframe tbody tr th {\n",
       "        vertical-align: top;\n",
       "    }\n",
       "\n",
       "    .dataframe thead th {\n",
       "        text-align: right;\n",
       "    }\n",
       "</style>\n",
       "<table border=\"1\" class=\"dataframe\">\n",
       "  <thead>\n",
       "    <tr style=\"text-align: right;\">\n",
       "      <th></th>\n",
       "      <th>fecha</th>\n",
       "      <th>tipo</th>\n",
       "      <th>lat</th>\n",
       "      <th>lon</th>\n",
       "      <th>precio</th>\n",
       "      <th>superficie_total</th>\n",
       "      <th>superficie_cubierta</th>\n",
       "      <th>ambientes</th>\n",
       "      <th>barrio</th>\n",
       "    </tr>\n",
       "  </thead>\n",
       "  <tbody>\n",
       "    <tr>\n",
       "      <th>19411</th>\n",
       "      <td>2018-02-23</td>\n",
       "      <td>ph</td>\n",
       "      <td>-34.640644</td>\n",
       "      <td>-58.500677</td>\n",
       "      <td>128000.0</td>\n",
       "      <td>65.0</td>\n",
       "      <td>60.0</td>\n",
       "      <td>NaN</td>\n",
       "      <td>VILLA LURO</td>\n",
       "    </tr>\n",
       "    <tr>\n",
       "      <th>17819</th>\n",
       "      <td>2018-02-28</td>\n",
       "      <td>departamento</td>\n",
       "      <td>-34.643719</td>\n",
       "      <td>-58.372644</td>\n",
       "      <td>86000.0</td>\n",
       "      <td>34.0</td>\n",
       "      <td>32.0</td>\n",
       "      <td>1.0</td>\n",
       "      <td>BARRACAS</td>\n",
       "    </tr>\n",
       "    <tr>\n",
       "      <th>14611</th>\n",
       "      <td>2018-02-07</td>\n",
       "      <td>departamento</td>\n",
       "      <td>-34.573595</td>\n",
       "      <td>-58.442591</td>\n",
       "      <td>194150.0</td>\n",
       "      <td>58.0</td>\n",
       "      <td>48.0</td>\n",
       "      <td>2.0</td>\n",
       "      <td>COLEGIALES</td>\n",
       "    </tr>\n",
       "    <tr>\n",
       "      <th>22362</th>\n",
       "      <td>2018-02-20</td>\n",
       "      <td>casa</td>\n",
       "      <td>-34.611046</td>\n",
       "      <td>-58.503044</td>\n",
       "      <td>245000.0</td>\n",
       "      <td>112.0</td>\n",
       "      <td>112.0</td>\n",
       "      <td>2.0</td>\n",
       "      <td>VILLA DEVOTO</td>\n",
       "    </tr>\n",
       "    <tr>\n",
       "      <th>16962</th>\n",
       "      <td>2018-04-11</td>\n",
       "      <td>departamento</td>\n",
       "      <td>-34.605809</td>\n",
       "      <td>-58.453481</td>\n",
       "      <td>142900.0</td>\n",
       "      <td>47.0</td>\n",
       "      <td>40.0</td>\n",
       "      <td>2.0</td>\n",
       "      <td>VILLA CRESPO</td>\n",
       "    </tr>\n",
       "  </tbody>\n",
       "</table>\n",
       "</div>"
      ],
      "text/plain": [
       "            fecha          tipo        lat        lon    precio  \\\n",
       "19411  2018-02-23            ph -34.640644 -58.500677  128000.0   \n",
       "17819  2018-02-28  departamento -34.643719 -58.372644   86000.0   \n",
       "14611  2018-02-07  departamento -34.573595 -58.442591  194150.0   \n",
       "22362  2018-02-20          casa -34.611046 -58.503044  245000.0   \n",
       "16962  2018-04-11  departamento -34.605809 -58.453481  142900.0   \n",
       "\n",
       "       superficie_total  superficie_cubierta  ambientes        barrio  \n",
       "19411              65.0                 60.0        NaN    VILLA LURO  \n",
       "17819              34.0                 32.0        1.0      BARRACAS  \n",
       "14611              58.0                 48.0        2.0    COLEGIALES  \n",
       "22362             112.0                112.0        2.0  VILLA DEVOTO  \n",
       "16962              47.0                 40.0        2.0  VILLA CRESPO  "
      ]
     },
     "execution_count": 26,
     "metadata": {},
     "output_type": "execute_result"
    }
   ],
   "source": [
    "# esta línea de código desordena las filas para que sus etiquetas ya no coincidan con\n",
    "# el orden que las filas tienen en la tabla\n",
    "# (no hace falta entender esta línea en este momento)\n",
    "df = df.sample(frac=1, random_state=42)\n",
    "\n",
    "df.head()"
   ]
  },
  {
   "cell_type": "markdown",
   "metadata": {},
   "source": [
    "#### Por etiquetas"
   ]
  },
  {
   "cell_type": "code",
   "execution_count": 88,
   "metadata": {},
   "outputs": [
    {
     "data": {
      "text/plain": [
       "'2018-02-21'"
      ]
     },
     "execution_count": 88,
     "metadata": {},
     "output_type": "execute_result"
    }
   ],
   "source": [
    "# valor de una celda, fila y columna; devuelve un escalar (valor suelto)\n",
    "df.loc[100, 'fecha']"
   ]
  },
  {
   "cell_type": "markdown",
   "metadata": {},
   "source": [
    "La selección de todas las columnas en R se logra con `df[filas,]` pero en Python esta sintaxis no es válida, opciones son `df.loc[filas]` o `df.loc[filas, :]`. "
   ]
  },
  {
   "cell_type": "code",
   "execution_count": 89,
   "metadata": {},
   "outputs": [
    {
     "data": {
      "text/plain": [
       "fecha                    2018-02-21\n",
       "tipo                   departamento\n",
       "lat                         -34.629\n",
       "lon                        -58.4797\n",
       "precio                        92000\n",
       "superficie_total                 48\n",
       "superficie_cubierta              48\n",
       "ambientes                         3\n",
       "barrio                     FLORESTA\n",
       "Name: 100, dtype: object"
      ]
     },
     "execution_count": 89,
     "metadata": {},
     "output_type": "execute_result"
    }
   ],
   "source": [
    "# un fila puntual, todas las columnas; devuelve una Series\n",
    "df.loc[100]"
   ]
  },
  {
   "cell_type": "code",
   "execution_count": 94,
   "metadata": {},
   "outputs": [
    {
     "data": {
      "text/plain": [
       "1      2017-11-03\n",
       "10     2017-11-29\n",
       "100    2018-02-21\n",
       "Name: fecha, dtype: object"
      ]
     },
     "execution_count": 94,
     "metadata": {},
     "output_type": "execute_result"
    }
   ],
   "source": [
    "# varias filas (lista de etiquetas), una columna; devuelve una Series\n",
    "df.loc[[1,10,100], 'fecha']"
   ]
  },
  {
   "cell_type": "code",
   "execution_count": 95,
   "metadata": {},
   "outputs": [
    {
     "data": {
      "text/html": [
       "<div>\n",
       "<style scoped>\n",
       "    .dataframe tbody tr th:only-of-type {\n",
       "        vertical-align: middle;\n",
       "    }\n",
       "\n",
       "    .dataframe tbody tr th {\n",
       "        vertical-align: top;\n",
       "    }\n",
       "\n",
       "    .dataframe thead th {\n",
       "        text-align: right;\n",
       "    }\n",
       "</style>\n",
       "<table border=\"1\" class=\"dataframe\">\n",
       "  <thead>\n",
       "    <tr style=\"text-align: right;\">\n",
       "      <th></th>\n",
       "      <th>superficie_cubierta</th>\n",
       "      <th>superficie_total</th>\n",
       "    </tr>\n",
       "  </thead>\n",
       "  <tbody>\n",
       "    <tr>\n",
       "      <th>1</th>\n",
       "      <td>122.0</td>\n",
       "      <td>134.0</td>\n",
       "    </tr>\n",
       "    <tr>\n",
       "      <th>10</th>\n",
       "      <td>341.0</td>\n",
       "      <td>401.0</td>\n",
       "    </tr>\n",
       "    <tr>\n",
       "      <th>100</th>\n",
       "      <td>48.0</td>\n",
       "      <td>48.0</td>\n",
       "    </tr>\n",
       "  </tbody>\n",
       "</table>\n",
       "</div>"
      ],
      "text/plain": [
       "     superficie_cubierta  superficie_total\n",
       "1                  122.0             134.0\n",
       "10                 341.0             401.0\n",
       "100                 48.0              48.0"
      ]
     },
     "execution_count": 95,
     "metadata": {},
     "output_type": "execute_result"
    }
   ],
   "source": [
    "# varias filas, varias columnas; devuelve un DataFrame\n",
    "df.loc[[1,10,100], ['superficie_cubierta', 'superficie_total']]"
   ]
  },
  {
   "cell_type": "markdown",
   "metadata": {},
   "source": [
    "La selección de todas las filas en R se logra con `df[,columnas]` pero en Python esta sintáxis no es válida, se requiere de un corte total `slice(None)` o más común, su azúcar sintáctica `df.loc[:, columnas]`."
   ]
  },
  {
   "cell_type": "code",
   "execution_count": 96,
   "metadata": {},
   "outputs": [
    {
     "data": {
      "text/html": [
       "<div>\n",
       "<style scoped>\n",
       "    .dataframe tbody tr th:only-of-type {\n",
       "        vertical-align: middle;\n",
       "    }\n",
       "\n",
       "    .dataframe tbody tr th {\n",
       "        vertical-align: top;\n",
       "    }\n",
       "\n",
       "    .dataframe thead th {\n",
       "        text-align: right;\n",
       "    }\n",
       "</style>\n",
       "<table border=\"1\" class=\"dataframe\">\n",
       "  <thead>\n",
       "    <tr style=\"text-align: right;\">\n",
       "      <th></th>\n",
       "      <th>superficie_cubierta</th>\n",
       "      <th>superficie_total</th>\n",
       "    </tr>\n",
       "  </thead>\n",
       "  <tbody>\n",
       "    <tr>\n",
       "      <th>19411</th>\n",
       "      <td>60.0</td>\n",
       "      <td>65.0</td>\n",
       "    </tr>\n",
       "    <tr>\n",
       "      <th>17819</th>\n",
       "      <td>32.0</td>\n",
       "      <td>34.0</td>\n",
       "    </tr>\n",
       "    <tr>\n",
       "      <th>14611</th>\n",
       "      <td>48.0</td>\n",
       "      <td>58.0</td>\n",
       "    </tr>\n",
       "    <tr>\n",
       "      <th>22362</th>\n",
       "      <td>112.0</td>\n",
       "      <td>112.0</td>\n",
       "    </tr>\n",
       "    <tr>\n",
       "      <th>16962</th>\n",
       "      <td>40.0</td>\n",
       "      <td>47.0</td>\n",
       "    </tr>\n",
       "  </tbody>\n",
       "</table>\n",
       "</div>"
      ],
      "text/plain": [
       "       superficie_cubierta  superficie_total\n",
       "19411                 60.0              65.0\n",
       "17819                 32.0              34.0\n",
       "14611                 48.0              58.0\n",
       "22362                112.0             112.0\n",
       "16962                 40.0              47.0"
      ]
     },
     "execution_count": 96,
     "metadata": {},
     "output_type": "execute_result"
    }
   ],
   "source": [
    "# todas las filas, algunas columnas; devuelve un DataFrame\n",
    "df.loc[:, ['superficie_cubierta', 'superficie_total']].head()"
   ]
  },
  {
   "cell_type": "markdown",
   "metadata": {},
   "source": [
    "Si bien las máscaras trabajan por posición y la indexación de `loc` es por etiquetas, funcionan de todas formas — es confuso pero será uno de los idiomas más útiles e incluso hasta cobrará sentido más adelante."
   ]
  },
  {
   "cell_type": "code",
   "execution_count": 97,
   "metadata": {},
   "outputs": [
    {
     "data": {
      "text/html": [
       "<div>\n",
       "<style scoped>\n",
       "    .dataframe tbody tr th:only-of-type {\n",
       "        vertical-align: middle;\n",
       "    }\n",
       "\n",
       "    .dataframe tbody tr th {\n",
       "        vertical-align: top;\n",
       "    }\n",
       "\n",
       "    .dataframe thead th {\n",
       "        text-align: right;\n",
       "    }\n",
       "</style>\n",
       "<table border=\"1\" class=\"dataframe\">\n",
       "  <thead>\n",
       "    <tr style=\"text-align: right;\">\n",
       "      <th></th>\n",
       "      <th>superficie_cubierta</th>\n",
       "      <th>superficie_total</th>\n",
       "    </tr>\n",
       "  </thead>\n",
       "  <tbody>\n",
       "    <tr>\n",
       "      <th>19411</th>\n",
       "      <td>60.0</td>\n",
       "      <td>65.0</td>\n",
       "    </tr>\n",
       "    <tr>\n",
       "      <th>17819</th>\n",
       "      <td>32.0</td>\n",
       "      <td>34.0</td>\n",
       "    </tr>\n",
       "  </tbody>\n",
       "</table>\n",
       "</div>"
      ],
      "text/plain": [
       "       superficie_cubierta  superficie_total\n",
       "19411                 60.0              65.0\n",
       "17819                 32.0              34.0"
      ]
     },
     "execution_count": 97,
     "metadata": {},
     "output_type": "execute_result"
    }
   ],
   "source": [
    "# utilizamos la máscara del ejemplo anterior\n",
    "df.loc[máscara, ['superficie_cubierta', 'superficie_total']]"
   ]
  },
  {
   "cell_type": "markdown",
   "metadata": {},
   "source": [
    "**IMPORTANTE**: Pandas hace su propia interpretación de los cortes en la indexación por etiquetas.\n",
    "1. Ambos extremos son inclusivos.\n",
    "2. Van de un valor del índice a otro según su orden en el índice."
   ]
  },
  {
   "cell_type": "code",
   "execution_count": 98,
   "metadata": {},
   "outputs": [
    {
     "data": {
      "text/plain": [
       "['fecha',\n",
       " 'tipo',\n",
       " 'lat',\n",
       " 'lon',\n",
       " 'precio',\n",
       " 'superficie_total',\n",
       " 'superficie_cubierta',\n",
       " 'ambientes',\n",
       " 'barrio']"
      ]
     },
     "execution_count": 98,
     "metadata": {},
     "output_type": "execute_result"
    }
   ],
   "source": [
    "# casteamos Index a lista para que sea más legible\n",
    "list(df.columns)"
   ]
  },
  {
   "cell_type": "markdown",
   "metadata": {},
   "source": [
    "Por ejemplo, `slice('tipo', 'precio')` tiene el mismo efecto que `['tipo', 'lat', 'lon', 'precio']`."
   ]
  },
  {
   "cell_type": "code",
   "execution_count": 81,
   "metadata": {},
   "outputs": [
    {
     "data": {
      "text/plain": [
       "tipo      departamento\n",
       "lat            -34.629\n",
       "lon           -58.4797\n",
       "precio           92000\n",
       "Name: 100, dtype: object"
      ]
     },
     "execution_count": 81,
     "metadata": {},
     "output_type": "execute_result"
    }
   ],
   "source": [
    "df.loc[100, 'tipo':'precio']"
   ]
  },
  {
   "cell_type": "markdown",
   "metadata": {},
   "source": [
    "Veamos el caso de las etiquetas de las filas."
   ]
  },
  {
   "cell_type": "code",
   "execution_count": 102,
   "metadata": {},
   "outputs": [
    {
     "data": {
      "text/plain": [
       "[19411, 17819, 14611, 22362, 16962, 19442, 15399, 12244, 6674, 4715]"
      ]
     },
     "execution_count": 102,
     "metadata": {},
     "output_type": "execute_result"
    }
   ],
   "source": [
    "# imprimir solo las primeras diez etiquetas\n",
    "list(df.index)[:10]"
   ]
  },
  {
   "cell_type": "markdown",
   "metadata": {},
   "source": [
    "Un corte desde la tercera etiqueta (14611) hasta la quinta (16962), `slice(14611, 16962)`, es como pasar la lista `[14611, 22362, 16962]`. Si el orden del índice fuese otro, la selección generada por el mismo corte, sería otra."
   ]
  },
  {
   "cell_type": "code",
   "execution_count": 103,
   "metadata": {},
   "outputs": [
    {
     "data": {
      "text/html": [
       "<div>\n",
       "<style scoped>\n",
       "    .dataframe tbody tr th:only-of-type {\n",
       "        vertical-align: middle;\n",
       "    }\n",
       "\n",
       "    .dataframe tbody tr th {\n",
       "        vertical-align: top;\n",
       "    }\n",
       "\n",
       "    .dataframe thead th {\n",
       "        text-align: right;\n",
       "    }\n",
       "</style>\n",
       "<table border=\"1\" class=\"dataframe\">\n",
       "  <thead>\n",
       "    <tr style=\"text-align: right;\">\n",
       "      <th></th>\n",
       "      <th>fecha</th>\n",
       "      <th>tipo</th>\n",
       "      <th>lat</th>\n",
       "      <th>lon</th>\n",
       "      <th>precio</th>\n",
       "      <th>superficie_total</th>\n",
       "      <th>superficie_cubierta</th>\n",
       "      <th>ambientes</th>\n",
       "      <th>barrio</th>\n",
       "    </tr>\n",
       "  </thead>\n",
       "  <tbody>\n",
       "    <tr>\n",
       "      <th>14611</th>\n",
       "      <td>2018-02-07</td>\n",
       "      <td>departamento</td>\n",
       "      <td>-34.573595</td>\n",
       "      <td>-58.442591</td>\n",
       "      <td>194150.0</td>\n",
       "      <td>58.0</td>\n",
       "      <td>48.0</td>\n",
       "      <td>2.0</td>\n",
       "      <td>COLEGIALES</td>\n",
       "    </tr>\n",
       "    <tr>\n",
       "      <th>22362</th>\n",
       "      <td>2018-02-20</td>\n",
       "      <td>casa</td>\n",
       "      <td>-34.611046</td>\n",
       "      <td>-58.503044</td>\n",
       "      <td>245000.0</td>\n",
       "      <td>112.0</td>\n",
       "      <td>112.0</td>\n",
       "      <td>2.0</td>\n",
       "      <td>VILLA DEVOTO</td>\n",
       "    </tr>\n",
       "    <tr>\n",
       "      <th>16962</th>\n",
       "      <td>2018-04-11</td>\n",
       "      <td>departamento</td>\n",
       "      <td>-34.605809</td>\n",
       "      <td>-58.453481</td>\n",
       "      <td>142900.0</td>\n",
       "      <td>47.0</td>\n",
       "      <td>40.0</td>\n",
       "      <td>2.0</td>\n",
       "      <td>VILLA CRESPO</td>\n",
       "    </tr>\n",
       "  </tbody>\n",
       "</table>\n",
       "</div>"
      ],
      "text/plain": [
       "            fecha          tipo        lat        lon    precio  \\\n",
       "14611  2018-02-07  departamento -34.573595 -58.442591  194150.0   \n",
       "22362  2018-02-20          casa -34.611046 -58.503044  245000.0   \n",
       "16962  2018-04-11  departamento -34.605809 -58.453481  142900.0   \n",
       "\n",
       "       superficie_total  superficie_cubierta  ambientes        barrio  \n",
       "14611              58.0                 48.0        2.0    COLEGIALES  \n",
       "22362             112.0                112.0        2.0  VILLA DEVOTO  \n",
       "16962              47.0                 40.0        2.0  VILLA CRESPO  "
      ]
     },
     "execution_count": 103,
     "metadata": {},
     "output_type": "execute_result"
    }
   ],
   "source": [
    "df.loc[14611:16962]"
   ]
  },
  {
   "cell_type": "markdown",
   "metadata": {},
   "source": [
    "#### Por posición"
   ]
  },
  {
   "cell_type": "code",
   "execution_count": 110,
   "metadata": {},
   "outputs": [
    {
     "data": {
      "text/html": [
       "<div>\n",
       "<style scoped>\n",
       "    .dataframe tbody tr th:only-of-type {\n",
       "        vertical-align: middle;\n",
       "    }\n",
       "\n",
       "    .dataframe tbody tr th {\n",
       "        vertical-align: top;\n",
       "    }\n",
       "\n",
       "    .dataframe thead th {\n",
       "        text-align: right;\n",
       "    }\n",
       "</style>\n",
       "<table border=\"1\" class=\"dataframe\">\n",
       "  <thead>\n",
       "    <tr style=\"text-align: right;\">\n",
       "      <th></th>\n",
       "      <th>fecha</th>\n",
       "      <th>tipo</th>\n",
       "      <th>lat</th>\n",
       "      <th>lon</th>\n",
       "      <th>precio</th>\n",
       "      <th>superficie_total</th>\n",
       "      <th>superficie_cubierta</th>\n",
       "      <th>ambientes</th>\n",
       "      <th>barrio</th>\n",
       "    </tr>\n",
       "  </thead>\n",
       "  <tbody>\n",
       "    <tr>\n",
       "      <th>19411</th>\n",
       "      <td>2018-02-23</td>\n",
       "      <td>ph</td>\n",
       "      <td>-34.640644</td>\n",
       "      <td>-58.500677</td>\n",
       "      <td>128000.0</td>\n",
       "      <td>65.0</td>\n",
       "      <td>60.0</td>\n",
       "      <td>NaN</td>\n",
       "      <td>VILLA LURO</td>\n",
       "    </tr>\n",
       "    <tr>\n",
       "      <th>17819</th>\n",
       "      <td>2018-02-28</td>\n",
       "      <td>departamento</td>\n",
       "      <td>-34.643719</td>\n",
       "      <td>-58.372644</td>\n",
       "      <td>86000.0</td>\n",
       "      <td>34.0</td>\n",
       "      <td>32.0</td>\n",
       "      <td>1.0</td>\n",
       "      <td>BARRACAS</td>\n",
       "    </tr>\n",
       "    <tr>\n",
       "      <th>14611</th>\n",
       "      <td>2018-02-07</td>\n",
       "      <td>departamento</td>\n",
       "      <td>-34.573595</td>\n",
       "      <td>-58.442591</td>\n",
       "      <td>194150.0</td>\n",
       "      <td>58.0</td>\n",
       "      <td>48.0</td>\n",
       "      <td>2.0</td>\n",
       "      <td>COLEGIALES</td>\n",
       "    </tr>\n",
       "    <tr>\n",
       "      <th>22362</th>\n",
       "      <td>2018-02-20</td>\n",
       "      <td>casa</td>\n",
       "      <td>-34.611046</td>\n",
       "      <td>-58.503044</td>\n",
       "      <td>245000.0</td>\n",
       "      <td>112.0</td>\n",
       "      <td>112.0</td>\n",
       "      <td>2.0</td>\n",
       "      <td>VILLA DEVOTO</td>\n",
       "    </tr>\n",
       "    <tr>\n",
       "      <th>16962</th>\n",
       "      <td>2018-04-11</td>\n",
       "      <td>departamento</td>\n",
       "      <td>-34.605809</td>\n",
       "      <td>-58.453481</td>\n",
       "      <td>142900.0</td>\n",
       "      <td>47.0</td>\n",
       "      <td>40.0</td>\n",
       "      <td>2.0</td>\n",
       "      <td>VILLA CRESPO</td>\n",
       "    </tr>\n",
       "  </tbody>\n",
       "</table>\n",
       "</div>"
      ],
      "text/plain": [
       "            fecha          tipo        lat        lon    precio  \\\n",
       "19411  2018-02-23            ph -34.640644 -58.500677  128000.0   \n",
       "17819  2018-02-28  departamento -34.643719 -58.372644   86000.0   \n",
       "14611  2018-02-07  departamento -34.573595 -58.442591  194150.0   \n",
       "22362  2018-02-20          casa -34.611046 -58.503044  245000.0   \n",
       "16962  2018-04-11  departamento -34.605809 -58.453481  142900.0   \n",
       "\n",
       "       superficie_total  superficie_cubierta  ambientes        barrio  \n",
       "19411              65.0                 60.0        NaN    VILLA LURO  \n",
       "17819              34.0                 32.0        1.0      BARRACAS  \n",
       "14611              58.0                 48.0        2.0    COLEGIALES  \n",
       "22362             112.0                112.0        2.0  VILLA DEVOTO  \n",
       "16962              47.0                 40.0        2.0  VILLA CRESPO  "
      ]
     },
     "execution_count": 110,
     "metadata": {},
     "output_type": "execute_result"
    }
   ],
   "source": [
    "# primeras filas; cuando se indexa por posición no se le presta atención a las etiquetas\n",
    "df.iloc[:5]"
   ]
  },
  {
   "cell_type": "markdown",
   "metadata": {},
   "source": [
    "**IMPORTANTE**: con `iloc` las columnas se seleccionan por su posición, no por sus etiquetas."
   ]
  },
  {
   "cell_type": "code",
   "execution_count": 113,
   "metadata": {},
   "outputs": [
    {
     "data": {
      "text/plain": [
       "['fecha',\n",
       " 'tipo',\n",
       " 'lat',\n",
       " 'lon',\n",
       " 'precio',\n",
       " 'superficie_total',\n",
       " 'superficie_cubierta',\n",
       " 'ambientes',\n",
       " 'barrio']"
      ]
     },
     "execution_count": 113,
     "metadata": {},
     "output_type": "execute_result"
    }
   ],
   "source": [
    "# casteamos Index a lista para que sea más legible\n",
    "list(df.columns)"
   ]
  },
  {
   "cell_type": "code",
   "execution_count": 115,
   "metadata": {},
   "outputs": [
    {
     "data": {
      "text/html": [
       "<div>\n",
       "<style scoped>\n",
       "    .dataframe tbody tr th:only-of-type {\n",
       "        vertical-align: middle;\n",
       "    }\n",
       "\n",
       "    .dataframe tbody tr th {\n",
       "        vertical-align: top;\n",
       "    }\n",
       "\n",
       "    .dataframe thead th {\n",
       "        text-align: right;\n",
       "    }\n",
       "</style>\n",
       "<table border=\"1\" class=\"dataframe\">\n",
       "  <thead>\n",
       "    <tr style=\"text-align: right;\">\n",
       "      <th></th>\n",
       "      <th>fecha</th>\n",
       "      <th>tipo</th>\n",
       "    </tr>\n",
       "  </thead>\n",
       "  <tbody>\n",
       "    <tr>\n",
       "      <th>19411</th>\n",
       "      <td>2018-02-23</td>\n",
       "      <td>ph</td>\n",
       "    </tr>\n",
       "    <tr>\n",
       "      <th>17819</th>\n",
       "      <td>2018-02-28</td>\n",
       "      <td>departamento</td>\n",
       "    </tr>\n",
       "    <tr>\n",
       "      <th>14611</th>\n",
       "      <td>2018-02-07</td>\n",
       "      <td>departamento</td>\n",
       "    </tr>\n",
       "    <tr>\n",
       "      <th>22362</th>\n",
       "      <td>2018-02-20</td>\n",
       "      <td>casa</td>\n",
       "    </tr>\n",
       "    <tr>\n",
       "      <th>16962</th>\n",
       "      <td>2018-04-11</td>\n",
       "      <td>departamento</td>\n",
       "    </tr>\n",
       "  </tbody>\n",
       "</table>\n",
       "</div>"
      ],
      "text/plain": [
       "            fecha          tipo\n",
       "19411  2018-02-23            ph\n",
       "17819  2018-02-28  departamento\n",
       "14611  2018-02-07  departamento\n",
       "22362  2018-02-20          casa\n",
       "16962  2018-04-11  departamento"
      ]
     },
     "execution_count": 115,
     "metadata": {},
     "output_type": "execute_result"
    }
   ],
   "source": [
    "# fecha está en la posición 0 en el índice de las columnas, tipo está en la posición 1\n",
    "df.iloc[:, [0,1]].head()"
   ]
  },
  {
   "cell_type": "markdown",
   "metadata": {},
   "source": [
    "**IMPORTANTE**: `iloc` no acepta máscaras."
   ]
  },
  {
   "cell_type": "markdown",
   "metadata": {},
   "source": [
    "### Resumen\n",
    "\n",
    "* Como con listas, es posible indexar por posición.\n",
    "* Como con diccionarios, es posible indexar por etiqueta.\n",
    "* Como con arreglos de NumPy, es posible indexar por máscaras booleanas.\n",
    "* Cualquiera de estos indexadores pueden ser escalares (`int`, `str`, ...), listas, o cortes.\n",
    "* Funcionan en filas y columnas.\n",
    "* Funcionan en índices jerárquicos (próximo tema)."
   ]
  },
  {
   "cell_type": "markdown",
   "metadata": {},
   "source": [
    "### Asignación"
   ]
  },
  {
   "cell_type": "markdown",
   "metadata": {},
   "source": [
    "Las distintas formas de indexar también sirven para guardar valores.\n",
    "\n",
    "Supongamos que nos informan que las propiedades con etiquetas 333 y 666 están mal anotadas como departamentos, que en realidad son casas."
   ]
  },
  {
   "cell_type": "code",
   "execution_count": 179,
   "metadata": {},
   "outputs": [
    {
     "data": {
      "text/html": [
       "<div>\n",
       "<style scoped>\n",
       "    .dataframe tbody tr th:only-of-type {\n",
       "        vertical-align: middle;\n",
       "    }\n",
       "\n",
       "    .dataframe tbody tr th {\n",
       "        vertical-align: top;\n",
       "    }\n",
       "\n",
       "    .dataframe thead th {\n",
       "        text-align: right;\n",
       "    }\n",
       "</style>\n",
       "<table border=\"1\" class=\"dataframe\">\n",
       "  <thead>\n",
       "    <tr style=\"text-align: right;\">\n",
       "      <th></th>\n",
       "      <th>barrio</th>\n",
       "      <th>tipo</th>\n",
       "      <th>fecha</th>\n",
       "      <th>lat</th>\n",
       "      <th>lon</th>\n",
       "      <th>precio</th>\n",
       "      <th>superficie_total</th>\n",
       "      <th>superficie_cubierta</th>\n",
       "      <th>ambientes</th>\n",
       "    </tr>\n",
       "  </thead>\n",
       "  <tbody>\n",
       "    <tr>\n",
       "      <th>333</th>\n",
       "      <td>SAAVEDRA</td>\n",
       "      <td>departamento</td>\n",
       "      <td>2018-04-19</td>\n",
       "      <td>-34.546137</td>\n",
       "      <td>-58.476441</td>\n",
       "      <td>255683.0</td>\n",
       "      <td>115.0</td>\n",
       "      <td>51.0</td>\n",
       "      <td>3.0</td>\n",
       "    </tr>\n",
       "    <tr>\n",
       "      <th>666</th>\n",
       "      <td>RECOLETA</td>\n",
       "      <td>departamento</td>\n",
       "      <td>2018-03-19</td>\n",
       "      <td>-34.590554</td>\n",
       "      <td>-58.386530</td>\n",
       "      <td>499000.0</td>\n",
       "      <td>181.0</td>\n",
       "      <td>169.0</td>\n",
       "      <td>4.0</td>\n",
       "    </tr>\n",
       "  </tbody>\n",
       "</table>\n",
       "</div>"
      ],
      "text/plain": [
       "       barrio          tipo       fecha        lat        lon    precio  \\\n",
       "333  SAAVEDRA  departamento  2018-04-19 -34.546137 -58.476441  255683.0   \n",
       "666  RECOLETA  departamento  2018-03-19 -34.590554 -58.386530  499000.0   \n",
       "\n",
       "     superficie_total  superficie_cubierta  ambientes  \n",
       "333             115.0                 51.0        3.0  \n",
       "666             181.0                169.0        4.0  "
      ]
     },
     "execution_count": 179,
     "metadata": {},
     "output_type": "execute_result"
    }
   ],
   "source": [
    "df.loc[[333, 666]]"
   ]
  },
  {
   "cell_type": "code",
   "execution_count": 180,
   "metadata": {},
   "outputs": [
    {
     "data": {
      "text/html": [
       "<div>\n",
       "<style scoped>\n",
       "    .dataframe tbody tr th:only-of-type {\n",
       "        vertical-align: middle;\n",
       "    }\n",
       "\n",
       "    .dataframe tbody tr th {\n",
       "        vertical-align: top;\n",
       "    }\n",
       "\n",
       "    .dataframe thead th {\n",
       "        text-align: right;\n",
       "    }\n",
       "</style>\n",
       "<table border=\"1\" class=\"dataframe\">\n",
       "  <thead>\n",
       "    <tr style=\"text-align: right;\">\n",
       "      <th></th>\n",
       "      <th>barrio</th>\n",
       "      <th>tipo</th>\n",
       "      <th>fecha</th>\n",
       "      <th>lat</th>\n",
       "      <th>lon</th>\n",
       "      <th>precio</th>\n",
       "      <th>superficie_total</th>\n",
       "      <th>superficie_cubierta</th>\n",
       "      <th>ambientes</th>\n",
       "    </tr>\n",
       "  </thead>\n",
       "  <tbody>\n",
       "    <tr>\n",
       "      <th>333</th>\n",
       "      <td>SAAVEDRA</td>\n",
       "      <td>casa</td>\n",
       "      <td>2018-04-19</td>\n",
       "      <td>-34.546137</td>\n",
       "      <td>-58.476441</td>\n",
       "      <td>255683.0</td>\n",
       "      <td>115.0</td>\n",
       "      <td>51.0</td>\n",
       "      <td>3.0</td>\n",
       "    </tr>\n",
       "    <tr>\n",
       "      <th>666</th>\n",
       "      <td>RECOLETA</td>\n",
       "      <td>casa</td>\n",
       "      <td>2018-03-19</td>\n",
       "      <td>-34.590554</td>\n",
       "      <td>-58.386530</td>\n",
       "      <td>499000.0</td>\n",
       "      <td>181.0</td>\n",
       "      <td>169.0</td>\n",
       "      <td>4.0</td>\n",
       "    </tr>\n",
       "  </tbody>\n",
       "</table>\n",
       "</div>"
      ],
      "text/plain": [
       "       barrio  tipo       fecha        lat        lon    precio  \\\n",
       "333  SAAVEDRA  casa  2018-04-19 -34.546137 -58.476441  255683.0   \n",
       "666  RECOLETA  casa  2018-03-19 -34.590554 -58.386530  499000.0   \n",
       "\n",
       "     superficie_total  superficie_cubierta  ambientes  \n",
       "333             115.0                 51.0        3.0  \n",
       "666             181.0                169.0        4.0  "
      ]
     },
     "execution_count": 180,
     "metadata": {},
     "output_type": "execute_result"
    }
   ],
   "source": [
    "# asignamos el valor casa a las filas deseadas en la columna correspondiente\n",
    "df.loc[[333, 666], 'tipo'] = 'casa'\n",
    "\n",
    "df.loc[[333, 666]]"
   ]
  },
  {
   "cell_type": "markdown",
   "metadata": {},
   "source": [
    "Adicionalmente nos reportan que el precio de la propiedad con etiqueta 666 ha sido actualizado."
   ]
  },
  {
   "cell_type": "code",
   "execution_count": 183,
   "metadata": {},
   "outputs": [
    {
     "data": {
      "text/html": [
       "<div>\n",
       "<style scoped>\n",
       "    .dataframe tbody tr th:only-of-type {\n",
       "        vertical-align: middle;\n",
       "    }\n",
       "\n",
       "    .dataframe tbody tr th {\n",
       "        vertical-align: top;\n",
       "    }\n",
       "\n",
       "    .dataframe thead th {\n",
       "        text-align: right;\n",
       "    }\n",
       "</style>\n",
       "<table border=\"1\" class=\"dataframe\">\n",
       "  <thead>\n",
       "    <tr style=\"text-align: right;\">\n",
       "      <th></th>\n",
       "      <th>barrio</th>\n",
       "      <th>tipo</th>\n",
       "      <th>fecha</th>\n",
       "      <th>lat</th>\n",
       "      <th>lon</th>\n",
       "      <th>precio</th>\n",
       "      <th>superficie_total</th>\n",
       "      <th>superficie_cubierta</th>\n",
       "      <th>ambientes</th>\n",
       "    </tr>\n",
       "  </thead>\n",
       "  <tbody>\n",
       "    <tr>\n",
       "      <th>666</th>\n",
       "      <td>RECOLETA</td>\n",
       "      <td>casa</td>\n",
       "      <td>2018-10-28</td>\n",
       "      <td>-34.590554</td>\n",
       "      <td>-58.38653</td>\n",
       "      <td>510000.0</td>\n",
       "      <td>160.0</td>\n",
       "      <td>150.0</td>\n",
       "      <td>4.0</td>\n",
       "    </tr>\n",
       "  </tbody>\n",
       "</table>\n",
       "</div>"
      ],
      "text/plain": [
       "       barrio  tipo       fecha        lat       lon    precio  \\\n",
       "666  RECOLETA  casa  2018-10-28 -34.590554 -58.38653  510000.0   \n",
       "\n",
       "     superficie_total  superficie_cubierta  ambientes  \n",
       "666             160.0                150.0        4.0  "
      ]
     },
     "execution_count": 183,
     "metadata": {},
     "output_type": "execute_result"
    }
   ],
   "source": [
    "df.loc[666, ['fecha', 'precio']] = ['2018-10-28', 510000]\n",
    "\n",
    "# pasamos una lista de etiquetas para que devuelva un DataFrame,\n",
    "# esto es válido más allá de que sea una lista de un solo elemento\n",
    "df.loc[[666]]"
   ]
  },
  {
   "cell_type": "markdown",
   "metadata": {},
   "source": [
    "## Índices jerárquicos\n",
    "\n",
    "Hasta ahora vimos cómo trabajar con índices creados por defecto (cuando las etiquetas van de 0 a N-1) y con índices impuestos al cargar un archivo (las etiquetas de las columnas), sin embargo el índice puede ser modificado según necesidad. Hay varias formas de definir un nuevo índice, una muy común es elegir a una columna para que se convierta en el nuevo índice."
   ]
  },
  {
   "cell_type": "code",
   "execution_count": 116,
   "metadata": {},
   "outputs": [
    {
     "data": {
      "text/html": [
       "<div>\n",
       "<style scoped>\n",
       "    .dataframe tbody tr th:only-of-type {\n",
       "        vertical-align: middle;\n",
       "    }\n",
       "\n",
       "    .dataframe tbody tr th {\n",
       "        vertical-align: top;\n",
       "    }\n",
       "\n",
       "    .dataframe thead th {\n",
       "        text-align: right;\n",
       "    }\n",
       "</style>\n",
       "<table border=\"1\" class=\"dataframe\">\n",
       "  <thead>\n",
       "    <tr style=\"text-align: right;\">\n",
       "      <th></th>\n",
       "      <th>fecha</th>\n",
       "      <th>tipo</th>\n",
       "      <th>lat</th>\n",
       "      <th>lon</th>\n",
       "      <th>precio</th>\n",
       "      <th>superficie_total</th>\n",
       "      <th>superficie_cubierta</th>\n",
       "      <th>ambientes</th>\n",
       "    </tr>\n",
       "    <tr>\n",
       "      <th>barrio</th>\n",
       "      <th></th>\n",
       "      <th></th>\n",
       "      <th></th>\n",
       "      <th></th>\n",
       "      <th></th>\n",
       "      <th></th>\n",
       "      <th></th>\n",
       "      <th></th>\n",
       "    </tr>\n",
       "  </thead>\n",
       "  <tbody>\n",
       "    <tr>\n",
       "      <th>VILLA LURO</th>\n",
       "      <td>2018-02-23</td>\n",
       "      <td>ph</td>\n",
       "      <td>-34.640644</td>\n",
       "      <td>-58.500677</td>\n",
       "      <td>128000.0</td>\n",
       "      <td>65.0</td>\n",
       "      <td>60.0</td>\n",
       "      <td>NaN</td>\n",
       "    </tr>\n",
       "    <tr>\n",
       "      <th>BARRACAS</th>\n",
       "      <td>2018-02-28</td>\n",
       "      <td>departamento</td>\n",
       "      <td>-34.643719</td>\n",
       "      <td>-58.372644</td>\n",
       "      <td>86000.0</td>\n",
       "      <td>34.0</td>\n",
       "      <td>32.0</td>\n",
       "      <td>1.0</td>\n",
       "    </tr>\n",
       "    <tr>\n",
       "      <th>COLEGIALES</th>\n",
       "      <td>2018-02-07</td>\n",
       "      <td>departamento</td>\n",
       "      <td>-34.573595</td>\n",
       "      <td>-58.442591</td>\n",
       "      <td>194150.0</td>\n",
       "      <td>58.0</td>\n",
       "      <td>48.0</td>\n",
       "      <td>2.0</td>\n",
       "    </tr>\n",
       "    <tr>\n",
       "      <th>VILLA DEVOTO</th>\n",
       "      <td>2018-02-20</td>\n",
       "      <td>casa</td>\n",
       "      <td>-34.611046</td>\n",
       "      <td>-58.503044</td>\n",
       "      <td>245000.0</td>\n",
       "      <td>112.0</td>\n",
       "      <td>112.0</td>\n",
       "      <td>2.0</td>\n",
       "    </tr>\n",
       "    <tr>\n",
       "      <th>VILLA CRESPO</th>\n",
       "      <td>2018-04-11</td>\n",
       "      <td>departamento</td>\n",
       "      <td>-34.605809</td>\n",
       "      <td>-58.453481</td>\n",
       "      <td>142900.0</td>\n",
       "      <td>47.0</td>\n",
       "      <td>40.0</td>\n",
       "      <td>2.0</td>\n",
       "    </tr>\n",
       "  </tbody>\n",
       "</table>\n",
       "</div>"
      ],
      "text/plain": [
       "                   fecha          tipo        lat        lon    precio  \\\n",
       "barrio                                                                   \n",
       "VILLA LURO    2018-02-23            ph -34.640644 -58.500677  128000.0   \n",
       "BARRACAS      2018-02-28  departamento -34.643719 -58.372644   86000.0   \n",
       "COLEGIALES    2018-02-07  departamento -34.573595 -58.442591  194150.0   \n",
       "VILLA DEVOTO  2018-02-20          casa -34.611046 -58.503044  245000.0   \n",
       "VILLA CRESPO  2018-04-11  departamento -34.605809 -58.453481  142900.0   \n",
       "\n",
       "              superficie_total  superficie_cubierta  ambientes  \n",
       "barrio                                                          \n",
       "VILLA LURO                65.0                 60.0        NaN  \n",
       "BARRACAS                  34.0                 32.0        1.0  \n",
       "COLEGIALES                58.0                 48.0        2.0  \n",
       "VILLA DEVOTO             112.0                112.0        2.0  \n",
       "VILLA CRESPO              47.0                 40.0        2.0  "
      ]
     },
     "execution_count": 116,
     "metadata": {},
     "output_type": "execute_result"
    }
   ],
   "source": [
    "df.set_index('barrio', inplace=True)\n",
    "\n",
    "df.head()"
   ]
  },
  {
   "cell_type": "markdown",
   "metadata": {},
   "source": [
    "**Nota**: Muchos métodos que transforman `DataFrame`s nos devuelven un nuevo `DataFrame`, mientras que el original permanece intacto. El argumento `inplace=True` se usa para que el método transforme el `DataFrame` original; en este caso el método no devuelve nada (`None`)."
   ]
  },
  {
   "cell_type": "markdown",
   "metadata": {},
   "source": [
    "Al convertir a la columna barrio en índice, esta columna dejó de existir. Esto quiere decir que no podemos invocar a la columna como antes, haciendo `df['barrio']` o `df.barrio`, en todo caso podemos pedir `df.index`. Es importante recordar que aunque las etiquetas de las filas parezcan una columna, **no lo son**, así como las etiquetas de las columnas aunque parecen ser una fila, tampoco lo son."
   ]
  },
  {
   "cell_type": "markdown",
   "metadata": {},
   "source": [
    "De aquí en más, podemos hacer indexación con las nuevas etiquetas."
   ]
  },
  {
   "cell_type": "code",
   "execution_count": 117,
   "metadata": {},
   "outputs": [
    {
     "data": {
      "text/html": [
       "<div>\n",
       "<style scoped>\n",
       "    .dataframe tbody tr th:only-of-type {\n",
       "        vertical-align: middle;\n",
       "    }\n",
       "\n",
       "    .dataframe tbody tr th {\n",
       "        vertical-align: top;\n",
       "    }\n",
       "\n",
       "    .dataframe thead th {\n",
       "        text-align: right;\n",
       "    }\n",
       "</style>\n",
       "<table border=\"1\" class=\"dataframe\">\n",
       "  <thead>\n",
       "    <tr style=\"text-align: right;\">\n",
       "      <th></th>\n",
       "      <th>fecha</th>\n",
       "      <th>tipo</th>\n",
       "      <th>lat</th>\n",
       "      <th>lon</th>\n",
       "      <th>precio</th>\n",
       "      <th>superficie_total</th>\n",
       "      <th>superficie_cubierta</th>\n",
       "      <th>ambientes</th>\n",
       "    </tr>\n",
       "    <tr>\n",
       "      <th>barrio</th>\n",
       "      <th></th>\n",
       "      <th></th>\n",
       "      <th></th>\n",
       "      <th></th>\n",
       "      <th></th>\n",
       "      <th></th>\n",
       "      <th></th>\n",
       "      <th></th>\n",
       "    </tr>\n",
       "  </thead>\n",
       "  <tbody>\n",
       "    <tr>\n",
       "      <th>PALERMO</th>\n",
       "      <td>2018-03-30</td>\n",
       "      <td>casa</td>\n",
       "      <td>-34.578329</td>\n",
       "      <td>-58.397749</td>\n",
       "      <td>3100000.0</td>\n",
       "      <td>450.0</td>\n",
       "      <td>350.0</td>\n",
       "      <td>3.0</td>\n",
       "    </tr>\n",
       "    <tr>\n",
       "      <th>PALERMO</th>\n",
       "      <td>2018-04-10</td>\n",
       "      <td>departamento</td>\n",
       "      <td>-34.586787</td>\n",
       "      <td>-58.416735</td>\n",
       "      <td>145000.0</td>\n",
       "      <td>NaN</td>\n",
       "      <td>NaN</td>\n",
       "      <td>3.0</td>\n",
       "    </tr>\n",
       "    <tr>\n",
       "      <th>PALERMO</th>\n",
       "      <td>2018-04-18</td>\n",
       "      <td>departamento</td>\n",
       "      <td>-34.582436</td>\n",
       "      <td>-58.414845</td>\n",
       "      <td>850000.0</td>\n",
       "      <td>270.0</td>\n",
       "      <td>240.0</td>\n",
       "      <td>6.0</td>\n",
       "    </tr>\n",
       "    <tr>\n",
       "      <th>PALERMO</th>\n",
       "      <td>2018-01-26</td>\n",
       "      <td>departamento</td>\n",
       "      <td>-34.578773</td>\n",
       "      <td>-58.415132</td>\n",
       "      <td>330000.0</td>\n",
       "      <td>74.0</td>\n",
       "      <td>64.0</td>\n",
       "      <td>3.0</td>\n",
       "    </tr>\n",
       "    <tr>\n",
       "      <th>PALERMO</th>\n",
       "      <td>2018-04-06</td>\n",
       "      <td>departamento</td>\n",
       "      <td>-34.569005</td>\n",
       "      <td>-58.436241</td>\n",
       "      <td>300000.0</td>\n",
       "      <td>110.0</td>\n",
       "      <td>98.0</td>\n",
       "      <td>NaN</td>\n",
       "    </tr>\n",
       "  </tbody>\n",
       "</table>\n",
       "</div>"
      ],
      "text/plain": [
       "              fecha          tipo        lat        lon     precio  \\\n",
       "barrio                                                               \n",
       "PALERMO  2018-03-30          casa -34.578329 -58.397749  3100000.0   \n",
       "PALERMO  2018-04-10  departamento -34.586787 -58.416735   145000.0   \n",
       "PALERMO  2018-04-18  departamento -34.582436 -58.414845   850000.0   \n",
       "PALERMO  2018-01-26  departamento -34.578773 -58.415132   330000.0   \n",
       "PALERMO  2018-04-06  departamento -34.569005 -58.436241   300000.0   \n",
       "\n",
       "         superficie_total  superficie_cubierta  ambientes  \n",
       "barrio                                                     \n",
       "PALERMO             450.0                350.0        3.0  \n",
       "PALERMO               NaN                  NaN        3.0  \n",
       "PALERMO             270.0                240.0        6.0  \n",
       "PALERMO              74.0                 64.0        3.0  \n",
       "PALERMO             110.0                 98.0        NaN  "
      ]
     },
     "execution_count": 117,
     "metadata": {},
     "output_type": "execute_result"
    }
   ],
   "source": [
    "# traer todas las propiedades en Palermo\n",
    "df.loc['PALERMO'].head()"
   ]
  },
  {
   "cell_type": "code",
   "execution_count": 118,
   "metadata": {
    "scrolled": true
   },
   "outputs": [
    {
     "data": {
      "text/html": [
       "<div>\n",
       "<style scoped>\n",
       "    .dataframe tbody tr th:only-of-type {\n",
       "        vertical-align: middle;\n",
       "    }\n",
       "\n",
       "    .dataframe tbody tr th {\n",
       "        vertical-align: top;\n",
       "    }\n",
       "\n",
       "    .dataframe thead th {\n",
       "        text-align: right;\n",
       "    }\n",
       "</style>\n",
       "<table border=\"1\" class=\"dataframe\">\n",
       "  <thead>\n",
       "    <tr style=\"text-align: right;\">\n",
       "      <th></th>\n",
       "      <th>fecha</th>\n",
       "      <th>tipo</th>\n",
       "      <th>lat</th>\n",
       "      <th>lon</th>\n",
       "      <th>precio</th>\n",
       "      <th>superficie_total</th>\n",
       "      <th>superficie_cubierta</th>\n",
       "      <th>ambientes</th>\n",
       "    </tr>\n",
       "    <tr>\n",
       "      <th>barrio</th>\n",
       "      <th></th>\n",
       "      <th></th>\n",
       "      <th></th>\n",
       "      <th></th>\n",
       "      <th></th>\n",
       "      <th></th>\n",
       "      <th></th>\n",
       "      <th></th>\n",
       "    </tr>\n",
       "  </thead>\n",
       "  <tbody>\n",
       "    <tr>\n",
       "      <th>PALERMO</th>\n",
       "      <td>2018-03-30</td>\n",
       "      <td>casa</td>\n",
       "      <td>-34.578329</td>\n",
       "      <td>-58.397749</td>\n",
       "      <td>3100000.0</td>\n",
       "      <td>450.0</td>\n",
       "      <td>350.0</td>\n",
       "      <td>3.0</td>\n",
       "    </tr>\n",
       "    <tr>\n",
       "      <th>PALERMO</th>\n",
       "      <td>2018-04-10</td>\n",
       "      <td>departamento</td>\n",
       "      <td>-34.586787</td>\n",
       "      <td>-58.416735</td>\n",
       "      <td>145000.0</td>\n",
       "      <td>NaN</td>\n",
       "      <td>NaN</td>\n",
       "      <td>3.0</td>\n",
       "    </tr>\n",
       "  </tbody>\n",
       "</table>\n",
       "</div>"
      ],
      "text/plain": [
       "              fecha          tipo        lat        lon     precio  \\\n",
       "barrio                                                               \n",
       "PALERMO  2018-03-30          casa -34.578329 -58.397749  3100000.0   \n",
       "PALERMO  2018-04-10  departamento -34.586787 -58.416735   145000.0   \n",
       "\n",
       "         superficie_total  superficie_cubierta  ambientes  \n",
       "barrio                                                     \n",
       "PALERMO             450.0                350.0        3.0  \n",
       "PALERMO               NaN                  NaN        3.0  "
      ]
     },
     "execution_count": 118,
     "metadata": {},
     "output_type": "execute_result"
    }
   ],
   "source": [
    "# traer todas las propiedades en Palermo y Chacarita\n",
    "resultado = df.loc[['PALERMO','CHACARITA'], :]\n",
    "\n",
    "resultado.head(2)"
   ]
  },
  {
   "cell_type": "code",
   "execution_count": 119,
   "metadata": {},
   "outputs": [
    {
     "data": {
      "text/html": [
       "<div>\n",
       "<style scoped>\n",
       "    .dataframe tbody tr th:only-of-type {\n",
       "        vertical-align: middle;\n",
       "    }\n",
       "\n",
       "    .dataframe tbody tr th {\n",
       "        vertical-align: top;\n",
       "    }\n",
       "\n",
       "    .dataframe thead th {\n",
       "        text-align: right;\n",
       "    }\n",
       "</style>\n",
       "<table border=\"1\" class=\"dataframe\">\n",
       "  <thead>\n",
       "    <tr style=\"text-align: right;\">\n",
       "      <th></th>\n",
       "      <th>fecha</th>\n",
       "      <th>tipo</th>\n",
       "      <th>lat</th>\n",
       "      <th>lon</th>\n",
       "      <th>precio</th>\n",
       "      <th>superficie_total</th>\n",
       "      <th>superficie_cubierta</th>\n",
       "      <th>ambientes</th>\n",
       "    </tr>\n",
       "    <tr>\n",
       "      <th>barrio</th>\n",
       "      <th></th>\n",
       "      <th></th>\n",
       "      <th></th>\n",
       "      <th></th>\n",
       "      <th></th>\n",
       "      <th></th>\n",
       "      <th></th>\n",
       "      <th></th>\n",
       "    </tr>\n",
       "  </thead>\n",
       "  <tbody>\n",
       "    <tr>\n",
       "      <th>CHACARITA</th>\n",
       "      <td>2017-12-09</td>\n",
       "      <td>ph</td>\n",
       "      <td>-34.582115</td>\n",
       "      <td>-58.455020</td>\n",
       "      <td>329000.0</td>\n",
       "      <td>265.0</td>\n",
       "      <td>215.0</td>\n",
       "      <td>5.0</td>\n",
       "    </tr>\n",
       "    <tr>\n",
       "      <th>CHACARITA</th>\n",
       "      <td>2018-02-11</td>\n",
       "      <td>departamento</td>\n",
       "      <td>-34.590656</td>\n",
       "      <td>-58.448731</td>\n",
       "      <td>92000.0</td>\n",
       "      <td>33.0</td>\n",
       "      <td>30.0</td>\n",
       "      <td>1.0</td>\n",
       "    </tr>\n",
       "  </tbody>\n",
       "</table>\n",
       "</div>"
      ],
      "text/plain": [
       "                fecha          tipo        lat        lon    precio  \\\n",
       "barrio                                                                \n",
       "CHACARITA  2017-12-09            ph -34.582115 -58.455020  329000.0   \n",
       "CHACARITA  2018-02-11  departamento -34.590656 -58.448731   92000.0   \n",
       "\n",
       "           superficie_total  superficie_cubierta  ambientes  \n",
       "barrio                                                       \n",
       "CHACARITA             265.0                215.0        5.0  \n",
       "CHACARITA              33.0                 30.0        1.0  "
      ]
     },
     "execution_count": 119,
     "metadata": {},
     "output_type": "execute_result"
    }
   ],
   "source": [
    "# al principio de la tabla están las de Palermo, hacia el final de la tabla están las de Chacarita\n",
    "resultado.tail(2)"
   ]
  },
  {
   "cell_type": "markdown",
   "metadata": {},
   "source": [
    "Cuando necesitemos recuperar al índice como columna, podemos traerla de vuelta."
   ]
  },
  {
   "cell_type": "code",
   "execution_count": 120,
   "metadata": {},
   "outputs": [
    {
     "data": {
      "text/html": [
       "<div>\n",
       "<style scoped>\n",
       "    .dataframe tbody tr th:only-of-type {\n",
       "        vertical-align: middle;\n",
       "    }\n",
       "\n",
       "    .dataframe tbody tr th {\n",
       "        vertical-align: top;\n",
       "    }\n",
       "\n",
       "    .dataframe thead th {\n",
       "        text-align: right;\n",
       "    }\n",
       "</style>\n",
       "<table border=\"1\" class=\"dataframe\">\n",
       "  <thead>\n",
       "    <tr style=\"text-align: right;\">\n",
       "      <th></th>\n",
       "      <th>barrio</th>\n",
       "      <th>fecha</th>\n",
       "      <th>tipo</th>\n",
       "      <th>lat</th>\n",
       "      <th>lon</th>\n",
       "      <th>precio</th>\n",
       "      <th>superficie_total</th>\n",
       "      <th>superficie_cubierta</th>\n",
       "      <th>ambientes</th>\n",
       "    </tr>\n",
       "  </thead>\n",
       "  <tbody>\n",
       "    <tr>\n",
       "      <th>0</th>\n",
       "      <td>VILLA LURO</td>\n",
       "      <td>2018-02-23</td>\n",
       "      <td>ph</td>\n",
       "      <td>-34.640644</td>\n",
       "      <td>-58.500677</td>\n",
       "      <td>128000.0</td>\n",
       "      <td>65.0</td>\n",
       "      <td>60.0</td>\n",
       "      <td>NaN</td>\n",
       "    </tr>\n",
       "    <tr>\n",
       "      <th>1</th>\n",
       "      <td>BARRACAS</td>\n",
       "      <td>2018-02-28</td>\n",
       "      <td>departamento</td>\n",
       "      <td>-34.643719</td>\n",
       "      <td>-58.372644</td>\n",
       "      <td>86000.0</td>\n",
       "      <td>34.0</td>\n",
       "      <td>32.0</td>\n",
       "      <td>1.0</td>\n",
       "    </tr>\n",
       "    <tr>\n",
       "      <th>2</th>\n",
       "      <td>COLEGIALES</td>\n",
       "      <td>2018-02-07</td>\n",
       "      <td>departamento</td>\n",
       "      <td>-34.573595</td>\n",
       "      <td>-58.442591</td>\n",
       "      <td>194150.0</td>\n",
       "      <td>58.0</td>\n",
       "      <td>48.0</td>\n",
       "      <td>2.0</td>\n",
       "    </tr>\n",
       "    <tr>\n",
       "      <th>3</th>\n",
       "      <td>VILLA DEVOTO</td>\n",
       "      <td>2018-02-20</td>\n",
       "      <td>casa</td>\n",
       "      <td>-34.611046</td>\n",
       "      <td>-58.503044</td>\n",
       "      <td>245000.0</td>\n",
       "      <td>112.0</td>\n",
       "      <td>112.0</td>\n",
       "      <td>2.0</td>\n",
       "    </tr>\n",
       "    <tr>\n",
       "      <th>4</th>\n",
       "      <td>VILLA CRESPO</td>\n",
       "      <td>2018-04-11</td>\n",
       "      <td>departamento</td>\n",
       "      <td>-34.605809</td>\n",
       "      <td>-58.453481</td>\n",
       "      <td>142900.0</td>\n",
       "      <td>47.0</td>\n",
       "      <td>40.0</td>\n",
       "      <td>2.0</td>\n",
       "    </tr>\n",
       "  </tbody>\n",
       "</table>\n",
       "</div>"
      ],
      "text/plain": [
       "         barrio       fecha          tipo        lat        lon    precio  \\\n",
       "0    VILLA LURO  2018-02-23            ph -34.640644 -58.500677  128000.0   \n",
       "1      BARRACAS  2018-02-28  departamento -34.643719 -58.372644   86000.0   \n",
       "2    COLEGIALES  2018-02-07  departamento -34.573595 -58.442591  194150.0   \n",
       "3  VILLA DEVOTO  2018-02-20          casa -34.611046 -58.503044  245000.0   \n",
       "4  VILLA CRESPO  2018-04-11  departamento -34.605809 -58.453481  142900.0   \n",
       "\n",
       "   superficie_total  superficie_cubierta  ambientes  \n",
       "0              65.0                 60.0        NaN  \n",
       "1              34.0                 32.0        1.0  \n",
       "2              58.0                 48.0        2.0  \n",
       "3             112.0                112.0        2.0  \n",
       "4              47.0                 40.0        2.0  "
      ]
     },
     "execution_count": 120,
     "metadata": {},
     "output_type": "execute_result"
    }
   ],
   "source": [
    "df.reset_index(inplace=True)\n",
    "\n",
    "df.head()"
   ]
  },
  {
   "cell_type": "markdown",
   "metadata": {},
   "source": [
    "---\n",
    "\n",
    "Pandas tiene la capacidad de convertir a más de una columna en índice, lo que recibe el nombre de **multi-índice**, en la que cada ex-columna aporta un nivel de indexación, estableciéndose también una jerarquía de indexación. Los valores existentes en las columnas se convierten en etiquetas."
   ]
  },
  {
   "cell_type": "code",
   "execution_count": 121,
   "metadata": {},
   "outputs": [
    {
     "data": {
      "text/html": [
       "<div>\n",
       "<style scoped>\n",
       "    .dataframe tbody tr th:only-of-type {\n",
       "        vertical-align: middle;\n",
       "    }\n",
       "\n",
       "    .dataframe tbody tr th {\n",
       "        vertical-align: top;\n",
       "    }\n",
       "\n",
       "    .dataframe thead th {\n",
       "        text-align: right;\n",
       "    }\n",
       "</style>\n",
       "<table border=\"1\" class=\"dataframe\">\n",
       "  <thead>\n",
       "    <tr style=\"text-align: right;\">\n",
       "      <th></th>\n",
       "      <th></th>\n",
       "      <th>fecha</th>\n",
       "      <th>lat</th>\n",
       "      <th>lon</th>\n",
       "      <th>precio</th>\n",
       "      <th>superficie_total</th>\n",
       "      <th>superficie_cubierta</th>\n",
       "      <th>ambientes</th>\n",
       "    </tr>\n",
       "    <tr>\n",
       "      <th>barrio</th>\n",
       "      <th>tipo</th>\n",
       "      <th></th>\n",
       "      <th></th>\n",
       "      <th></th>\n",
       "      <th></th>\n",
       "      <th></th>\n",
       "      <th></th>\n",
       "      <th></th>\n",
       "    </tr>\n",
       "  </thead>\n",
       "  <tbody>\n",
       "    <tr>\n",
       "      <th>VILLA LURO</th>\n",
       "      <th>ph</th>\n",
       "      <td>2018-02-23</td>\n",
       "      <td>-34.640644</td>\n",
       "      <td>-58.500677</td>\n",
       "      <td>128000.0</td>\n",
       "      <td>65.0</td>\n",
       "      <td>60.0</td>\n",
       "      <td>NaN</td>\n",
       "    </tr>\n",
       "    <tr>\n",
       "      <th>BARRACAS</th>\n",
       "      <th>departamento</th>\n",
       "      <td>2018-02-28</td>\n",
       "      <td>-34.643719</td>\n",
       "      <td>-58.372644</td>\n",
       "      <td>86000.0</td>\n",
       "      <td>34.0</td>\n",
       "      <td>32.0</td>\n",
       "      <td>1.0</td>\n",
       "    </tr>\n",
       "    <tr>\n",
       "      <th>COLEGIALES</th>\n",
       "      <th>departamento</th>\n",
       "      <td>2018-02-07</td>\n",
       "      <td>-34.573595</td>\n",
       "      <td>-58.442591</td>\n",
       "      <td>194150.0</td>\n",
       "      <td>58.0</td>\n",
       "      <td>48.0</td>\n",
       "      <td>2.0</td>\n",
       "    </tr>\n",
       "    <tr>\n",
       "      <th>VILLA DEVOTO</th>\n",
       "      <th>casa</th>\n",
       "      <td>2018-02-20</td>\n",
       "      <td>-34.611046</td>\n",
       "      <td>-58.503044</td>\n",
       "      <td>245000.0</td>\n",
       "      <td>112.0</td>\n",
       "      <td>112.0</td>\n",
       "      <td>2.0</td>\n",
       "    </tr>\n",
       "    <tr>\n",
       "      <th>VILLA CRESPO</th>\n",
       "      <th>departamento</th>\n",
       "      <td>2018-04-11</td>\n",
       "      <td>-34.605809</td>\n",
       "      <td>-58.453481</td>\n",
       "      <td>142900.0</td>\n",
       "      <td>47.0</td>\n",
       "      <td>40.0</td>\n",
       "      <td>2.0</td>\n",
       "    </tr>\n",
       "  </tbody>\n",
       "</table>\n",
       "</div>"
      ],
      "text/plain": [
       "                                fecha        lat        lon    precio  \\\n",
       "barrio       tipo                                                       \n",
       "VILLA LURO   ph            2018-02-23 -34.640644 -58.500677  128000.0   \n",
       "BARRACAS     departamento  2018-02-28 -34.643719 -58.372644   86000.0   \n",
       "COLEGIALES   departamento  2018-02-07 -34.573595 -58.442591  194150.0   \n",
       "VILLA DEVOTO casa          2018-02-20 -34.611046 -58.503044  245000.0   \n",
       "VILLA CRESPO departamento  2018-04-11 -34.605809 -58.453481  142900.0   \n",
       "\n",
       "                           superficie_total  superficie_cubierta  ambientes  \n",
       "barrio       tipo                                                            \n",
       "VILLA LURO   ph                        65.0                 60.0        NaN  \n",
       "BARRACAS     departamento              34.0                 32.0        1.0  \n",
       "COLEGIALES   departamento              58.0                 48.0        2.0  \n",
       "VILLA DEVOTO casa                     112.0                112.0        2.0  \n",
       "VILLA CRESPO departamento              47.0                 40.0        2.0  "
      ]
     },
     "execution_count": 121,
     "metadata": {},
     "output_type": "execute_result"
    }
   ],
   "source": [
    "df.set_index(['barrio','tipo'], inplace=True)\n",
    "\n",
    "df.head()"
   ]
  },
  {
   "cell_type": "markdown",
   "metadata": {},
   "source": [
    "En este caso barrio es el nivel 0 de indexación, tiene precedencia por sobre tipo, que viene a ser el nivel 1. Vamos a poder referenciar a los niveles por nombre y por posición."
   ]
  },
  {
   "cell_type": "code",
   "execution_count": 122,
   "metadata": {},
   "outputs": [
    {
     "data": {
      "text/plain": [
       "FrozenList(['barrio', 'tipo'])"
      ]
     },
     "execution_count": 122,
     "metadata": {},
     "output_type": "execute_result"
    }
   ],
   "source": [
    "df.index.names"
   ]
  },
  {
   "cell_type": "markdown",
   "metadata": {},
   "source": [
    "Seleccionar filas utilizando solo el nivel superior es como si trabajásemos con un índice simple, lo que veníamos haciendo."
   ]
  },
  {
   "cell_type": "code",
   "execution_count": 123,
   "metadata": {},
   "outputs": [
    {
     "data": {
      "text/html": [
       "<div>\n",
       "<style scoped>\n",
       "    .dataframe tbody tr th:only-of-type {\n",
       "        vertical-align: middle;\n",
       "    }\n",
       "\n",
       "    .dataframe tbody tr th {\n",
       "        vertical-align: top;\n",
       "    }\n",
       "\n",
       "    .dataframe thead th {\n",
       "        text-align: right;\n",
       "    }\n",
       "</style>\n",
       "<table border=\"1\" class=\"dataframe\">\n",
       "  <thead>\n",
       "    <tr style=\"text-align: right;\">\n",
       "      <th></th>\n",
       "      <th>fecha</th>\n",
       "      <th>lat</th>\n",
       "      <th>lon</th>\n",
       "      <th>precio</th>\n",
       "      <th>superficie_total</th>\n",
       "      <th>superficie_cubierta</th>\n",
       "      <th>ambientes</th>\n",
       "    </tr>\n",
       "    <tr>\n",
       "      <th>tipo</th>\n",
       "      <th></th>\n",
       "      <th></th>\n",
       "      <th></th>\n",
       "      <th></th>\n",
       "      <th></th>\n",
       "      <th></th>\n",
       "      <th></th>\n",
       "    </tr>\n",
       "  </thead>\n",
       "  <tbody>\n",
       "    <tr>\n",
       "      <th>casa</th>\n",
       "      <td>2018-03-30</td>\n",
       "      <td>-34.578329</td>\n",
       "      <td>-58.397749</td>\n",
       "      <td>3100000.0</td>\n",
       "      <td>450.0</td>\n",
       "      <td>350.0</td>\n",
       "      <td>3.0</td>\n",
       "    </tr>\n",
       "    <tr>\n",
       "      <th>departamento</th>\n",
       "      <td>2018-04-10</td>\n",
       "      <td>-34.586787</td>\n",
       "      <td>-58.416735</td>\n",
       "      <td>145000.0</td>\n",
       "      <td>NaN</td>\n",
       "      <td>NaN</td>\n",
       "      <td>3.0</td>\n",
       "    </tr>\n",
       "    <tr>\n",
       "      <th>departamento</th>\n",
       "      <td>2018-04-18</td>\n",
       "      <td>-34.582436</td>\n",
       "      <td>-58.414845</td>\n",
       "      <td>850000.0</td>\n",
       "      <td>270.0</td>\n",
       "      <td>240.0</td>\n",
       "      <td>6.0</td>\n",
       "    </tr>\n",
       "    <tr>\n",
       "      <th>departamento</th>\n",
       "      <td>2018-01-26</td>\n",
       "      <td>-34.578773</td>\n",
       "      <td>-58.415132</td>\n",
       "      <td>330000.0</td>\n",
       "      <td>74.0</td>\n",
       "      <td>64.0</td>\n",
       "      <td>3.0</td>\n",
       "    </tr>\n",
       "    <tr>\n",
       "      <th>departamento</th>\n",
       "      <td>2018-04-06</td>\n",
       "      <td>-34.569005</td>\n",
       "      <td>-58.436241</td>\n",
       "      <td>300000.0</td>\n",
       "      <td>110.0</td>\n",
       "      <td>98.0</td>\n",
       "      <td>NaN</td>\n",
       "    </tr>\n",
       "  </tbody>\n",
       "</table>\n",
       "</div>"
      ],
      "text/plain": [
       "                   fecha        lat        lon     precio  superficie_total  \\\n",
       "tipo                                                                          \n",
       "casa          2018-03-30 -34.578329 -58.397749  3100000.0             450.0   \n",
       "departamento  2018-04-10 -34.586787 -58.416735   145000.0               NaN   \n",
       "departamento  2018-04-18 -34.582436 -58.414845   850000.0             270.0   \n",
       "departamento  2018-01-26 -34.578773 -58.415132   330000.0              74.0   \n",
       "departamento  2018-04-06 -34.569005 -58.436241   300000.0             110.0   \n",
       "\n",
       "              superficie_cubierta  ambientes  \n",
       "tipo                                          \n",
       "casa                        350.0        3.0  \n",
       "departamento                  NaN        3.0  \n",
       "departamento                240.0        6.0  \n",
       "departamento                 64.0        3.0  \n",
       "departamento                 98.0        NaN  "
      ]
     },
     "execution_count": 123,
     "metadata": {},
     "output_type": "execute_result"
    }
   ],
   "source": [
    "# notar que la tabla devuelta carece del nivel superior\n",
    "df.loc['PALERMO'].head()"
   ]
  },
  {
   "cell_type": "markdown",
   "metadata": {},
   "source": [
    "Antes de continuar es necesario introducir a las tuplas (`tuple`), otro tipo de objeto nativo de Python. Son muy parecidas a las listas, se diferencian en algo que no nos importa mucho ahora: las listas son objetos mutables y las tuplas son inmutables. La forma literal de crearlas es utilizando paréntesis en vez de corchetes."
   ]
  },
  {
   "cell_type": "code",
   "execution_count": 59,
   "metadata": {},
   "outputs": [
    {
     "data": {
      "text/plain": [
       "(1, 2, 3)"
      ]
     },
     "execution_count": 59,
     "metadata": {},
     "output_type": "execute_result"
    }
   ],
   "source": [
    "tupla = (1, 2, 3)\n",
    "tupla"
   ]
  },
  {
   "cell_type": "markdown",
   "metadata": {},
   "source": [
    "Para hacer una selección utilizando más niveles del multi-índice se requiere escribir las etiquetas deseadas dentro de tuplas respetando la jerarquía de niveles, así `(nivel 0, nivel 1, ...)`."
   ]
  },
  {
   "cell_type": "code",
   "execution_count": 124,
   "metadata": {},
   "outputs": [
    {
     "name": "stderr",
     "output_type": "stream",
     "text": [
      "/home/matias/jupyterhub/lib/python3.7/site-packages/ipykernel_launcher.py:4: PerformanceWarning: indexing past lexsort depth may impact performance.\n",
      "  after removing the cwd from sys.path.\n"
     ]
    },
    {
     "data": {
      "text/html": [
       "<div>\n",
       "<style scoped>\n",
       "    .dataframe tbody tr th:only-of-type {\n",
       "        vertical-align: middle;\n",
       "    }\n",
       "\n",
       "    .dataframe tbody tr th {\n",
       "        vertical-align: top;\n",
       "    }\n",
       "\n",
       "    .dataframe thead th {\n",
       "        text-align: right;\n",
       "    }\n",
       "</style>\n",
       "<table border=\"1\" class=\"dataframe\">\n",
       "  <thead>\n",
       "    <tr style=\"text-align: right;\">\n",
       "      <th></th>\n",
       "      <th></th>\n",
       "      <th>fecha</th>\n",
       "      <th>lat</th>\n",
       "      <th>lon</th>\n",
       "      <th>precio</th>\n",
       "      <th>superficie_total</th>\n",
       "      <th>superficie_cubierta</th>\n",
       "      <th>ambientes</th>\n",
       "    </tr>\n",
       "    <tr>\n",
       "      <th>barrio</th>\n",
       "      <th>tipo</th>\n",
       "      <th></th>\n",
       "      <th></th>\n",
       "      <th></th>\n",
       "      <th></th>\n",
       "      <th></th>\n",
       "      <th></th>\n",
       "      <th></th>\n",
       "    </tr>\n",
       "  </thead>\n",
       "  <tbody>\n",
       "    <tr>\n",
       "      <th rowspan=\"5\" valign=\"top\">PALERMO</th>\n",
       "      <th>departamento</th>\n",
       "      <td>2018-04-10</td>\n",
       "      <td>-34.586787</td>\n",
       "      <td>-58.416735</td>\n",
       "      <td>145000.0</td>\n",
       "      <td>NaN</td>\n",
       "      <td>NaN</td>\n",
       "      <td>3.0</td>\n",
       "    </tr>\n",
       "    <tr>\n",
       "      <th>departamento</th>\n",
       "      <td>2018-04-18</td>\n",
       "      <td>-34.582436</td>\n",
       "      <td>-58.414845</td>\n",
       "      <td>850000.0</td>\n",
       "      <td>270.0</td>\n",
       "      <td>240.0</td>\n",
       "      <td>6.0</td>\n",
       "    </tr>\n",
       "    <tr>\n",
       "      <th>departamento</th>\n",
       "      <td>2018-01-26</td>\n",
       "      <td>-34.578773</td>\n",
       "      <td>-58.415132</td>\n",
       "      <td>330000.0</td>\n",
       "      <td>74.0</td>\n",
       "      <td>64.0</td>\n",
       "      <td>3.0</td>\n",
       "    </tr>\n",
       "    <tr>\n",
       "      <th>departamento</th>\n",
       "      <td>2018-04-06</td>\n",
       "      <td>-34.569005</td>\n",
       "      <td>-58.436241</td>\n",
       "      <td>300000.0</td>\n",
       "      <td>110.0</td>\n",
       "      <td>98.0</td>\n",
       "      <td>NaN</td>\n",
       "    </tr>\n",
       "    <tr>\n",
       "      <th>departamento</th>\n",
       "      <td>2018-04-06</td>\n",
       "      <td>-34.582669</td>\n",
       "      <td>-58.414019</td>\n",
       "      <td>360000.0</td>\n",
       "      <td>110.0</td>\n",
       "      <td>110.0</td>\n",
       "      <td>4.0</td>\n",
       "    </tr>\n",
       "  </tbody>\n",
       "</table>\n",
       "</div>"
      ],
      "text/plain": [
       "                           fecha        lat        lon    precio  \\\n",
       "barrio  tipo                                                       \n",
       "PALERMO departamento  2018-04-10 -34.586787 -58.416735  145000.0   \n",
       "        departamento  2018-04-18 -34.582436 -58.414845  850000.0   \n",
       "        departamento  2018-01-26 -34.578773 -58.415132  330000.0   \n",
       "        departamento  2018-04-06 -34.569005 -58.436241  300000.0   \n",
       "        departamento  2018-04-06 -34.582669 -58.414019  360000.0   \n",
       "\n",
       "                      superficie_total  superficie_cubierta  ambientes  \n",
       "barrio  tipo                                                            \n",
       "PALERMO departamento               NaN                  NaN        3.0  \n",
       "        departamento             270.0                240.0        6.0  \n",
       "        departamento              74.0                 64.0        3.0  \n",
       "        departamento             110.0                 98.0        NaN  \n",
       "        departamento             110.0                110.0        4.0  "
      ]
     },
     "execution_count": 124,
     "metadata": {},
     "output_type": "execute_result"
    }
   ],
   "source": [
    "# seleccionamos departamentos en Palermo\n",
    "filas = ('PALERMO', 'departamento')\n",
    "\n",
    "df.loc[filas].head()"
   ]
  },
  {
   "cell_type": "code",
   "execution_count": 135,
   "metadata": {
    "scrolled": true
   },
   "outputs": [
    {
     "data": {
      "text/html": [
       "<div>\n",
       "<style scoped>\n",
       "    .dataframe tbody tr th:only-of-type {\n",
       "        vertical-align: middle;\n",
       "    }\n",
       "\n",
       "    .dataframe tbody tr th {\n",
       "        vertical-align: top;\n",
       "    }\n",
       "\n",
       "    .dataframe thead th {\n",
       "        text-align: right;\n",
       "    }\n",
       "</style>\n",
       "<table border=\"1\" class=\"dataframe\">\n",
       "  <thead>\n",
       "    <tr style=\"text-align: right;\">\n",
       "      <th></th>\n",
       "      <th></th>\n",
       "      <th>fecha</th>\n",
       "      <th>lat</th>\n",
       "      <th>lon</th>\n",
       "      <th>precio</th>\n",
       "      <th>superficie_total</th>\n",
       "      <th>superficie_cubierta</th>\n",
       "      <th>ambientes</th>\n",
       "    </tr>\n",
       "    <tr>\n",
       "      <th>barrio</th>\n",
       "      <th>tipo</th>\n",
       "      <th></th>\n",
       "      <th></th>\n",
       "      <th></th>\n",
       "      <th></th>\n",
       "      <th></th>\n",
       "      <th></th>\n",
       "      <th></th>\n",
       "    </tr>\n",
       "  </thead>\n",
       "  <tbody>\n",
       "    <tr>\n",
       "      <th rowspan=\"3\" valign=\"top\">CHACARITA</th>\n",
       "      <th>departamento</th>\n",
       "      <td>2018-02-07</td>\n",
       "      <td>-34.585998</td>\n",
       "      <td>-58.454436</td>\n",
       "      <td>190000.0</td>\n",
       "      <td>73.0</td>\n",
       "      <td>70.0</td>\n",
       "      <td>4.0</td>\n",
       "    </tr>\n",
       "    <tr>\n",
       "      <th>departamento</th>\n",
       "      <td>2018-04-08</td>\n",
       "      <td>-34.583265</td>\n",
       "      <td>-58.452488</td>\n",
       "      <td>118000.0</td>\n",
       "      <td>33.0</td>\n",
       "      <td>30.0</td>\n",
       "      <td>1.0</td>\n",
       "    </tr>\n",
       "    <tr>\n",
       "      <th>departamento</th>\n",
       "      <td>2018-04-18</td>\n",
       "      <td>-34.582635</td>\n",
       "      <td>-58.451826</td>\n",
       "      <td>325000.0</td>\n",
       "      <td>86.0</td>\n",
       "      <td>NaN</td>\n",
       "      <td>3.0</td>\n",
       "    </tr>\n",
       "    <tr>\n",
       "      <th>SAN TELMO</th>\n",
       "      <th>departamento</th>\n",
       "      <td>2018-03-27</td>\n",
       "      <td>-34.619606</td>\n",
       "      <td>-58.374275</td>\n",
       "      <td>365000.0</td>\n",
       "      <td>140.0</td>\n",
       "      <td>140.0</td>\n",
       "      <td>3.0</td>\n",
       "    </tr>\n",
       "    <tr>\n",
       "      <th>CHACARITA</th>\n",
       "      <th>departamento</th>\n",
       "      <td>2018-03-02</td>\n",
       "      <td>-34.587261</td>\n",
       "      <td>-58.452466</td>\n",
       "      <td>158000.0</td>\n",
       "      <td>62.0</td>\n",
       "      <td>60.0</td>\n",
       "      <td>2.0</td>\n",
       "    </tr>\n",
       "  </tbody>\n",
       "</table>\n",
       "</div>"
      ],
      "text/plain": [
       "                             fecha        lat        lon    precio  \\\n",
       "barrio    tipo                                                       \n",
       "CHACARITA departamento  2018-02-07 -34.585998 -58.454436  190000.0   \n",
       "          departamento  2018-04-08 -34.583265 -58.452488  118000.0   \n",
       "          departamento  2018-04-18 -34.582635 -58.451826  325000.0   \n",
       "SAN TELMO departamento  2018-03-27 -34.619606 -58.374275  365000.0   \n",
       "CHACARITA departamento  2018-03-02 -34.587261 -58.452466  158000.0   \n",
       "\n",
       "                        superficie_total  superficie_cubierta  ambientes  \n",
       "barrio    tipo                                                            \n",
       "CHACARITA departamento              73.0                 70.0        4.0  \n",
       "          departamento              33.0                 30.0        1.0  \n",
       "          departamento              86.0                  NaN        3.0  \n",
       "SAN TELMO departamento             140.0                140.0        3.0  \n",
       "CHACARITA departamento              62.0                 60.0        2.0  "
      ]
     },
     "execution_count": 135,
     "metadata": {},
     "output_type": "execute_result"
    }
   ],
   "source": [
    "# seleccionamos propiedades en San Telmo y Chacarita que son departamentos\n",
    "filas = (['SAN TELMO','CHACARITA'], 'departamento')\n",
    "\n",
    "# al usar multi-índice es IMPORTANTE especificar también las columnas, aunque no queramos filtrarlas\n",
    "df.loc[filas, :].head()"
   ]
  },
  {
   "cell_type": "markdown",
   "metadata": {},
   "source": [
    "Para seleccionar las propiedades en todos los barrios que son departamentos tenemos que pedir todas las etiquetas del nivel 0 (todos los barrios) y la etiqueta del nivel 1 (departamento).\n",
    "\n",
    "En principio podríamos pensar lo siguiente, ya que `:` representaría todas las etiquetas de los barrios.\n",
    "\n",
    "    filas = (:, 'departamento')\n",
    "    \n",
    "Sin embargo esta sintaxis no es correcta: el azúcar sintáctica de `:` solo sirve cuando está encerrado entre corchetes `[:]` y en el caso anterior lo está en paréntesis.\n",
    "\n",
    "Recordemos que `:` es una forma abreviada de tipear `slice(None)` y que estas dos formas significan lo mismo."
   ]
  },
  {
   "cell_type": "code",
   "execution_count": 138,
   "metadata": {},
   "outputs": [
    {
     "data": {
      "text/html": [
       "<div>\n",
       "<style scoped>\n",
       "    .dataframe tbody tr th:only-of-type {\n",
       "        vertical-align: middle;\n",
       "    }\n",
       "\n",
       "    .dataframe tbody tr th {\n",
       "        vertical-align: top;\n",
       "    }\n",
       "\n",
       "    .dataframe thead th {\n",
       "        text-align: right;\n",
       "    }\n",
       "</style>\n",
       "<table border=\"1\" class=\"dataframe\">\n",
       "  <thead>\n",
       "    <tr style=\"text-align: right;\">\n",
       "      <th></th>\n",
       "      <th></th>\n",
       "      <th>fecha</th>\n",
       "      <th>lat</th>\n",
       "      <th>lon</th>\n",
       "      <th>precio</th>\n",
       "      <th>superficie_total</th>\n",
       "      <th>superficie_cubierta</th>\n",
       "      <th>ambientes</th>\n",
       "    </tr>\n",
       "    <tr>\n",
       "      <th>barrio</th>\n",
       "      <th>tipo</th>\n",
       "      <th></th>\n",
       "      <th></th>\n",
       "      <th></th>\n",
       "      <th></th>\n",
       "      <th></th>\n",
       "      <th></th>\n",
       "      <th></th>\n",
       "    </tr>\n",
       "  </thead>\n",
       "  <tbody>\n",
       "    <tr>\n",
       "      <th>BARRACAS</th>\n",
       "      <th>departamento</th>\n",
       "      <td>2018-02-28</td>\n",
       "      <td>-34.643719</td>\n",
       "      <td>-58.372644</td>\n",
       "      <td>86000.0</td>\n",
       "      <td>34.0</td>\n",
       "      <td>32.0</td>\n",
       "      <td>1.0</td>\n",
       "    </tr>\n",
       "    <tr>\n",
       "      <th>COLEGIALES</th>\n",
       "      <th>departamento</th>\n",
       "      <td>2018-02-07</td>\n",
       "      <td>-34.573595</td>\n",
       "      <td>-58.442591</td>\n",
       "      <td>194150.0</td>\n",
       "      <td>58.0</td>\n",
       "      <td>48.0</td>\n",
       "      <td>2.0</td>\n",
       "    </tr>\n",
       "    <tr>\n",
       "      <th>VILLA CRESPO</th>\n",
       "      <th>departamento</th>\n",
       "      <td>2018-04-11</td>\n",
       "      <td>-34.605809</td>\n",
       "      <td>-58.453481</td>\n",
       "      <td>142900.0</td>\n",
       "      <td>47.0</td>\n",
       "      <td>40.0</td>\n",
       "      <td>2.0</td>\n",
       "    </tr>\n",
       "    <tr>\n",
       "      <th>VILLA LURO</th>\n",
       "      <th>departamento</th>\n",
       "      <td>2018-03-18</td>\n",
       "      <td>-34.638511</td>\n",
       "      <td>-58.504406</td>\n",
       "      <td>73000.0</td>\n",
       "      <td>29.0</td>\n",
       "      <td>26.0</td>\n",
       "      <td>1.0</td>\n",
       "    </tr>\n",
       "    <tr>\n",
       "      <th>VILLA URQUIZA</th>\n",
       "      <th>departamento</th>\n",
       "      <td>2018-03-27</td>\n",
       "      <td>-34.577253</td>\n",
       "      <td>-58.497460</td>\n",
       "      <td>150392.0</td>\n",
       "      <td>53.0</td>\n",
       "      <td>46.0</td>\n",
       "      <td>2.0</td>\n",
       "    </tr>\n",
       "  </tbody>\n",
       "</table>\n",
       "</div>"
      ],
      "text/plain": [
       "                                 fecha        lat        lon    precio  \\\n",
       "barrio        tipo                                                       \n",
       "BARRACAS      departamento  2018-02-28 -34.643719 -58.372644   86000.0   \n",
       "COLEGIALES    departamento  2018-02-07 -34.573595 -58.442591  194150.0   \n",
       "VILLA CRESPO  departamento  2018-04-11 -34.605809 -58.453481  142900.0   \n",
       "VILLA LURO    departamento  2018-03-18 -34.638511 -58.504406   73000.0   \n",
       "VILLA URQUIZA departamento  2018-03-27 -34.577253 -58.497460  150392.0   \n",
       "\n",
       "                            superficie_total  superficie_cubierta  ambientes  \n",
       "barrio        tipo                                                            \n",
       "BARRACAS      departamento              34.0                 32.0        1.0  \n",
       "COLEGIALES    departamento              58.0                 48.0        2.0  \n",
       "VILLA CRESPO  departamento              47.0                 40.0        2.0  \n",
       "VILLA LURO    departamento              29.0                 26.0        1.0  \n",
       "VILLA URQUIZA departamento              53.0                 46.0        2.0  "
      ]
     },
     "execution_count": 138,
     "metadata": {},
     "output_type": "execute_result"
    }
   ],
   "source": [
    "filas = (slice(None), 'departamento')\n",
    "\n",
    "df.loc[filas, :].head()"
   ]
  },
  {
   "cell_type": "markdown",
   "metadata": {},
   "source": [
    "Pandas provee una manera de recuperar el azúcar sintáctica."
   ]
  },
  {
   "cell_type": "code",
   "execution_count": 139,
   "metadata": {},
   "outputs": [
    {
     "data": {
      "text/html": [
       "<div>\n",
       "<style scoped>\n",
       "    .dataframe tbody tr th:only-of-type {\n",
       "        vertical-align: middle;\n",
       "    }\n",
       "\n",
       "    .dataframe tbody tr th {\n",
       "        vertical-align: top;\n",
       "    }\n",
       "\n",
       "    .dataframe thead th {\n",
       "        text-align: right;\n",
       "    }\n",
       "</style>\n",
       "<table border=\"1\" class=\"dataframe\">\n",
       "  <thead>\n",
       "    <tr style=\"text-align: right;\">\n",
       "      <th></th>\n",
       "      <th></th>\n",
       "      <th>fecha</th>\n",
       "      <th>lat</th>\n",
       "      <th>lon</th>\n",
       "      <th>precio</th>\n",
       "      <th>superficie_total</th>\n",
       "      <th>superficie_cubierta</th>\n",
       "      <th>ambientes</th>\n",
       "    </tr>\n",
       "    <tr>\n",
       "      <th>barrio</th>\n",
       "      <th>tipo</th>\n",
       "      <th></th>\n",
       "      <th></th>\n",
       "      <th></th>\n",
       "      <th></th>\n",
       "      <th></th>\n",
       "      <th></th>\n",
       "      <th></th>\n",
       "    </tr>\n",
       "  </thead>\n",
       "  <tbody>\n",
       "    <tr>\n",
       "      <th>BARRACAS</th>\n",
       "      <th>departamento</th>\n",
       "      <td>2018-02-28</td>\n",
       "      <td>-34.643719</td>\n",
       "      <td>-58.372644</td>\n",
       "      <td>86000.0</td>\n",
       "      <td>34.0</td>\n",
       "      <td>32.0</td>\n",
       "      <td>1.0</td>\n",
       "    </tr>\n",
       "    <tr>\n",
       "      <th>COLEGIALES</th>\n",
       "      <th>departamento</th>\n",
       "      <td>2018-02-07</td>\n",
       "      <td>-34.573595</td>\n",
       "      <td>-58.442591</td>\n",
       "      <td>194150.0</td>\n",
       "      <td>58.0</td>\n",
       "      <td>48.0</td>\n",
       "      <td>2.0</td>\n",
       "    </tr>\n",
       "    <tr>\n",
       "      <th>VILLA CRESPO</th>\n",
       "      <th>departamento</th>\n",
       "      <td>2018-04-11</td>\n",
       "      <td>-34.605809</td>\n",
       "      <td>-58.453481</td>\n",
       "      <td>142900.0</td>\n",
       "      <td>47.0</td>\n",
       "      <td>40.0</td>\n",
       "      <td>2.0</td>\n",
       "    </tr>\n",
       "    <tr>\n",
       "      <th>VILLA LURO</th>\n",
       "      <th>departamento</th>\n",
       "      <td>2018-03-18</td>\n",
       "      <td>-34.638511</td>\n",
       "      <td>-58.504406</td>\n",
       "      <td>73000.0</td>\n",
       "      <td>29.0</td>\n",
       "      <td>26.0</td>\n",
       "      <td>1.0</td>\n",
       "    </tr>\n",
       "    <tr>\n",
       "      <th>VILLA URQUIZA</th>\n",
       "      <th>departamento</th>\n",
       "      <td>2018-03-27</td>\n",
       "      <td>-34.577253</td>\n",
       "      <td>-58.497460</td>\n",
       "      <td>150392.0</td>\n",
       "      <td>53.0</td>\n",
       "      <td>46.0</td>\n",
       "      <td>2.0</td>\n",
       "    </tr>\n",
       "  </tbody>\n",
       "</table>\n",
       "</div>"
      ],
      "text/plain": [
       "                                 fecha        lat        lon    precio  \\\n",
       "barrio        tipo                                                       \n",
       "BARRACAS      departamento  2018-02-28 -34.643719 -58.372644   86000.0   \n",
       "COLEGIALES    departamento  2018-02-07 -34.573595 -58.442591  194150.0   \n",
       "VILLA CRESPO  departamento  2018-04-11 -34.605809 -58.453481  142900.0   \n",
       "VILLA LURO    departamento  2018-03-18 -34.638511 -58.504406   73000.0   \n",
       "VILLA URQUIZA departamento  2018-03-27 -34.577253 -58.497460  150392.0   \n",
       "\n",
       "                            superficie_total  superficie_cubierta  ambientes  \n",
       "barrio        tipo                                                            \n",
       "BARRACAS      departamento              34.0                 32.0        1.0  \n",
       "COLEGIALES    departamento              58.0                 48.0        2.0  \n",
       "VILLA CRESPO  departamento              47.0                 40.0        2.0  \n",
       "VILLA LURO    departamento              29.0                 26.0        1.0  \n",
       "VILLA URQUIZA departamento              53.0                 46.0        2.0  "
      ]
     },
     "execution_count": 139,
     "metadata": {},
     "output_type": "execute_result"
    }
   ],
   "source": [
    "filas = pd.IndexSlice[:, 'departamento']\n",
    "\n",
    "df.loc[filas, :].head()"
   ]
  },
  {
   "cell_type": "markdown",
   "metadata": {},
   "source": [
    "La gente suele escribir menos recurriendo a esta artimaña."
   ]
  },
  {
   "cell_type": "code",
   "execution_count": 140,
   "metadata": {},
   "outputs": [
    {
     "data": {
      "text/plain": [
       "(slice(None, None, None), 'departamento')"
      ]
     },
     "execution_count": 140,
     "metadata": {},
     "output_type": "execute_result"
    }
   ],
   "source": [
    "# darle un alias a pd.IndexSlice\n",
    "idx = pd.IndexSlice\n",
    "\n",
    "idx[:, 'departamento']"
   ]
  },
  {
   "cell_type": "markdown",
   "metadata": {},
   "source": [
    "No lo hemos mostrado pero el índice de las columnas también puede ser un multi-índice."
   ]
  },
  {
   "cell_type": "code",
   "execution_count": 142,
   "metadata": {},
   "outputs": [],
   "source": [
    "# nos despedimos de los multi-índices por ahora...\n",
    "df.reset_index(inplace=True)"
   ]
  },
  {
   "cell_type": "markdown",
   "metadata": {},
   "source": [
    "## Operaciones vectorizadas\n",
    "\n",
    "Vector y arreglo son dos términos intercambiables. El título se refiere a operaciones sobre arreglos de NumPy que se realizan elemento a elemento (*element-wise*) que también están Pandas por estar construido sobre NumPy. Además estas operaciones están preparadas para tratar con valores ausentes. Ninguna de estas dos funcionalidades está presente en Python puro."
   ]
  },
  {
   "cell_type": "code",
   "execution_count": 133,
   "metadata": {},
   "outputs": [
    {
     "data": {
      "text/plain": [
       "array([ 2.,  4., nan])"
      ]
     },
     "execution_count": 133,
     "metadata": {},
     "output_type": "execute_result"
    }
   ],
   "source": [
    "a = np.array([2, 2, 2])\n",
    "\n",
    "b = np.array([1, 2, np.nan])\n",
    "\n",
    "a * b"
   ]
  },
  {
   "cell_type": "markdown",
   "metadata": {},
   "source": [
    "**Nota**: Los valores ausentes `NA` no existen nativamente en Python, como sí existen en R. NumPy lo mitiga usando `NaN` (*not a number*) para representarlos. `NaN` es un valor del tipo `float`. Como los arreglos de NumPy pueden tener un solo `dtype`, un arreglo de enteros es promovido a un arreglo de flotantes y un arreglo de booleanos es llevado a uno de objetos (`object`) en presencia de valores ausentes, ya que por ejemplo, no podríamos tener un arreglo con enteros y `NaN` (`float`) simultáneamente. "
   ]
  },
  {
   "cell_type": "markdown",
   "metadata": {},
   "source": [
    "Los operadores (`+`, `-`, ...) terminan invocando a funciones; existen dentro de la sintáxis del lenguaje por practicidad. Cuando alguno de los operandos es un arreglo de NumPy, se invocan funciones de NumPy correspondientes (`np.add`, `np.substract`, ...) en vez de funciones de Python puro. También las podemos llamar directamente."
   ]
  },
  {
   "cell_type": "code",
   "execution_count": 134,
   "metadata": {},
   "outputs": [
    {
     "data": {
      "text/plain": [
       "array([ 2.,  4., nan])"
      ]
     },
     "execution_count": 134,
     "metadata": {},
     "output_type": "execute_result"
    }
   ],
   "source": [
    "np.multiply(a, b)"
   ]
  },
  {
   "cell_type": "markdown",
   "metadata": {},
   "source": [
    "Como característica, son **funciones universales** (`ufunc`), ya que hacen su trabajo elemento a elemento independientemente de las dimensiones de los argumentos (escalar, columna, tabla).\n",
    "\n",
    "Pandas a su vez implementa las funciones de NumPy como métodos (aunque en la mayor parte del tiempo usamos operadores)."
   ]
  },
  {
   "cell_type": "code",
   "execution_count": 132,
   "metadata": {},
   "outputs": [
    {
     "data": {
      "text/plain": [
       "0    9625000.0\n",
       "1    9380000.0\n",
       "2    3080000.0\n",
       "3    4721500.0\n",
       "4    2415000.0\n",
       "Name: precio, dtype: float64"
      ]
     },
     "execution_count": 132,
     "metadata": {},
     "output_type": "execute_result"
    }
   ],
   "source": [
    "# convertimos de USD a ARS\n",
    "df.precio.multiply(35).head()"
   ]
  },
  {
   "cell_type": "markdown",
   "metadata": {},
   "source": [
    "Las operaciones vectorizadas en cualquiera de sus sabores (operadores, funciones, métodos) son ideales para trabajar sobre las columnas existentes y crear nuevas."
   ]
  },
  {
   "cell_type": "code",
   "execution_count": 131,
   "metadata": {},
   "outputs": [
    {
     "data": {
      "text/html": [
       "<div>\n",
       "<style scoped>\n",
       "    .dataframe tbody tr th:only-of-type {\n",
       "        vertical-align: middle;\n",
       "    }\n",
       "\n",
       "    .dataframe tbody tr th {\n",
       "        vertical-align: top;\n",
       "    }\n",
       "\n",
       "    .dataframe thead th {\n",
       "        text-align: right;\n",
       "    }\n",
       "</style>\n",
       "<table border=\"1\" class=\"dataframe\">\n",
       "  <thead>\n",
       "    <tr style=\"text-align: right;\">\n",
       "      <th></th>\n",
       "      <th>fecha</th>\n",
       "      <th>tipo</th>\n",
       "      <th>lat</th>\n",
       "      <th>lon</th>\n",
       "      <th>precio</th>\n",
       "      <th>superficie_total</th>\n",
       "      <th>superficie_cubierta</th>\n",
       "      <th>ambientes</th>\n",
       "      <th>barrio</th>\n",
       "      <th>precio_m2</th>\n",
       "    </tr>\n",
       "  </thead>\n",
       "  <tbody>\n",
       "    <tr>\n",
       "      <th>0</th>\n",
       "      <td>2017-11-01</td>\n",
       "      <td>departamento</td>\n",
       "      <td>-34.629118</td>\n",
       "      <td>-58.480835</td>\n",
       "      <td>275000.0</td>\n",
       "      <td>NaN</td>\n",
       "      <td>NaN</td>\n",
       "      <td>5.0</td>\n",
       "      <td>FLORESTA</td>\n",
       "      <td>NaN</td>\n",
       "    </tr>\n",
       "    <tr>\n",
       "      <th>1</th>\n",
       "      <td>2017-11-03</td>\n",
       "      <td>departamento</td>\n",
       "      <td>-34.627120</td>\n",
       "      <td>-58.475595</td>\n",
       "      <td>268000.0</td>\n",
       "      <td>134.0</td>\n",
       "      <td>122.0</td>\n",
       "      <td>4.0</td>\n",
       "      <td>FLORESTA</td>\n",
       "      <td>2000.000000</td>\n",
       "    </tr>\n",
       "    <tr>\n",
       "      <th>2</th>\n",
       "      <td>2017-11-03</td>\n",
       "      <td>departamento</td>\n",
       "      <td>-34.630429</td>\n",
       "      <td>-58.486193</td>\n",
       "      <td>88000.0</td>\n",
       "      <td>37.0</td>\n",
       "      <td>34.0</td>\n",
       "      <td>2.0</td>\n",
       "      <td>FLORESTA</td>\n",
       "      <td>2378.378378</td>\n",
       "    </tr>\n",
       "    <tr>\n",
       "      <th>3</th>\n",
       "      <td>2017-11-09</td>\n",
       "      <td>departamento</td>\n",
       "      <td>-34.628319</td>\n",
       "      <td>-58.479828</td>\n",
       "      <td>134900.0</td>\n",
       "      <td>70.0</td>\n",
       "      <td>70.0</td>\n",
       "      <td>3.0</td>\n",
       "      <td>FLORESTA</td>\n",
       "      <td>1927.142857</td>\n",
       "    </tr>\n",
       "    <tr>\n",
       "      <th>4</th>\n",
       "      <td>2017-11-14</td>\n",
       "      <td>departamento</td>\n",
       "      <td>-34.620887</td>\n",
       "      <td>-58.491288</td>\n",
       "      <td>69000.0</td>\n",
       "      <td>NaN</td>\n",
       "      <td>50.0</td>\n",
       "      <td>2.0</td>\n",
       "      <td>FLORESTA</td>\n",
       "      <td>NaN</td>\n",
       "    </tr>\n",
       "  </tbody>\n",
       "</table>\n",
       "</div>"
      ],
      "text/plain": [
       "        fecha          tipo        lat        lon    precio  superficie_total  \\\n",
       "0  2017-11-01  departamento -34.629118 -58.480835  275000.0               NaN   \n",
       "1  2017-11-03  departamento -34.627120 -58.475595  268000.0             134.0   \n",
       "2  2017-11-03  departamento -34.630429 -58.486193   88000.0              37.0   \n",
       "3  2017-11-09  departamento -34.628319 -58.479828  134900.0              70.0   \n",
       "4  2017-11-14  departamento -34.620887 -58.491288   69000.0               NaN   \n",
       "\n",
       "   superficie_cubierta  ambientes    barrio    precio_m2  \n",
       "0                  NaN        5.0  FLORESTA          NaN  \n",
       "1                122.0        4.0  FLORESTA  2000.000000  \n",
       "2                 34.0        2.0  FLORESTA  2378.378378  \n",
       "3                 70.0        3.0  FLORESTA  1927.142857  \n",
       "4                 50.0        2.0  FLORESTA          NaN  "
      ]
     },
     "execution_count": 131,
     "metadata": {},
     "output_type": "execute_result"
    }
   ],
   "source": [
    "df['precio_m2'] = df.precio / df.superficie_total\n",
    "\n",
    "df.head()"
   ]
  },
  {
   "cell_type": "markdown",
   "metadata": {},
   "source": [
    "### Operadores y funciones comunes\n",
    "\n",
    "Existen operadores como `+` que requieren dos operandos, llamados operadores binarios y operadores como `-` (negación) que trabajan con un solo operando, los operadores unarios.\n",
    "\n",
    "**Comparación**\n",
    "\n",
    "    ==  np.equal\n",
    "    !=  np.not_equal\n",
    "\n",
    "     <  np.less\n",
    "    <=  np.less_equal\n",
    "\n",
    "     >  np.greater\n",
    "    >=  np.greater_equal\n",
    "\n",
    "**Matemáticas**\n",
    "\n",
    "     +  np.add\n",
    "     -  np.subtract\n",
    "     -  np.negate  (unario)\n",
    "     *  np.multiply\n",
    "     /  np.divide\n",
    "\n",
    "    **  np.pow\n",
    "        np.sqrt\n",
    "        np.exp\n",
    "        np.log\n",
    "\n",
    "**Booleanas**\n",
    "\n",
    "     &  np.bitwise_and\n",
    "     |  np.bitwise_or\n",
    "     ~  np.bitwise_not  (unario)\n",
    "\n",
    "**Flotantes**\n",
    "\n",
    "        np.round\n",
    "        np.isna\n",
    "        np.notna"
   ]
  },
  {
   "cell_type": "markdown",
   "metadata": {},
   "source": [
    "**IMPORTANTE**: `and` y `or` realizan una sola evaluación booleana en el objeto entero, mientras que `&` y `|` realizan múltiples evaluaciones sobre el contenido (elementos de la colección) de los objetos. Cuando trabajamos con arreglos, esto último es lo que normalmente queremos."
   ]
  },
  {
   "cell_type": "code",
   "execution_count": 136,
   "metadata": {},
   "outputs": [
    {
     "data": {
      "text/plain": [
       "array([ True, False, False])"
      ]
     },
     "execution_count": 136,
     "metadata": {},
     "output_type": "execute_result"
    }
   ],
   "source": [
    "a = np.array([True, True, False])\n",
    "\n",
    "b = np.array([True, False, False])\n",
    "\n",
    "# bitwise and\n",
    "a & b"
   ]
  },
  {
   "cell_type": "code",
   "execution_count": 137,
   "metadata": {},
   "outputs": [
    {
     "data": {
      "text/plain": [
       "array([ True,  True, False])"
      ]
     },
     "execution_count": 137,
     "metadata": {},
     "output_type": "execute_result"
    }
   ],
   "source": [
    "# bitwise or\n",
    "a | b"
   ]
  },
  {
   "cell_type": "markdown",
   "metadata": {},
   "source": [
    "### Operaciones con texto\n",
    "\n",
    "Los *strings* (`str`) de Python poseen una gran variedad de métodos muy útiles. Pandas implementa estos métodos y atributos (junto con otros más) como operaciones vectorizadas que se acceden desde el atributo `Series.str` y `DataFrame.str`."
   ]
  },
  {
   "cell_type": "code",
   "execution_count": 103,
   "metadata": {},
   "outputs": [
    {
     "data": {
      "text/plain": [
       "0    MANZANA\n",
       "1     BANANA\n",
       "dtype: object"
      ]
     },
     "execution_count": 103,
     "metadata": {},
     "output_type": "execute_result"
    }
   ],
   "source": [
    "frutas = pd.Series(['manzana', 'banana'])\n",
    "\n",
    "frutas.str.upper()"
   ]
  },
  {
   "cell_type": "markdown",
   "metadata": {},
   "source": [
    "### Operaciones con objetos temporales\n",
    "\n",
    "Python viene con objetos del tipo fecha (`date`), hora (`time`), fecha y hora (`datetime`) e intervalos temporales (`timedelta`). Los métodos y atributos de estos objetos aparecen vectorizados bajo el atributo `Series.dt` y `DataFrame.dt`."
   ]
  },
  {
   "cell_type": "code",
   "execution_count": 111,
   "metadata": {},
   "outputs": [
    {
     "data": {
      "text/plain": [
       "0    1990-01-01\n",
       "1    2018-10-31\n",
       "dtype: object"
      ]
     },
     "execution_count": 111,
     "metadata": {},
     "output_type": "execute_result"
    }
   ],
   "source": [
    "fechas = pd.Series(['1990-01-01', '2018-10-31'])\n",
    "\n",
    "fechas"
   ]
  },
  {
   "cell_type": "code",
   "execution_count": 112,
   "metadata": {},
   "outputs": [
    {
     "data": {
      "text/plain": [
       "0   1990-01-01\n",
       "1   2018-10-31\n",
       "dtype: datetime64[ns]"
      ]
     },
     "execution_count": 112,
     "metadata": {},
     "output_type": "execute_result"
    }
   ],
   "source": [
    "# convertimos strings a datetime\n",
    "fechas = pd.to_datetime(fechas)\n",
    "\n",
    "fechas"
   ]
  },
  {
   "cell_type": "code",
   "execution_count": 118,
   "metadata": {},
   "outputs": [
    {
     "data": {
      "text/plain": [
       "0    1990\n",
       "1    2018\n",
       "dtype: int64"
      ]
     },
     "execution_count": 118,
     "metadata": {},
     "output_type": "execute_result"
    }
   ],
   "source": [
    "# atributo year de datetime\n",
    "fechas.dt.year"
   ]
  },
  {
   "cell_type": "markdown",
   "metadata": {},
   "source": [
    "**Nota**: NumPy no implementa operaciones con texto y tiempo pero Pandas sí."
   ]
  },
  {
   "cell_type": "markdown",
   "metadata": {},
   "source": [
    "## Selección usando columnas\n",
    "\n",
    "En vez de usar el índice de las filas podemos seleccionar filas usando las columnas. Para ello generamos máscaras booleanas usando columnas (que de por sí tienen un largo igual al de la tabla) y operaciones que devuelvan valores booleanos. Las operaciones de comparación son bastante útiles en este contexto ya que nos permiten seleccionar filas según valores en las columnas. "
   ]
  },
  {
   "cell_type": "code",
   "execution_count": 34,
   "metadata": {},
   "outputs": [
    {
     "data": {
      "text/html": [
       "<div>\n",
       "<style scoped>\n",
       "    .dataframe tbody tr th:only-of-type {\n",
       "        vertical-align: middle;\n",
       "    }\n",
       "\n",
       "    .dataframe tbody tr th {\n",
       "        vertical-align: top;\n",
       "    }\n",
       "\n",
       "    .dataframe thead th {\n",
       "        text-align: right;\n",
       "    }\n",
       "</style>\n",
       "<table border=\"1\" class=\"dataframe\">\n",
       "  <thead>\n",
       "    <tr style=\"text-align: right;\">\n",
       "      <th></th>\n",
       "      <th>fecha</th>\n",
       "      <th>tipo</th>\n",
       "      <th>lat</th>\n",
       "      <th>lon</th>\n",
       "      <th>precio</th>\n",
       "      <th>superficie_total</th>\n",
       "      <th>superficie_cubierta</th>\n",
       "      <th>ambientes</th>\n",
       "      <th>barrio</th>\n",
       "    </tr>\n",
       "  </thead>\n",
       "  <tbody>\n",
       "    <tr>\n",
       "      <th>19442</th>\n",
       "      <td>2018-03-18</td>\n",
       "      <td>departamento</td>\n",
       "      <td>-34.638511</td>\n",
       "      <td>-58.504406</td>\n",
       "      <td>73000.0</td>\n",
       "      <td>29.0</td>\n",
       "      <td>26.0</td>\n",
       "      <td>1.0</td>\n",
       "      <td>VILLA LURO</td>\n",
       "    </tr>\n",
       "    <tr>\n",
       "      <th>12244</th>\n",
       "      <td>2018-01-25</td>\n",
       "      <td>local</td>\n",
       "      <td>-34.560463</td>\n",
       "      <td>-58.458433</td>\n",
       "      <td>32000.0</td>\n",
       "      <td>30.0</td>\n",
       "      <td>30.0</td>\n",
       "      <td>1.0</td>\n",
       "      <td>BELGRANO</td>\n",
       "    </tr>\n",
       "    <tr>\n",
       "      <th>17056</th>\n",
       "      <td>2018-04-21</td>\n",
       "      <td>local</td>\n",
       "      <td>-34.597679</td>\n",
       "      <td>-58.443019</td>\n",
       "      <td>11111.0</td>\n",
       "      <td>200.0</td>\n",
       "      <td>200.0</td>\n",
       "      <td>NaN</td>\n",
       "      <td>VILLA CRESPO</td>\n",
       "    </tr>\n",
       "    <tr>\n",
       "      <th>23255</th>\n",
       "      <td>2018-04-19</td>\n",
       "      <td>local</td>\n",
       "      <td>-34.638658</td>\n",
       "      <td>-58.528026</td>\n",
       "      <td>19900.0</td>\n",
       "      <td>16.0</td>\n",
       "      <td>16.0</td>\n",
       "      <td>NaN</td>\n",
       "      <td>LINIERS</td>\n",
       "    </tr>\n",
       "    <tr>\n",
       "      <th>8310</th>\n",
       "      <td>2018-03-25</td>\n",
       "      <td>departamento</td>\n",
       "      <td>-34.612309</td>\n",
       "      <td>-58.412878</td>\n",
       "      <td>54000.0</td>\n",
       "      <td>25.0</td>\n",
       "      <td>25.0</td>\n",
       "      <td>1.0</td>\n",
       "      <td>BALVANERA</td>\n",
       "    </tr>\n",
       "  </tbody>\n",
       "</table>\n",
       "</div>"
      ],
      "text/plain": [
       "            fecha          tipo        lat        lon   precio  \\\n",
       "19442  2018-03-18  departamento -34.638511 -58.504406  73000.0   \n",
       "12244  2018-01-25         local -34.560463 -58.458433  32000.0   \n",
       "17056  2018-04-21         local -34.597679 -58.443019  11111.0   \n",
       "23255  2018-04-19         local -34.638658 -58.528026  19900.0   \n",
       "8310   2018-03-25  departamento -34.612309 -58.412878  54000.0   \n",
       "\n",
       "       superficie_total  superficie_cubierta  ambientes        barrio  \n",
       "19442              29.0                 26.0        1.0    VILLA LURO  \n",
       "12244              30.0                 30.0        1.0      BELGRANO  \n",
       "17056             200.0                200.0        NaN  VILLA CRESPO  \n",
       "23255              16.0                 16.0        NaN       LINIERS  \n",
       "8310               25.0                 25.0        1.0     BALVANERA  "
      ]
     },
     "execution_count": 34,
     "metadata": {},
     "output_type": "execute_result"
    }
   ],
   "source": [
    "# seleccionar las propiedades con precio menor a $80.000\n",
    "df[df.precio < 80000].head()"
   ]
  },
  {
   "cell_type": "markdown",
   "metadata": {},
   "source": [
    "**IMPORTANTE**: Por una cuestión de precedencia de operadores, de querer combinar máscaras usando operaciones *bitwise*, si las máscaras son creadas usando operadores de comparación, deben ser encerradas entre paréntesis. Esto es porque Python resuelve antes los operadores como `&` y `|` que los operadores como `<` e `==`; usamos los paréntesis para indicarle a Python el orden de evaluación pretendido: primero las comparaciones, luego las operaciones *bitwise*. Como en matemáticas, lo que está dentro de paréntesis debe resolverse primero (tiene precedencia) sobre lo que está afuera."
   ]
  },
  {
   "cell_type": "code",
   "execution_count": 38,
   "metadata": {},
   "outputs": [
    {
     "data": {
      "text/html": [
       "<div>\n",
       "<style scoped>\n",
       "    .dataframe tbody tr th:only-of-type {\n",
       "        vertical-align: middle;\n",
       "    }\n",
       "\n",
       "    .dataframe tbody tr th {\n",
       "        vertical-align: top;\n",
       "    }\n",
       "\n",
       "    .dataframe thead th {\n",
       "        text-align: right;\n",
       "    }\n",
       "</style>\n",
       "<table border=\"1\" class=\"dataframe\">\n",
       "  <thead>\n",
       "    <tr style=\"text-align: right;\">\n",
       "      <th></th>\n",
       "      <th>fecha</th>\n",
       "      <th>tipo</th>\n",
       "      <th>lat</th>\n",
       "      <th>lon</th>\n",
       "      <th>precio</th>\n",
       "      <th>superficie_total</th>\n",
       "      <th>superficie_cubierta</th>\n",
       "      <th>ambientes</th>\n",
       "      <th>barrio</th>\n",
       "    </tr>\n",
       "  </thead>\n",
       "  <tbody>\n",
       "    <tr>\n",
       "      <th>20333</th>\n",
       "      <td>2018-04-28</td>\n",
       "      <td>departamento</td>\n",
       "      <td>-34.629577</td>\n",
       "      <td>-58.398071</td>\n",
       "      <td>78000.0</td>\n",
       "      <td>57.0</td>\n",
       "      <td>50.0</td>\n",
       "      <td>3.0</td>\n",
       "      <td>PARQUE PATRICIOS</td>\n",
       "    </tr>\n",
       "    <tr>\n",
       "      <th>7070</th>\n",
       "      <td>2018-04-20</td>\n",
       "      <td>departamento</td>\n",
       "      <td>-34.652157</td>\n",
       "      <td>-58.459236</td>\n",
       "      <td>70000.0</td>\n",
       "      <td>60.0</td>\n",
       "      <td>NaN</td>\n",
       "      <td>3.0</td>\n",
       "      <td>FLORES</td>\n",
       "    </tr>\n",
       "    <tr>\n",
       "      <th>19714</th>\n",
       "      <td>2018-03-09</td>\n",
       "      <td>departamento</td>\n",
       "      <td>-34.686170</td>\n",
       "      <td>-58.466922</td>\n",
       "      <td>77000.0</td>\n",
       "      <td>70.0</td>\n",
       "      <td>62.0</td>\n",
       "      <td>3.0</td>\n",
       "      <td>VILLA LUGANO</td>\n",
       "    </tr>\n",
       "    <tr>\n",
       "      <th>7558</th>\n",
       "      <td>2017-12-06</td>\n",
       "      <td>departamento</td>\n",
       "      <td>-34.612801</td>\n",
       "      <td>-58.406688</td>\n",
       "      <td>78000.0</td>\n",
       "      <td>44.0</td>\n",
       "      <td>44.0</td>\n",
       "      <td>3.0</td>\n",
       "      <td>BALVANERA</td>\n",
       "    </tr>\n",
       "    <tr>\n",
       "      <th>24243</th>\n",
       "      <td>2018-01-08</td>\n",
       "      <td>departamento</td>\n",
       "      <td>-34.668741</td>\n",
       "      <td>-58.443146</td>\n",
       "      <td>52000.0</td>\n",
       "      <td>55.0</td>\n",
       "      <td>55.0</td>\n",
       "      <td>3.0</td>\n",
       "      <td>VILLA SOLDATI</td>\n",
       "    </tr>\n",
       "  </tbody>\n",
       "</table>\n",
       "</div>"
      ],
      "text/plain": [
       "            fecha          tipo        lat        lon   precio  \\\n",
       "20333  2018-04-28  departamento -34.629577 -58.398071  78000.0   \n",
       "7070   2018-04-20  departamento -34.652157 -58.459236  70000.0   \n",
       "19714  2018-03-09  departamento -34.686170 -58.466922  77000.0   \n",
       "7558   2017-12-06  departamento -34.612801 -58.406688  78000.0   \n",
       "24243  2018-01-08  departamento -34.668741 -58.443146  52000.0   \n",
       "\n",
       "       superficie_total  superficie_cubierta  ambientes            barrio  \n",
       "20333              57.0                 50.0        3.0  PARQUE PATRICIOS  \n",
       "7070               60.0                  NaN        3.0            FLORES  \n",
       "19714              70.0                 62.0        3.0      VILLA LUGANO  \n",
       "7558               44.0                 44.0        3.0         BALVANERA  \n",
       "24243              55.0                 55.0        3.0     VILLA SOLDATI  "
      ]
     },
     "execution_count": 38,
     "metadata": {},
     "output_type": "execute_result"
    }
   ],
   "source": [
    "df[(df.precio < 80000) & (df.ambientes == 3)].head()"
   ]
  },
  {
   "cell_type": "code",
   "execution_count": 40,
   "metadata": {},
   "outputs": [
    {
     "data": {
      "text/html": [
       "<div>\n",
       "<style scoped>\n",
       "    .dataframe tbody tr th:only-of-type {\n",
       "        vertical-align: middle;\n",
       "    }\n",
       "\n",
       "    .dataframe tbody tr th {\n",
       "        vertical-align: top;\n",
       "    }\n",
       "\n",
       "    .dataframe thead th {\n",
       "        text-align: right;\n",
       "    }\n",
       "</style>\n",
       "<table border=\"1\" class=\"dataframe\">\n",
       "  <thead>\n",
       "    <tr style=\"text-align: right;\">\n",
       "      <th></th>\n",
       "      <th>fecha</th>\n",
       "      <th>tipo</th>\n",
       "      <th>lat</th>\n",
       "      <th>lon</th>\n",
       "      <th>precio</th>\n",
       "      <th>superficie_total</th>\n",
       "      <th>superficie_cubierta</th>\n",
       "      <th>ambientes</th>\n",
       "      <th>barrio</th>\n",
       "    </tr>\n",
       "  </thead>\n",
       "  <tbody>\n",
       "    <tr>\n",
       "      <th>20333</th>\n",
       "      <td>2018-04-28</td>\n",
       "      <td>departamento</td>\n",
       "      <td>-34.629577</td>\n",
       "      <td>-58.398071</td>\n",
       "      <td>78000.0</td>\n",
       "      <td>57.0</td>\n",
       "      <td>50.0</td>\n",
       "      <td>3.0</td>\n",
       "      <td>PARQUE PATRICIOS</td>\n",
       "    </tr>\n",
       "    <tr>\n",
       "      <th>7070</th>\n",
       "      <td>2018-04-20</td>\n",
       "      <td>departamento</td>\n",
       "      <td>-34.652157</td>\n",
       "      <td>-58.459236</td>\n",
       "      <td>70000.0</td>\n",
       "      <td>60.0</td>\n",
       "      <td>NaN</td>\n",
       "      <td>3.0</td>\n",
       "      <td>FLORES</td>\n",
       "    </tr>\n",
       "    <tr>\n",
       "      <th>19714</th>\n",
       "      <td>2018-03-09</td>\n",
       "      <td>departamento</td>\n",
       "      <td>-34.686170</td>\n",
       "      <td>-58.466922</td>\n",
       "      <td>77000.0</td>\n",
       "      <td>70.0</td>\n",
       "      <td>62.0</td>\n",
       "      <td>3.0</td>\n",
       "      <td>VILLA LUGANO</td>\n",
       "    </tr>\n",
       "    <tr>\n",
       "      <th>7558</th>\n",
       "      <td>2017-12-06</td>\n",
       "      <td>departamento</td>\n",
       "      <td>-34.612801</td>\n",
       "      <td>-58.406688</td>\n",
       "      <td>78000.0</td>\n",
       "      <td>44.0</td>\n",
       "      <td>44.0</td>\n",
       "      <td>3.0</td>\n",
       "      <td>BALVANERA</td>\n",
       "    </tr>\n",
       "    <tr>\n",
       "      <th>24243</th>\n",
       "      <td>2018-01-08</td>\n",
       "      <td>departamento</td>\n",
       "      <td>-34.668741</td>\n",
       "      <td>-58.443146</td>\n",
       "      <td>52000.0</td>\n",
       "      <td>55.0</td>\n",
       "      <td>55.0</td>\n",
       "      <td>3.0</td>\n",
       "      <td>VILLA SOLDATI</td>\n",
       "    </tr>\n",
       "  </tbody>\n",
       "</table>\n",
       "</div>"
      ],
      "text/plain": [
       "            fecha          tipo        lat        lon   precio  \\\n",
       "20333  2018-04-28  departamento -34.629577 -58.398071  78000.0   \n",
       "7070   2018-04-20  departamento -34.652157 -58.459236  70000.0   \n",
       "19714  2018-03-09  departamento -34.686170 -58.466922  77000.0   \n",
       "7558   2017-12-06  departamento -34.612801 -58.406688  78000.0   \n",
       "24243  2018-01-08  departamento -34.668741 -58.443146  52000.0   \n",
       "\n",
       "       superficie_total  superficie_cubierta  ambientes            barrio  \n",
       "20333              57.0                 50.0        3.0  PARQUE PATRICIOS  \n",
       "7070               60.0                  NaN        3.0            FLORES  \n",
       "19714              70.0                 62.0        3.0      VILLA LUGANO  \n",
       "7558               44.0                 44.0        3.0         BALVANERA  \n",
       "24243              55.0                 55.0        3.0     VILLA SOLDATI  "
      ]
     },
     "execution_count": 40,
     "metadata": {},
     "output_type": "execute_result"
    }
   ],
   "source": [
    "# en vez de operadores de comparación podemos usar sus métodos equivalentes y ahorrarnos los problemas de precedencia\n",
    "df[df.precio.lt(80000) & df.ambientes.eq(3)].head()"
   ]
  },
  {
   "cell_type": "markdown",
   "metadata": {},
   "source": [
    "## Alineamiento automático\n",
    "\n",
    "En casos en los que intervengan más de una tabla o columna, como cuando queremos añadir una columna nueva a una tabla, podríamos pensar en cuidar aspectos como que la columna tenga el mismo largo que la tabla y que el orden de los elementos en la nueva columna se condiga con el orden de las filas de la tabla. Esto normalmente es así al trabajar con arreglos de NumPy.\n",
    "\n",
    "Afortunadamente nada de esto debe preocuparnos al usar Pandas. Los índices cumplen una función de gran utilidad en las operaciones y en las asignaciones, donde les elementos son alianeados según sus índices para que todo salga como lo esperamos."
   ]
  },
  {
   "cell_type": "markdown",
   "metadata": {},
   "source": [
    "### Operaciones"
   ]
  },
  {
   "cell_type": "code",
   "execution_count": 82,
   "metadata": {},
   "outputs": [
    {
     "data": {
      "text/plain": [
       "kiwi       🥝\n",
       "coco       🥥\n",
       "uva        🍇\n",
       "banana     🍌\n",
       "manzana    🍎\n",
       "dtype: object"
      ]
     },
     "execution_count": 82,
     "metadata": {},
     "output_type": "execute_result"
    }
   ],
   "source": [
    "algunas_frutas = pd.Series(['🥝', '🥥', '🍇', '🍌', '🍎'])\n",
    "\n",
    "algunas_frutas.index = ['kiwi', 'coco', 'uva', 'banana', 'manzana']\n",
    "\n",
    "algunas_frutas"
   ]
  },
  {
   "cell_type": "code",
   "execution_count": 86,
   "metadata": {},
   "outputs": [
    {
     "data": {
      "text/plain": [
       "uva        🍇\n",
       "pera       🍐\n",
       "manzana    🍎\n",
       "dtype: object"
      ]
     },
     "execution_count": 86,
     "metadata": {},
     "output_type": "execute_result"
    }
   ],
   "source": [
    "otras_frutas = pd.Series(['🍇', '🍐', '🍎'])\n",
    "\n",
    "otras_frutas.index = ['uva', 'pera', 'manzana']\n",
    "\n",
    "otras_frutas"
   ]
  },
  {
   "cell_type": "code",
   "execution_count": 99,
   "metadata": {},
   "outputs": [
    {
     "data": {
      "text/plain": [
       "banana     NaN\n",
       "coco       NaN\n",
       "kiwi       NaN\n",
       "manzana     🍎🍎\n",
       "pera       NaN\n",
       "uva         🍇🍇\n",
       "dtype: object"
      ]
     },
     "execution_count": 99,
     "metadata": {},
     "output_type": "execute_result"
    }
   ],
   "source": [
    "# operación suma entre dos Series que no tienen el mismo largo ni coinciden en todas las etiquetas\n",
    "algunas_frutas + otras_frutas"
   ]
  },
  {
   "cell_type": "markdown",
   "metadata": {},
   "source": [
    "El índice de la `Series` resultante tiene todas las etiquetas de ambos operandos, con los valores resultantes de la operación. Notar que los elementos no estaban alineados.\n",
    "\n",
    "**Nota**: Cuando alguno de los operandos es `NaN` el resultado de la operación es `NaN`."
   ]
  },
  {
   "cell_type": "markdown",
   "metadata": {},
   "source": [
    "### Asignación"
   ]
  },
  {
   "cell_type": "code",
   "execution_count": 97,
   "metadata": {},
   "outputs": [
    {
     "data": {
      "text/html": [
       "<div>\n",
       "<style scoped>\n",
       "    .dataframe tbody tr th:only-of-type {\n",
       "        vertical-align: middle;\n",
       "    }\n",
       "\n",
       "    .dataframe tbody tr th {\n",
       "        vertical-align: top;\n",
       "    }\n",
       "\n",
       "    .dataframe thead th {\n",
       "        text-align: right;\n",
       "    }\n",
       "</style>\n",
       "<table border=\"1\" class=\"dataframe\">\n",
       "  <thead>\n",
       "    <tr style=\"text-align: right;\">\n",
       "      <th></th>\n",
       "      <th>algunas</th>\n",
       "    </tr>\n",
       "  </thead>\n",
       "  <tbody>\n",
       "    <tr>\n",
       "      <th>kiwi</th>\n",
       "      <td>🥝</td>\n",
       "    </tr>\n",
       "    <tr>\n",
       "      <th>coco</th>\n",
       "      <td>🥥</td>\n",
       "    </tr>\n",
       "    <tr>\n",
       "      <th>uva</th>\n",
       "      <td>🍇</td>\n",
       "    </tr>\n",
       "    <tr>\n",
       "      <th>banana</th>\n",
       "      <td>🍌</td>\n",
       "    </tr>\n",
       "    <tr>\n",
       "      <th>manzana</th>\n",
       "      <td>🍎</td>\n",
       "    </tr>\n",
       "  </tbody>\n",
       "</table>\n",
       "</div>"
      ],
      "text/plain": [
       "        algunas\n",
       "kiwi          🥝\n",
       "coco          🥥\n",
       "uva           🍇\n",
       "banana        🍌\n",
       "manzana       🍎"
      ]
     },
     "execution_count": 97,
     "metadata": {},
     "output_type": "execute_result"
    }
   ],
   "source": [
    "# convertimos a una Series en un DataFrame de una columna y nombramos a esa columna\n",
    "df = algunas_frutas.to_frame(name='algunas')\n",
    "\n",
    "df"
   ]
  },
  {
   "cell_type": "code",
   "execution_count": 98,
   "metadata": {},
   "outputs": [
    {
     "data": {
      "text/html": [
       "<div>\n",
       "<style scoped>\n",
       "    .dataframe tbody tr th:only-of-type {\n",
       "        vertical-align: middle;\n",
       "    }\n",
       "\n",
       "    .dataframe tbody tr th {\n",
       "        vertical-align: top;\n",
       "    }\n",
       "\n",
       "    .dataframe thead th {\n",
       "        text-align: right;\n",
       "    }\n",
       "</style>\n",
       "<table border=\"1\" class=\"dataframe\">\n",
       "  <thead>\n",
       "    <tr style=\"text-align: right;\">\n",
       "      <th></th>\n",
       "      <th>algunas</th>\n",
       "      <th>otras</th>\n",
       "    </tr>\n",
       "  </thead>\n",
       "  <tbody>\n",
       "    <tr>\n",
       "      <th>kiwi</th>\n",
       "      <td>🥝</td>\n",
       "      <td>NaN</td>\n",
       "    </tr>\n",
       "    <tr>\n",
       "      <th>coco</th>\n",
       "      <td>🥥</td>\n",
       "      <td>NaN</td>\n",
       "    </tr>\n",
       "    <tr>\n",
       "      <th>uva</th>\n",
       "      <td>🍇</td>\n",
       "      <td>🍇</td>\n",
       "    </tr>\n",
       "    <tr>\n",
       "      <th>banana</th>\n",
       "      <td>🍌</td>\n",
       "      <td>NaN</td>\n",
       "    </tr>\n",
       "    <tr>\n",
       "      <th>manzana</th>\n",
       "      <td>🍎</td>\n",
       "      <td>🍎</td>\n",
       "    </tr>\n",
       "  </tbody>\n",
       "</table>\n",
       "</div>"
      ],
      "text/plain": [
       "        algunas otras\n",
       "kiwi          🥝   NaN\n",
       "coco          🥥   NaN\n",
       "uva           🍇     🍇\n",
       "banana        🍌   NaN\n",
       "manzana       🍎     🍎"
      ]
     },
     "execution_count": 98,
     "metadata": {},
     "output_type": "execute_result"
    }
   ],
   "source": [
    "df['otras'] = otras_frutas\n",
    "\n",
    "df"
   ]
  },
  {
   "cell_type": "markdown",
   "metadata": {},
   "source": [
    "Se respeta el índice de la tabla, es decir no se le agregan las etiquetas que `otras_frutas` tiene de más. Los valores se asignan alineados y los valores con etiquetas no presentes en `otras_frutas` quedan ausentes en la nueva columna."
   ]
  },
  {
   "cell_type": "markdown",
   "metadata": {},
   "source": [
    "### Máscaras\n",
    "\n",
    "La alineación automática funciona aún en el indexado, siempre y cuando la máscara sea una `Series` y su índice coincida con el del objeto sobre el cual se indexa, lo que suele ser el caso cuando trabajamos con las columnas del `DataFrame`. Lo que veremos a continuación no funcionaría con una máscara que sea un arreglo de NumPy ya que carece de índice."
   ]
  },
  {
   "cell_type": "code",
   "execution_count": 46,
   "metadata": {},
   "outputs": [
    {
     "data": {
      "text/plain": [
       "19411    False\n",
       "17819    False\n",
       "14611     True\n",
       "22362     True\n",
       "16962     True\n",
       "Name: ambientes, dtype: bool"
      ]
     },
     "execution_count": 46,
     "metadata": {},
     "output_type": "execute_result"
    }
   ],
   "source": [
    "# seleccionamos propiedades de dos ambientes\n",
    "máscara = df.ambientes.eq(2)\n",
    "\n",
    "máscara.head()"
   ]
  },
  {
   "cell_type": "code",
   "execution_count": 52,
   "metadata": {},
   "outputs": [
    {
     "data": {
      "text/html": [
       "<div>\n",
       "<style scoped>\n",
       "    .dataframe tbody tr th:only-of-type {\n",
       "        vertical-align: middle;\n",
       "    }\n",
       "\n",
       "    .dataframe tbody tr th {\n",
       "        vertical-align: top;\n",
       "    }\n",
       "\n",
       "    .dataframe thead th {\n",
       "        text-align: right;\n",
       "    }\n",
       "</style>\n",
       "<table border=\"1\" class=\"dataframe\">\n",
       "  <thead>\n",
       "    <tr style=\"text-align: right;\">\n",
       "      <th></th>\n",
       "      <th>fecha</th>\n",
       "      <th>tipo</th>\n",
       "      <th>lat</th>\n",
       "      <th>lon</th>\n",
       "      <th>precio</th>\n",
       "      <th>superficie_total</th>\n",
       "      <th>superficie_cubierta</th>\n",
       "      <th>ambientes</th>\n",
       "      <th>barrio</th>\n",
       "    </tr>\n",
       "  </thead>\n",
       "  <tbody>\n",
       "    <tr>\n",
       "      <th>14611</th>\n",
       "      <td>2018-02-07</td>\n",
       "      <td>departamento</td>\n",
       "      <td>-34.573595</td>\n",
       "      <td>-58.442591</td>\n",
       "      <td>194150.0</td>\n",
       "      <td>58.0</td>\n",
       "      <td>48.0</td>\n",
       "      <td>2.0</td>\n",
       "      <td>COLEGIALES</td>\n",
       "    </tr>\n",
       "    <tr>\n",
       "      <th>22362</th>\n",
       "      <td>2018-02-20</td>\n",
       "      <td>casa</td>\n",
       "      <td>-34.611046</td>\n",
       "      <td>-58.503044</td>\n",
       "      <td>245000.0</td>\n",
       "      <td>112.0</td>\n",
       "      <td>112.0</td>\n",
       "      <td>2.0</td>\n",
       "      <td>VILLA DEVOTO</td>\n",
       "    </tr>\n",
       "    <tr>\n",
       "      <th>16962</th>\n",
       "      <td>2018-04-11</td>\n",
       "      <td>departamento</td>\n",
       "      <td>-34.605809</td>\n",
       "      <td>-58.453481</td>\n",
       "      <td>142900.0</td>\n",
       "      <td>47.0</td>\n",
       "      <td>40.0</td>\n",
       "      <td>2.0</td>\n",
       "      <td>VILLA CRESPO</td>\n",
       "    </tr>\n",
       "    <tr>\n",
       "      <th>15399</th>\n",
       "      <td>2018-03-27</td>\n",
       "      <td>departamento</td>\n",
       "      <td>-34.577253</td>\n",
       "      <td>-58.497460</td>\n",
       "      <td>150392.0</td>\n",
       "      <td>53.0</td>\n",
       "      <td>46.0</td>\n",
       "      <td>2.0</td>\n",
       "      <td>VILLA URQUIZA</td>\n",
       "    </tr>\n",
       "    <tr>\n",
       "      <th>283</th>\n",
       "      <td>2017-11-21</td>\n",
       "      <td>departamento</td>\n",
       "      <td>-34.540443</td>\n",
       "      <td>-58.473773</td>\n",
       "      <td>213500.0</td>\n",
       "      <td>48.0</td>\n",
       "      <td>44.0</td>\n",
       "      <td>2.0</td>\n",
       "      <td>NUÑEZ</td>\n",
       "    </tr>\n",
       "  </tbody>\n",
       "</table>\n",
       "</div>"
      ],
      "text/plain": [
       "            fecha          tipo        lat        lon    precio  \\\n",
       "14611  2018-02-07  departamento -34.573595 -58.442591  194150.0   \n",
       "22362  2018-02-20          casa -34.611046 -58.503044  245000.0   \n",
       "16962  2018-04-11  departamento -34.605809 -58.453481  142900.0   \n",
       "15399  2018-03-27  departamento -34.577253 -58.497460  150392.0   \n",
       "283    2017-11-21  departamento -34.540443 -58.473773  213500.0   \n",
       "\n",
       "       superficie_total  superficie_cubierta  ambientes         barrio  \n",
       "14611              58.0                 48.0        2.0     COLEGIALES  \n",
       "22362             112.0                112.0        2.0   VILLA DEVOTO  \n",
       "16962              47.0                 40.0        2.0   VILLA CRESPO  \n",
       "15399              53.0                 46.0        2.0  VILLA URQUIZA  \n",
       "283                48.0                 44.0        2.0          NUÑEZ  "
      ]
     },
     "execution_count": 52,
     "metadata": {},
     "output_type": "execute_result"
    }
   ],
   "source": [
    "# dejamos un testimonio del resultado\n",
    "df[máscara].head()"
   ]
  },
  {
   "cell_type": "code",
   "execution_count": 54,
   "metadata": {},
   "outputs": [
    {
     "data": {
      "text/plain": [
       "23654     True\n",
       "15795    False\n",
       "860      False\n",
       "5390     False\n",
       "21575    False\n",
       "Name: ambientes, dtype: bool"
      ]
     },
     "execution_count": 54,
     "metadata": {},
     "output_type": "execute_result"
    }
   ],
   "source": [
    "# reordenamos la Series de atrás para adelante, lo que se conoce como revertir (reverse)\n",
    "# (no hace falta entender esta línea en este momento)\n",
    "al_revés = máscara[::-1]\n",
    "\n",
    "# el orden de esta máscara es diferente al de la anterior\n",
    "al_revés.head()"
   ]
  },
  {
   "cell_type": "code",
   "execution_count": 55,
   "metadata": {},
   "outputs": [
    {
     "name": "stderr",
     "output_type": "stream",
     "text": [
      "/home/matias/jupyterhub/lib/python3.7/site-packages/ipykernel_launcher.py:1: UserWarning: Boolean Series key will be reindexed to match DataFrame index.\n",
      "  \"\"\"Entry point for launching an IPython kernel.\n"
     ]
    },
    {
     "data": {
      "text/html": [
       "<div>\n",
       "<style scoped>\n",
       "    .dataframe tbody tr th:only-of-type {\n",
       "        vertical-align: middle;\n",
       "    }\n",
       "\n",
       "    .dataframe tbody tr th {\n",
       "        vertical-align: top;\n",
       "    }\n",
       "\n",
       "    .dataframe thead th {\n",
       "        text-align: right;\n",
       "    }\n",
       "</style>\n",
       "<table border=\"1\" class=\"dataframe\">\n",
       "  <thead>\n",
       "    <tr style=\"text-align: right;\">\n",
       "      <th></th>\n",
       "      <th>fecha</th>\n",
       "      <th>tipo</th>\n",
       "      <th>lat</th>\n",
       "      <th>lon</th>\n",
       "      <th>precio</th>\n",
       "      <th>superficie_total</th>\n",
       "      <th>superficie_cubierta</th>\n",
       "      <th>ambientes</th>\n",
       "      <th>barrio</th>\n",
       "    </tr>\n",
       "  </thead>\n",
       "  <tbody>\n",
       "    <tr>\n",
       "      <th>14611</th>\n",
       "      <td>2018-02-07</td>\n",
       "      <td>departamento</td>\n",
       "      <td>-34.573595</td>\n",
       "      <td>-58.442591</td>\n",
       "      <td>194150.0</td>\n",
       "      <td>58.0</td>\n",
       "      <td>48.0</td>\n",
       "      <td>2.0</td>\n",
       "      <td>COLEGIALES</td>\n",
       "    </tr>\n",
       "    <tr>\n",
       "      <th>22362</th>\n",
       "      <td>2018-02-20</td>\n",
       "      <td>casa</td>\n",
       "      <td>-34.611046</td>\n",
       "      <td>-58.503044</td>\n",
       "      <td>245000.0</td>\n",
       "      <td>112.0</td>\n",
       "      <td>112.0</td>\n",
       "      <td>2.0</td>\n",
       "      <td>VILLA DEVOTO</td>\n",
       "    </tr>\n",
       "    <tr>\n",
       "      <th>16962</th>\n",
       "      <td>2018-04-11</td>\n",
       "      <td>departamento</td>\n",
       "      <td>-34.605809</td>\n",
       "      <td>-58.453481</td>\n",
       "      <td>142900.0</td>\n",
       "      <td>47.0</td>\n",
       "      <td>40.0</td>\n",
       "      <td>2.0</td>\n",
       "      <td>VILLA CRESPO</td>\n",
       "    </tr>\n",
       "    <tr>\n",
       "      <th>15399</th>\n",
       "      <td>2018-03-27</td>\n",
       "      <td>departamento</td>\n",
       "      <td>-34.577253</td>\n",
       "      <td>-58.497460</td>\n",
       "      <td>150392.0</td>\n",
       "      <td>53.0</td>\n",
       "      <td>46.0</td>\n",
       "      <td>2.0</td>\n",
       "      <td>VILLA URQUIZA</td>\n",
       "    </tr>\n",
       "    <tr>\n",
       "      <th>283</th>\n",
       "      <td>2017-11-21</td>\n",
       "      <td>departamento</td>\n",
       "      <td>-34.540443</td>\n",
       "      <td>-58.473773</td>\n",
       "      <td>213500.0</td>\n",
       "      <td>48.0</td>\n",
       "      <td>44.0</td>\n",
       "      <td>2.0</td>\n",
       "      <td>NUÑEZ</td>\n",
       "    </tr>\n",
       "  </tbody>\n",
       "</table>\n",
       "</div>"
      ],
      "text/plain": [
       "            fecha          tipo        lat        lon    precio  \\\n",
       "14611  2018-02-07  departamento -34.573595 -58.442591  194150.0   \n",
       "22362  2018-02-20          casa -34.611046 -58.503044  245000.0   \n",
       "16962  2018-04-11  departamento -34.605809 -58.453481  142900.0   \n",
       "15399  2018-03-27  departamento -34.577253 -58.497460  150392.0   \n",
       "283    2017-11-21  departamento -34.540443 -58.473773  213500.0   \n",
       "\n",
       "       superficie_total  superficie_cubierta  ambientes         barrio  \n",
       "14611              58.0                 48.0        2.0     COLEGIALES  \n",
       "22362             112.0                112.0        2.0   VILLA DEVOTO  \n",
       "16962              47.0                 40.0        2.0   VILLA CRESPO  \n",
       "15399              53.0                 46.0        2.0  VILLA URQUIZA  \n",
       "283                48.0                 44.0        2.0          NUÑEZ  "
      ]
     },
     "execution_count": 55,
     "metadata": {},
     "output_type": "execute_result"
    }
   ],
   "source": [
    "# corroboramos que el resultado es el mismo\n",
    "df[al_revés].head()"
   ]
  },
  {
   "cell_type": "markdown",
   "metadata": {},
   "source": [
    "**Nota**: Que el indexado haga uso de las etiquetas de la máscara es la razón por la cuál las máscaras funcionan en el indexado por etiquetas (`loc`) y no en el indexado por posición (`loc`)."
   ]
  },
  {
   "cell_type": "markdown",
   "metadata": {},
   "source": [
    "## Ejemplo integrador\n",
    "\n",
    "El siguiente ejemplo asigna a aquellos avisos que carecen de superficie cubierta, su superficie total."
   ]
  },
  {
   "cell_type": "code",
   "execution_count": 24,
   "metadata": {},
   "outputs": [],
   "source": [
    "df.loc[df.superficie_cubierta.isnull(), 'superficie_cubierta'] = df.superficie_total"
   ]
  },
  {
   "cell_type": "markdown",
   "metadata": {},
   "source": [
    "1. `loc` para indexar por filas y columnas; necesitamos indexar por etiquetas para hacer referencia a la columna sobre la cual hacer la asignación por su nombre.\n",
    "2. Creamos una máscara usando la columna superficie_cubierta y la operación vectorizada `isnull`, que servirá para seleccionar aquellas filas en las que superficie_cubierta es `NaN`.\n",
    "3. Asignamos los valores presentes en la columna superficie_total y no nos preocupamos por hacer una selección (como la del punto anterior) sobre estos valores ya que la alineación automática se encargará de alinear las filas de ambos lados de la asignación por su etiqueta."
   ]
  },
  {
   "cell_type": "markdown",
   "metadata": {},
   "source": [
    "## Visualización básica\n",
    "\n",
    "Ver más: http://pandas.pydata.org/pandas-docs/stable/visualization.html"
   ]
  },
  {
   "cell_type": "code",
   "execution_count": 3,
   "metadata": {},
   "outputs": [],
   "source": [
    "# activar gráficos en Jupyter; hace falta correrlo una vez\n",
    "%matplotlib inline"
   ]
  },
  {
   "cell_type": "markdown",
   "metadata": {},
   "source": [
    "Tanto `Series` como `DataFrame`s tienen un atributo llamado `plot` que habilita los siguientes métodos para distintos gráficos típicos.\n",
    "\n",
    "* `line` y `area` para líneas y líneas sólidas.\n",
    "* `bar` y `barh` para barras verticales y horizontales.\n",
    "* `pie` para tortas.\n",
    "* `scatter` para puntos.\n",
    "* `hist` y `hexbin` para histogramas e histogramas 2D.\n",
    "* `density` o `kde` para densidad de probabilidad.\n",
    "* `box` para *boxplot*.\n",
    "\n",
    "**IMPORTANTE**: Cuando graficamos en base a un `DataFrame`, cada columna se interpreta como una variable."
   ]
  },
  {
   "cell_type": "code",
   "execution_count": 8,
   "metadata": {},
   "outputs": [
    {
     "data": {
      "text/plain": [
       "<matplotlib.axes._subplots.AxesSubplot at 0x7f078dc82828>"
      ]
     },
     "execution_count": 8,
     "metadata": {},
     "output_type": "execute_result"
    },
    {
     "data": {
      "image/png": "[encoded data removed]",
      "text/plain": [
       "<Figure size 432x288 with 1 Axes>"
      ]
     },
     "metadata": {
      "needs_background": "light"
     },
     "output_type": "display_data"
    }
   ],
   "source": [
    "df.precio.plot.hist(bins=1000, xlim=(0,500000))"
   ]
  },
  {
   "cell_type": "markdown",
   "metadata": {},
   "source": [
    "## Actividad de investigación\n",
    "\n",
    "Consultar la ayuda o la web para saber más de los métodos que se encuentran a continuación. Por ejemplo:"
   ]
  },
  {
   "cell_type": "code",
   "execution_count": 188,
   "metadata": {
    "scrolled": true
   },
   "outputs": [
    {
     "name": "stdout",
     "output_type": "stream",
     "text": [
      "Help on function sort_values in module pandas.core.frame:\n",
      "\n",
      "sort_values(self, by, axis=0, ascending=True, inplace=False, kind='quicksort', na_position='last')\n",
      "    Sort by the values along either axis\n",
      "    \n",
      "    Parameters\n",
      "    ----------\n",
      "    by : str or list of str\n",
      "        Name or list of names to sort by.\n",
      "    \n",
      "        - if `axis` is 0 or `'index'` then `by` may contain index\n",
      "          levels and/or column labels\n",
      "        - if `axis` is 1 or `'columns'` then `by` may contain column\n",
      "          levels and/or index labels\n",
      "    \n",
      "        .. versionchanged:: 0.23.0\n",
      "           Allow specifying index or column level names.\n",
      "    axis : {0 or 'index', 1 or 'columns'}, default 0\n",
      "         Axis to be sorted\n",
      "    ascending : bool or list of bool, default True\n",
      "         Sort ascending vs. descending. Specify list for multiple sort\n",
      "         orders.  If this is a list of bools, must match the length of\n",
      "         the by.\n",
      "    inplace : bool, default False\n",
      "         if True, perform operation in-place\n",
      "    kind : {'quicksort', 'mergesort', 'heapsort'}, default 'quicksort'\n",
      "         Choice of sorting algorithm. See also ndarray.np.sort for more\n",
      "         information.  `mergesort` is the only stable algorithm. For\n",
      "         DataFrames, this option is only applied when sorting on a single\n",
      "         column or label.\n",
      "    na_position : {'first', 'last'}, default 'last'\n",
      "         `first` puts NaNs at the beginning, `last` puts NaNs at the end\n",
      "    \n",
      "    Returns\n",
      "    -------\n",
      "    sorted_obj : DataFrame\n",
      "    \n",
      "    Examples\n",
      "    --------\n",
      "    >>> df = pd.DataFrame({\n",
      "    ...     'col1' : ['A', 'A', 'B', np.nan, 'D', 'C'],\n",
      "    ...     'col2' : [2, 1, 9, 8, 7, 4],\n",
      "    ...     'col3': [0, 1, 9, 4, 2, 3],\n",
      "    ... })\n",
      "    >>> df\n",
      "        col1 col2 col3\n",
      "    0   A    2    0\n",
      "    1   A    1    1\n",
      "    2   B    9    9\n",
      "    3   NaN  8    4\n",
      "    4   D    7    2\n",
      "    5   C    4    3\n",
      "    \n",
      "    Sort by col1\n",
      "    \n",
      "    >>> df.sort_values(by=['col1'])\n",
      "        col1 col2 col3\n",
      "    0   A    2    0\n",
      "    1   A    1    1\n",
      "    2   B    9    9\n",
      "    5   C    4    3\n",
      "    4   D    7    2\n",
      "    3   NaN  8    4\n",
      "    \n",
      "    Sort by multiple columns\n",
      "    \n",
      "    >>> df.sort_values(by=['col1', 'col2'])\n",
      "        col1 col2 col3\n",
      "    1   A    1    1\n",
      "    0   A    2    0\n",
      "    2   B    9    9\n",
      "    5   C    4    3\n",
      "    4   D    7    2\n",
      "    3   NaN  8    4\n",
      "    \n",
      "    Sort Descending\n",
      "    \n",
      "    >>> df.sort_values(by='col1', ascending=False)\n",
      "        col1 col2 col3\n",
      "    4   D    7    2\n",
      "    5   C    4    3\n",
      "    2   B    9    9\n",
      "    0   A    2    0\n",
      "    1   A    1    1\n",
      "    3   NaN  8    4\n",
      "    \n",
      "    Putting NAs first\n",
      "    \n",
      "    >>> df.sort_values(by='col1', ascending=False, na_position='first')\n",
      "        col1 col2 col3\n",
      "    3   NaN  8    4\n",
      "    4   D    7    2\n",
      "    5   C    4    3\n",
      "    2   B    9    9\n",
      "    0   A    2    0\n",
      "    1   A    1    1\n",
      "\n"
     ]
    }
   ],
   "source": [
    "help(pd.DataFrame.sort_values)"
   ]
  },
  {
   "cell_type": "markdown",
   "metadata": {},
   "source": [
    "#### Ordenar valores\n",
    "\n",
    "* sort_values\n",
    "* sort_index\n",
    "\n",
    "#### Tirar filas/columnas\n",
    "\n",
    "* drop\n",
    "* drop_duplicates\n",
    "\n",
    "#### Renombrar filas/columnas\n",
    "\n",
    "* rename\n",
    "\n",
    "#### Datos ausentes\n",
    "\n",
    "* dropna\n",
    "* fillna"
   ]
  },
  {
   "cell_type": "markdown",
   "metadata": {},
   "source": [
    "## Recursos adicionales\n",
    "\n",
    "#### Documentación\n",
    "\n",
    "* [API](https://pandas.pydata.org/pandas-docs/stable/api.html)\n",
    "\n",
    "#### Artículos\n",
    "\n",
    "* [Intro to Pandas](http://gregreda.com/2013/10/26/intro-to-pandas-data-structures/)\n",
    "* [Modern Pandas](https://tomaugspurger.github.io/modern-1-intro)\n",
    "\n",
    "#### Machetes\n",
    "\n",
    "* [DataQuest cheat sheet](https://www.dataquest.io/blog/pandas-cheat-sheet/)\n",
    "* [DataCamp cheat sheet](https://s3.amazonaws.com/assets.datacamp.com/blog_assets/PandasPythonForDataScience.pdf)\n",
    "* [Pandas cheat sheet](http://pandas.pydata.org/Pandas_Cheat_Sheet.pdf)\n",
    "\n",
    "#### Libros\n",
    "\n",
    "* [Python for data science](https://jakevdp.github.io/PythonDataScienceHandbook/)\n",
    "* Python for data analysis"
   ]
  }
 ],
 "metadata": {
  "kernelspec": {
   "display_name": "Python 3",
   "language": "python",
   "name": "python3"
  },
  "language_info": {
   "codemirror_mode": {
    "name": "ipython",
    "version": 3
   },
   "file_extension": ".py",
   "mimetype": "text/x-python",
   "name": "python",
   "nbconvert_exporter": "python",
   "pygments_lexer": "ipython3",
   "version": "3.7.1"
  }
 },
 "nbformat": 4,
 "nbformat_minor": 2
}
