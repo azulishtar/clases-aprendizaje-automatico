{
 "cells": [
  {
   "cell_type": "markdown",
   "id": "5d3c7b7c",
   "metadata": {},
   "source": [
    "![](https://raw.githubusercontent.com/matiasbattocchia/clases-aprendizaje-automatico/master/nosql/img/meli.png)\n",
    "\n",
    "# Introducción a bases de datos NoSQL 2"
   ]
  },
  {
   "cell_type": "markdown",
   "id": "a76839cc",
   "metadata": {},
   "source": [
    "## Replicación\n",
    "\n",
    "Ver más: https://docs.mongodb.com/manual/replication\n",
    "\n",
    "Un *replica set* en MongoDB es un grupo de procesos que mantienen el mismo *dataset*. Las réplicas provee redundancia y tolerancia a fallas, son la base de todos los *deploys* en producción.\n",
    "\n",
    "![](img/replica_compass.png)"
   ]
  },
  {
   "cell_type": "markdown",
   "id": "fe195156",
   "metadata": {},
   "source": [
    "### Nodo primario\n",
    "\n",
    "![](img/replica_set.svg)\n",
    "\n",
    "El **nodo primario** recibe todas las operaciones de escritura y lectura; solo puede haber uno."
   ]
  },
  {
   "cell_type": "markdown",
   "id": "dceb891a",
   "metadata": {},
   "source": [
    "### Nodos secundarios\n",
    "\n",
    "![](img/replica_secondary.svg)\n",
    "\n",
    "Los **nodos secundarios** replican las operaciones del primario en sus datasets, de tal manera de reflejarlo.\n",
    "\n",
    "Si el nodo primario no está disponible, un secundario iniciará ocupar su lugar."
   ]
  },
  {
   "cell_type": "markdown",
   "id": "40a07ef6",
   "metadata": {},
   "source": [
    "### Tolerancia a fallas\n",
    "\n",
    "![](img/replica_failover.svg)\n",
    "\n",
    "Cuando un primario no se comunica con los otros nodos dentro de un cierto periodo (10 segundos por defecto), un secundario llama a elección para nominarse como el nuevo primario.\n",
    "\n",
    "El *replica set* **no puede procesar operaciones de escritura** durante la elección."
   ]
  },
  {
   "cell_type": "markdown",
   "id": "3fdb1c79",
   "metadata": {},
   "source": [
    "### Write concern\n",
    "\n",
    "![](img/replica_concern.svg)\n",
    "\n",
    "Las operaciones de escritura requieren un **reconocimiento de persistencia**. Este reconocimiento es configurable; cuando su valor es \"mayoría\", la escritura se confirma cuando las operaciones se hayan propagado en la mayoría de los nodos."
   ]
  },
  {
   "cell_type": "markdown",
   "id": "7780a6a4",
   "metadata": {},
   "source": [
    "### Preferencia de lectura\n",
    "\n",
    "\n",
    "![](img/eventual_consistency.svg)\n",
    "\n",
    "Opcionalmente, es posible habilitar la lectura desde nodos secundarios para aumentar la capacidad de lectura.\n",
    "\n",
    "MongoDB se vuelve **eventualmente consistente**, permitiendo leer datos potencialmente desactualizados."
   ]
  },
  {
   "cell_type": "markdown",
   "id": "69c79e18",
   "metadata": {},
   "source": [
    "### Distribución geográfica\n",
    "\n",
    "![](img/replica_zones.svg)\n",
    "\n",
    "Distribuir nodos en distintos centros de datos mejora la redundancia y la tolerancia a fallas."
   ]
  },
  {
   "cell_type": "markdown",
   "id": "a0732508",
   "metadata": {},
   "source": [
    "![](img/replica_read_preference.svg)\n",
    "\n",
    "Los clientes pueden configurarse para preferir leer desde nodos secundarios para mejorar la latencia."
   ]
  },
  {
   "cell_type": "markdown",
   "id": "b69d8016",
   "metadata": {},
   "source": [
    "## Sharding\n",
    "\n",
    "Ver más: https://docs.mongodb.com/manual/sharding\n",
    "\n",
    "Sharding is a method for distributing data across multiple machines. MongoDB uses sharding to support deployments with very large data sets and high throughput operations. (Escalibilidad horizontal)."
   ]
  },
  {
   "cell_type": "markdown",
   "id": "d88f06e5",
   "metadata": {},
   "source": [
    "### Sharded cluster\n",
    "\n",
    "![](img/sharding_cluster.svg)\n",
    "\n",
    "consists of the following components:\n",
    "\n",
    "* Shard: Each shard contains a subset of the sharded data. Each shard can be deployed as a replica set.\n",
    "* Router: mongos: The mongos acts as a query router, providing an interface between client applications and the sharded cluster.\n",
    "* Config servers: Config servers store metadata and configuration settings for the cluster."
   ]
  },
  {
   "cell_type": "code",
   "execution_count": null,
   "id": "68080625",
   "metadata": {},
   "outputs": [],
   "source": [
    "### Connexión\n",
    "\n",
    "![]()\n",
    "Clients should never connect to a single shard in order to perform read or write operations.\n",
    "\n",
    "Unsharded collections are stored on a primary shard. Each database has its own primary shard.\n",
    "\n"
   ]
  },
  {
   "cell_type": "code",
   "execution_count": null,
   "id": "7752ebd6",
   "metadata": {},
   "outputs": [],
   "source": [
    "## Shard keys\n",
    "\n"
   ]
  },
  {
   "cell_type": "code",
   "execution_count": 12,
   "id": "09af2f1d",
   "metadata": {},
   "outputs": [
    {
     "data": {
      "text/plain": [
       "-1644486365914666577"
      ]
     },
     "execution_count": 12,
     "metadata": {},
     "output_type": "execute_result"
    }
   ],
   "source": [
    "hash('1')"
   ]
  },
  {
   "cell_type": "code",
   "execution_count": 13,
   "id": "a83b0d71",
   "metadata": {},
   "outputs": [
    {
     "data": {
      "text/plain": [
       "5573024216774967732"
      ]
     },
     "execution_count": 13,
     "metadata": {},
     "output_type": "execute_result"
    }
   ],
   "source": [
    "hash('2')"
   ]
  },
  {
   "cell_type": "code",
   "execution_count": null,
   "id": "512954b1",
   "metadata": {},
   "outputs": [],
   "source": [
    "### Estrategia de sharding\n",
    "\n",
    "#### Por rango\n",
    "\n",
    "![](img/sharding_range.svg)\n",
    "\n",
    "A range of shard keys whose values are \"close\" are more likely to reside on the same chunk. This allows for targeted operations "
   ]
  },
  {
   "cell_type": "code",
   "execution_count": null,
   "id": "7e5f069c",
   "metadata": {},
   "outputs": [],
   "source": [
    "#### Por hash\n",
    "\n",
    "![](img/sharding_hash.svg)"
   ]
  },
  {
   "cell_type": "markdown",
   "id": "00b0f8f7",
   "metadata": {},
   "source": [
    "Chunks\n",
    "\n",
    "MongoDB partitions sharded data into chunks. Each chunk has an inclusive lower and exclusive upper range based on the shard key.\n",
    "\n",
    "In an attempt to achieve an even distribution of chunks across all shards in the cluster, a balancer runs in the background to migrate chunks across the shards .\n",
    "\n",
    "Shard Key Index\n",
    "\n",
    "MongoDB uses the shard key to distribute the collection's documents across shards. The shard key consists of a field or multiple fields in the documents.\n",
    "\n",
    "You select the shard key when sharding a collection.\n",
    "\n",
    "A document's shard key value determines its distribution across the shards.\n",
    "\n",
    "The choice of shard key affects the performance, efficiency, and scalability of a sharded cluster.\n"
   ]
  },
  {
   "cell_type": "markdown",
   "id": "3f84d44c",
   "metadata": {},
   "source": [
    "Targeted Operations vs. Broadcast Operations\n",
    "\n",
    "Generally, the fastest queries in a sharded environment are those that mongos route to a single shard, using the shard key.\n",
    "\n",
    "For queries that don't include the shard key, mongos must query all shards.\n"
   ]
  },
  {
   "cell_type": "markdown",
   "id": "13491428",
   "metadata": {},
   "source": [
    "## Teorema CAP\n",
    "\n",
    "![](img/cap_parts.png)\n",
    "\n",
    "Fuente: https://cryptographics.info/cryptographics/blockchain/cap-theorem"
   ]
  },
  {
   "cell_type": "markdown",
   "id": "1b9d2d0e",
   "metadata": {},
   "source": [
    "![](img/cap_triangle.png)"
   ]
  },
  {
   "cell_type": "markdown",
   "id": "fb9976c1",
   "metadata": {},
   "source": [
    "### MongoDB\n",
    "\n",
    "* Por defecto, todas las operaciones de lectura y escritura van al nodo primario — **consistencia fuerte**.\n",
    "* Maneja fallas en la red, guardando la misma data en nodos secundarios — **tolerancia a la partición**.\n",
    "* Compromete la **disponibilidad** durante la votación de un nuevo nodo primario.\n",
    "\n",
    "El *Domain Name System* (DNS) de internet es un buen ejemplo de sistema de alta disponibilidad y consistencia eventual."
   ]
  },
  {
   "cell_type": "markdown",
   "id": "d76b56a5",
   "metadata": {},
   "source": [
    "## Características de las bases NoSQL\n",
    "\n",
    "Naturaleza distribuida\n",
    "* Escalabilidad horizontal (almacenamiento y cómputo)\n",
    "* Tolerancia a la partición\n",
    "* Disponibilidad (solo algunas DBs)\n",
    "\n",
    "Modelos de datos flexibles\n",
    "* Consultas más rápidas (datos que se acceden juntos se guardan juntos)\n",
    "* Facilidad de desarrollo\n",
    "\n",
    "### Posibles inconvenientes\n",
    "\n",
    "* Falta de transacciones entre múltiples registros.\n",
    "* Duplicación de información."
   ]
  },
  {
   "cell_type": "markdown",
   "id": "bd0dbe9d",
   "metadata": {},
   "source": [
    "## Tipos de bases NoSQL\n",
    "\n",
    "https://www.mongodb.com/nosql-explained\n",
    "\n",
    "What are the Types of NoSQL Databases?\n",
    "\n",
    "Over time, four major types of NoSQL databases emerged: document databases, key-value databases, wide-column stores, and graph databases. Let’s examine each type.\n",
    "\n",
    "    Document databases store data in documents similar to JSON (JavaScript Object Notation) objects. Each document contains pairs of fields and values. The values can typically be a variety of types including things like strings, numbers, booleans, arrays, or objects, and their structures typically align with objects developers are working with in code. Because of their variety of field value types and powerful query languages, document databases are great for a wide variety of use cases and can be used as a general purpose database. They can horizontally scale-out to accomodate large data volumes. MongoDB is consistently ranked as the world’s most popular NoSQL database according to DB-engines and is an example of a document database. For more on document databases, visit What is a Document Database?.\n",
    "\n",
    "    Key-value databases are a simpler type of database where each item contains keys and values. A value can typically only be retrieved by referencing its key, so learning how to query for a specific key-value pair is typically simple. Key-value databases are great for use cases where you need to store large amounts of data but you don’t need to perform complex queries to retrieve it. Common use cases include storing user preferences or caching. Redis and DynanoDB are popular key-value databases.\n",
    "\n",
    "    Wide-column stores store data in tables, rows, and dynamic columns. Wide-column stores provide a lot of flexibility over relational databases because each row is not required to have the same columns. Many consider wide-column stores to be two-dimensional key-value databases. Wide-column stores are great for when you need to store large amounts of data and you can predict what your query patterns will be. Wide-column stores are commonly used for storing Internet of Things data and user profile data. Cassandra and HBase are two of the most popular wide-column stores.\n",
    "\n",
    "    Graph databases store data in nodes and edges. Nodes typically store information about people, places, and things while edges store information about the relationships between the nodes. Graph databases excel in use cases where you need to traverse relationships to look for patterns such as social networks, fraud detection, and recommendation engines. Neo4j and JanusGraph are examples of graph databases."
   ]
  }
 ],
 "metadata": {
  "kernelspec": {
   "display_name": "Python 3",
   "language": "python",
   "name": "python3"
  },
  "language_info": {
   "codemirror_mode": {
    "name": "ipython",
    "version": 3
   },
   "file_extension": ".py",
   "mimetype": "text/x-python",
   "name": "python",
   "nbconvert_exporter": "python",
   "pygments_lexer": "ipython3",
   "version": "3.7.3"
  }
 },
 "nbformat": 4,
 "nbformat_minor": 5
}
