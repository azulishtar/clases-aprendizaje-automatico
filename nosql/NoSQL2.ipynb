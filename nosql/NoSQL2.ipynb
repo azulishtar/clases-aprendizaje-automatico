{
 "cells": [
  {
   "cell_type": "markdown",
   "id": "cb3d13d5",
   "metadata": {
    "slideshow": {
     "slide_type": "slide"
    }
   },
   "source": [
    "![](https://raw.githubusercontent.com/matiasbattocchia/clases-aprendizaje-automatico/master/nosql/img/meli.png)\n",
    "\n",
    "# Introducción a bases de datos NoSQL 2"
   ]
  },
  {
   "cell_type": "markdown",
   "id": "c580598d",
   "metadata": {
    "slideshow": {
     "slide_type": "slide"
    }
   },
   "source": [
    "## Replicación\n",
    "\n",
    "Ver más: https://docs.mongodb.com/manual/replication\n",
    "\n",
    "Un *replica set* —conjunto de réplicas— en MongoDB es un grupo de procesos que mantienen el mismo *dataset*. Cada proceso corre en una máquina distinta (nodo) dentro de un grupo de máquinas (*cluster*).\n",
    "\n",
    "Las réplicas proveen **redundancia y tolerancia a fallas**, son la base de todos los *deploys* en producción.\n",
    "\n",
    "![](img/replica_compass.png)"
   ]
  },
  {
   "cell_type": "markdown",
   "id": "f0731871",
   "metadata": {
    "slideshow": {
     "slide_type": "subslide"
    }
   },
   "source": [
    "### Nodo primario\n",
    "\n",
    "![](img/replica_set.svg)\n",
    "\n",
    "El **nodo primario** recibe todas las operaciones de escritura y lectura; solo puede haber uno."
   ]
  },
  {
   "cell_type": "markdown",
   "id": "1ad981fd",
   "metadata": {
    "slideshow": {
     "slide_type": "subslide"
    }
   },
   "source": [
    "### Nodos secundarios\n",
    "\n",
    "![](img/replica_secondary.svg)\n",
    "\n",
    "Los **nodos secundarios** replican las operaciones del primario en sus datasets, de tal manera de reflejarlo.\n",
    "\n",
    "Si el nodo primario no está disponible, un secundario iniciará ocupar su lugar."
   ]
  },
  {
   "cell_type": "markdown",
   "id": "6f9b040b",
   "metadata": {
    "slideshow": {
     "slide_type": "subslide"
    }
   },
   "source": [
    "### Tolerancia a fallas\n",
    "\n",
    "![](img/replica_failover.svg)\n",
    "\n",
    "Cuando un primario no se comunica con los otros nodos dentro de un cierto periodo (10 segundos por defecto), un secundario llama a elección para nominarse como el nuevo primario.\n",
    "\n",
    "El *replica set* **no puede procesar operaciones de escritura** durante la elección."
   ]
  },
  {
   "cell_type": "markdown",
   "id": "67bb5bb3",
   "metadata": {
    "slideshow": {
     "slide_type": "subslide"
    }
   },
   "source": [
    "### Write concern\n",
    "\n",
    "![](img/replica_concern.svg)\n",
    "\n",
    "Las operaciones de escritura requieren un **reconocimiento de persistencia**. Este reconocimiento es configurable; cuando su valor es \"mayoría\", la escritura se confirma cuando las operaciones se hayan propagado en la mayoría de los nodos."
   ]
  },
  {
   "cell_type": "markdown",
   "id": "c78ee18a",
   "metadata": {
    "slideshow": {
     "slide_type": "subslide"
    }
   },
   "source": [
    "### Preferencia de lectura\n",
    "\n",
    "\n",
    "![](img/eventual_consistency.svg)\n",
    "\n",
    "Opcionalmente, es posible habilitar la lectura desde nodos secundarios para aumentar la capacidad de lectura.\n",
    "\n",
    "MongoDB se vuelve **eventualmente consistente**, permitiendo leer datos potencialmente desactualizados."
   ]
  },
  {
   "cell_type": "markdown",
   "id": "74f7c51d",
   "metadata": {
    "slideshow": {
     "slide_type": "subslide"
    }
   },
   "source": [
    "### Distribución geográfica\n",
    "\n",
    "![](img/replica_zones.svg)\n",
    "\n",
    "Distribuir nodos en distintos centros de datos mejora la redundancia y la tolerancia a fallas."
   ]
  },
  {
   "cell_type": "markdown",
   "id": "899e106e",
   "metadata": {
    "slideshow": {
     "slide_type": "subslide"
    }
   },
   "source": [
    "![](img/replica_read_preference.svg)\n",
    "\n",
    "Los clientes pueden configurarse para preferir leer desde nodos secundarios para mejorar la latencia."
   ]
  },
  {
   "cell_type": "markdown",
   "id": "79b1e7b2",
   "metadata": {
    "slideshow": {
     "slide_type": "slide"
    }
   },
   "source": [
    "## Fragmentación\n",
    "\n",
    "Ver más: https://docs.mongodb.com/manual/sharding\n",
    "\n",
    "*Sharding* —fragmentación— en MongoDB es un método para distribuir los datos a lo largo de múltiples máquinas.\n",
    "\n",
    "Es útil cuando el *dataset* es muy grande y/o la cantidad de operaciones es muy alta. Un conjunto de datos de trabajo que supera la RAM del sistema estresa la lecto-escritura de los discos. Una alta tasa de consultas exhausta al CPU.\n",
    "\n",
    "Dividir la carga entre múltiples servidores y añadir servidores según necesidad para aumentar la capacidad es lo que se conoce como **escalibilidad horizontal**.\n",
    "\n",
    "Incrementar las capacidades de procesamiento, memoria y almacenamiento de un único servidor tiene el nombre de **escalibilidad vertical**; en la práctica esta escalabilidad es limitada."
   ]
  },
  {
   "cell_type": "markdown",
   "id": "bd7a056e",
   "metadata": {
    "slideshow": {
     "slide_type": "subslide"
    }
   },
   "source": [
    "![](img/shard_collections.svg)\n",
    "\n",
    "Las colecciones fragmentadas son particionadas y distribuidas en los *shards* —nodos— del *cluster*.\n",
    "\n",
    "Las collecciones no particionadas son guardadas en un *shard* primario."
   ]
  },
  {
   "cell_type": "markdown",
   "id": "58f59622",
   "metadata": {
    "slideshow": {
     "slide_type": "subslide"
    }
   },
   "source": [
    "### Conexión\n",
    "\n",
    "![](img/shard_connection.svg)\n",
    "\n",
    "Los clientes jamás deberían conectarse a un fragmento (nodo que corre un proceso `mongod`) directamente. Deben hacerlo a través de un nodo enrutador (corre un proceso `mongos`)."
   ]
  },
  {
   "cell_type": "markdown",
   "id": "61beccef",
   "metadata": {
    "slideshow": {
     "slide_type": "subslide"
    }
   },
   "source": [
    "### Cluster fragmentado\n",
    "\n",
    "![](img/shard_cluster.svg)\n",
    "\n",
    "Consiste en los siguientes componentes:\n",
    "* Fragmentos. Cada uno de estos nodos puede deployarse como un *replica set*.\n",
    "* Enrutadores.\n",
    "* Servidores de configuración."
   ]
  },
  {
   "cell_type": "markdown",
   "id": "c43daca5",
   "metadata": {
    "slideshow": {
     "slide_type": "subslide"
    }
   },
   "source": [
    "### Shard keys\n",
    "\n",
    "![](img/shard_chunks.svg)\n",
    "\n",
    "La *shard key* es un **índice simple o compuesto** que determina la distribución de los documentos de una colección entre los fragmentos del cluster.\n",
    "\n",
    "MongoDB divide los valores de la llave en rangos yuxtapuestos. Cada rango es asociado a un pedazo (*chunk*). MongoDB intenta distribuirlos de manera equitativa entre los *shards*."
   ]
  },
  {
   "cell_type": "markdown",
   "id": "32f0a58f",
   "metadata": {
    "slideshow": {
     "slide_type": "fragment"
    }
   },
   "source": [
    "La llave debería tener los siguientes atributos:\n",
    "\n",
    "* Alta cardinalidad.\n",
    "* Baja frecuencia de valores.\n",
    "* No ser monótona.\n",
    "\n",
    "Para cuando no es posible cumplirlos, existe otra estrategia llamada [hashed sharding](https://docs.mongodb.com/manual/core/hashed-sharding/)."
   ]
  },
  {
   "cell_type": "markdown",
   "id": "62f2475a",
   "metadata": {
    "slideshow": {
     "slide_type": "subslide"
    }
   },
   "source": [
    "### Chunks\n",
    "\n",
    "![](img/shard_chunk_split.svg)\n",
    "\n",
    "Los *chunks* consisten es subconjuntos de datos. Poseen un tamaño máximo configurable (64 MB por defecto).\n",
    "\n",
    "MongoDB despedaza el *chunk* en caso de crezca más allá del tamaño máximo. En el caso opuesto puede unirlos.\n",
    "\n",
    "Ambas operaciones llevan a una **distribución despareja** de la colección a los largo de los fragmentos."
   ]
  },
  {
   "cell_type": "markdown",
   "id": "07f7d3b7",
   "metadata": {
    "slideshow": {
     "slide_type": "subslide"
    }
   },
   "source": [
    "### Balanceador\n",
    "\n",
    "![](img/shard_chunk_migration.svg)\n",
    "\n",
    "El balancedor es un proceso de fondo que administra las migraciones de *chunks*.\n",
    "\n",
    "Si la diferencia en el número de pedazos entre el *shard* más ocupado y el *shard* más vacío supera determinado umbral, el balanceador realiza migraciones para distribuir los datos de manera equitativa."
   ]
  },
  {
   "cell_type": "markdown",
   "id": "8113b484",
   "metadata": {
    "slideshow": {
     "slide_type": "subslide"
    }
   },
   "source": [
    "### Operaciones dirigidas\n",
    "\n",
    "![](img/shard_targeted.svg)\n",
    "\n",
    "En un entorno fragmentado, las consultas más rápidas son aquellas que el enrutador puede dirigir a un único *shard* utilizando la *shard key*."
   ]
  },
  {
   "cell_type": "markdown",
   "id": "c5603e0a",
   "metadata": {
    "slideshow": {
     "slide_type": "subslide"
    }
   },
   "source": [
    "![](img/shard_broadcast.svg)\n",
    "\n",
    "Para aquellas consultas que no incluyen la *shard key*, el enrutador debe consultar a todos los fragmentos."
   ]
  },
  {
   "cell_type": "markdown",
   "id": "66d389c0",
   "metadata": {
    "slideshow": {
     "slide_type": "slide"
    }
   },
   "source": [
    "## Teorema CAP\n",
    "\n",
    "Dice que es **imposible para una base de datos distribuida** cumplir simultáneamente con más dos de las siguientes tres garantías:\n",
    "\n",
    "* Consistencia\n",
    "* Disponibilidad\n",
    "* Tolerancia a la partición\n",
    "\n",
    "![](img/cap_parts.png)\n",
    "\n",
    "Fuente: https://cryptographics.info/cryptographics/blockchain/cap-theorem"
   ]
  },
  {
   "cell_type": "markdown",
   "id": "91f020b0",
   "metadata": {
    "slideshow": {
     "slide_type": "subslide"
    }
   },
   "source": [
    "Cuando sucede una **partición de red** (desconexión de nodos) es necesario decidir:\n",
    "\n",
    "* Cancelar la operación, por ende perder disponibilidad pero asegurar la consistencia.\n",
    "* Proceder con la operación, mantener la disponibilidad a riesgo de inconsistencias.\n",
    "\n",
    "![](img/cap_triangle.png)"
   ]
  },
  {
   "cell_type": "markdown",
   "id": "242aee7e",
   "metadata": {
    "slideshow": {
     "slide_type": "subslide"
    }
   },
   "source": [
    "### MongoDB\n",
    "\n",
    "* Por defecto, todas las operaciones de lectura y escritura van al nodo primario — **consistencia fuerte**.\n",
    "* Maneja fallas en la red, guardando la misma data en nodos secundarios — **tolerancia a la partición**.\n",
    "* Compromete la **disponibilidad** durante la votación de un nuevo nodo primario.\n",
    "\n",
    "El *Domain Name System* (DNS) de internet es un buen ejemplo de sistema de alta disponibilidad y consistencia eventual."
   ]
  },
  {
   "cell_type": "markdown",
   "id": "a888504b",
   "metadata": {
    "slideshow": {
     "slide_type": "slide"
    }
   },
   "source": [
    "## Características de las bases NoSQL\n",
    "\n",
    "Naturaleza distribuida\n",
    "* Escalabilidad horizontal (almacenamiento y cómputo)\n",
    "* Tolerancia a la partición\n",
    "* Disponibilidad (solo algunas DBs)\n",
    "\n",
    "Modelos de datos flexibles\n",
    "* Consultas más rápidas (datos que se acceden juntos se guardan juntos)\n",
    "* Facilidad de desarrollo\n",
    "\n",
    "### Posibles inconvenientes\n",
    "\n",
    "* Falta de transacciones entre múltiples registros.\n",
    "* Duplicación de información."
   ]
  },
  {
   "cell_type": "markdown",
   "id": "3dd30b94",
   "metadata": {
    "slideshow": {
     "slide_type": "slide"
    }
   },
   "source": [
    "## Tipos de bases NoSQL\n",
    "\n",
    "Hay cuatro grandes tipos:\n",
    "* documentos,\n",
    "* llave-valor,\n",
    "* columnares,\n",
    "* grafos.\n",
    "\n",
    "![](img/nosql_types.png)\n",
    "\n",
    "*Fuente*: https://itsmecevi.github.io/dwbi"
   ]
  },
  {
   "cell_type": "markdown",
   "id": "319ccc58",
   "metadata": {
    "slideshow": {
     "slide_type": "subslide"
    }
   },
   "source": [
    "### Documentos\n",
    "\n",
    "Almacenan colecciones de documentos similares a objetos JSON (*JavaScript object notation*). Estos objetos suelen alinearse con los objetos que existen en el código de la aplicación.\n",
    "\n",
    "En estructura, los documentos son similares pero no necesarimente iguales. Es posible trabajar con estructuras complejas (documentos anidados).\n",
    "\n",
    "Estas bases permiten recuperar documentos y generar índices en base a su contenido; pueden procesar consultas complejas.\n",
    "\n",
    "![](img/mongodb.png)\n",
    "\n",
    "*Fuente*: https://www.mongodb.com/document-databases"
   ]
  },
  {
   "cell_type": "markdown",
   "id": "7af5edee",
   "metadata": {
    "slideshow": {
     "slide_type": "subslide"
    }
   },
   "source": [
    "#### Casos de uso\n",
    "\n",
    "Las bases de datos de documentos están pensadas para datos con estructura compleja y variable.\n",
    "\n",
    "* Uso general\n",
    "* Aplicaciones web\n",
    "\n",
    "#### Bases populares\n",
    "\n",
    "* MongoDB\n",
    "* CouchDB\n",
    "* DynamoDB (AWS)\n",
    "* Firestore (GCP)"
   ]
  },
  {
   "cell_type": "markdown",
   "id": "c8432a0b",
   "metadata": {
    "slideshow": {
     "slide_type": "subslide"
    }
   },
   "source": [
    "### Llave-valor\n",
    "\n",
    "Almacenan colecciones de pares llave-valor, como un diccionario.\n",
    "\n",
    "La llave funciona como identificador único, los valores pueden ser de **cualquier tipo**: estas bases tratan a los datos que contienen como BLOBs (*binary large object*) — 1s y 0s sin estructura. Es responsabilidad de la aplicación entender cómo interpretarlos.\n",
    "\n",
    "Debido a que los BLOBs son opacos, estas bases\n",
    "* no realizan búsquedas en base al contenido de los valores,\n",
    "* ni establecen otro índice más que para las llaves.\n",
    "\n",
    "![](img/redis.png)\n",
    "\n",
    "*Fuente*: https://redislabs.com/blog/get-sql-like-experience-redis"
   ]
  },
  {
   "cell_type": "markdown",
   "id": "2f147d78",
   "metadata": {
    "slideshow": {
     "slide_type": "subslide"
    }
   },
   "source": [
    "#### Casos de uso\n",
    "\n",
    "Las bases de datos llave-valor son la opción más eficiente cuando las consultas para recuperar los datos no son complejas.\n",
    "\n",
    "* Almacenamiento caché\n",
    "* Colas de mensajes\n",
    "* Manejo de sesiones\n",
    "\n",
    "#### Bases populares\n",
    "\n",
    "* Redis\n",
    "* Riak\n",
    "* DynamoDB (AWS)\n",
    "* Firestore (GCP)"
   ]
  },
  {
   "cell_type": "markdown",
   "id": "af436b57",
   "metadata": {
    "slideshow": {
     "slide_type": "subslide"
    }
   },
   "source": [
    "### Columnares\n",
    "\n",
    "En apariencia muy similares a las bases de datos relacionales; en vez de agrupar las columnas en tablas, **cada columna es almacenada por separado**, lo que permite leer solo las columnas que se necesitan en vez de toda la tabla.\n",
    "\n",
    "Las columnas guardan datos del **mismo tipo**. Las filas pueden tener **distintas columnas**, las tablas son esparzas.\n",
    "\n",
    "Son consideradas bases llave-valor de dos dimensiones. Los ids de las filas y los nombres de las columnas son los únicos índices; los valores son opacos.\n",
    "\n",
    "![](img/columnar.png)\n",
    "\n",
    "*Fuente*: https://bi-insider.com/portfolio-item/techniques-of-data-warehouse-performance-optimization"
   ]
  },
  {
   "cell_type": "markdown",
   "id": "96dd4c34",
   "metadata": {
    "slideshow": {
     "slide_type": "subslide"
    }
   },
   "source": [
    "#### Casos de uso\n",
    "\n",
    "Las bases de datos columnares son óptimas para lecturas rápidas de grandes volúmenes de datos y agregaciones de columnas.\n",
    "\n",
    "* *Big Data*\n",
    "* Series temporales. Ejemplos: IoT, telemetría, valores mercados. \n",
    "* *Logs*. Ejemplos: monitoreo de systemas, datos de usuarios.\n",
    "\n",
    "#### Bases populares\n",
    "\n",
    "* Cassandra\n",
    "* HBase\n",
    "* Redshift (AWS)\n",
    "* Bigtable (GCP)"
   ]
  },
  {
   "cell_type": "markdown",
   "id": "fc8c41bf",
   "metadata": {
    "slideshow": {
     "slide_type": "subslide"
    }
   },
   "source": [
    "### Grafos\n",
    "\n",
    "Tienen un parecido a las bases de datos de documentos, con hincapié en las relaciones entre documentos.\n",
    "\n",
    "Los documentos suelen ser entidades (personas, lugares, cosas); las relaciones son semánticamente relevantes (pertenece a, compró un) y pueden tener atributos (distancia, tiempo, costo).\n",
    "\n",
    "Ciertas operaciones son mucho más sencillas utilizando estas bases por la manera en la que enlazan y agrupan los datos. \n",
    "\n",
    "![](img/graph.png)\n",
    "\n",
    "*Fuente*: https://towardsdatascience.com/graph-databases-whats-the-big-deal-ec310b1bc0ed"
   ]
  },
  {
   "cell_type": "markdown",
   "id": "d0be295b",
   "metadata": {
    "slideshow": {
     "slide_type": "subslide"
    }
   },
   "source": [
    "#### Casos de uso\n",
    "\n",
    "Las bases de datos de grafos sobresalen a la hora de \"atravesar\" una red de documentos en busca de patrones.\n",
    "\n",
    "* Redes sociales\n",
    "* Detección de fraude\n",
    "* Sistemas de recomendación\n",
    "* Bases de conocimiento, como [Wikidata](https://www.wikidata.org/wiki/Wikidata:Main_Page)\n",
    "\n",
    "#### Bases populares\n",
    "\n",
    "* Neo4j\n",
    "* ArangoDB"
   ]
  }
 ],
 "metadata": {
  "kernelspec": {
   "display_name": "Python 3",
   "language": "python",
   "name": "python3"
  },
  "language_info": {
   "codemirror_mode": {
    "name": "ipython",
    "version": 3
   },
   "file_extension": ".py",
   "mimetype": "text/x-python",
   "name": "python",
   "nbconvert_exporter": "python",
   "pygments_lexer": "ipython3",
   "version": "3.7.3"
  }
 },
 "nbformat": 4,
 "nbformat_minor": 5
}
