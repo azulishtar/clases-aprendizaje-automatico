{
 "cells": [
  {
   "cell_type": "markdown",
   "id": "96b7bdbb",
   "metadata": {},
   "source": [
    "1. Replica set\n",
    "2. Sharding\n",
    "\n",
    "---\n",
    "\n",
    "Teorema CAP\n",
    "Consistencia eventual\n",
    "Transacciones\n",
    "\n",
    "Tipos de DBs"
   ]
  },
  {
   "cell_type": "markdown",
   "id": "250c6f49",
   "metadata": {},
   "source": [
    "## Teorema CAP\n",
    "\n",
    "![](img/cap_parts.png)"
   ]
  },
  {
   "cell_type": "markdown",
   "id": "a845dde6",
   "metadata": {},
   "source": [
    "![](img/cap_triangle.png)"
   ]
  },
  {
   "cell_type": "markdown",
   "id": "47a4ab58",
   "metadata": {},
   "source": [
    "### MongoDB\n",
    "\n",
    "* Por defecto, todas las operaciones de lectura y escritura van al nodo primario — **consistencia fuerte**.\n",
    "* Maneja fallas en la red, guardando la misma data en nodos secundarios — **tolerancia a la partición**.\n",
    "* Compromete la **disponibilidad** durante la votación de un nuevo nodo primario.\n",
    "\n",
    "![](img/eventual_consistency.svg)\n",
    "\n",
    "Opcionalmente, es posible habilitar la lectura desde nodos secundarios. MongoDB se vuelve **eventualmente consistente**, permitiendo leer datos potencialmente desactualizados.\n",
    "\n",
    "El *Domain Name System* (DNS) de internet es un buen ejemplo de sistema de alta disponibilidad y consistencia eventual."
   ]
  },
  {
   "cell_type": "markdown",
   "id": "ad7491ce",
   "metadata": {},
   "source": [
    "## Características de las bases NoSQL\n",
    "\n",
    "Naturaleza distribuida\n",
    "* Escalabilidad horizontal (almacenamiento y cómputo)\n",
    "* Tolerancia a la partición\n",
    "* Disponibilidad (solo algunas DBs)\n",
    "\n",
    "Modelos de datos flexibles\n",
    "* Consultas más rápidas (datos que se acceden juntos se guardan juntos)\n",
    "* Facilidad de desarrollo\n",
    "\n",
    "### Posibles inconvenientes\n",
    "\n",
    "* Falta de transacciones entre múltiples registros.\n",
    "* Duplicación de información."
   ]
  },
  {
   "cell_type": "markdown",
   "id": "ca61c848",
   "metadata": {},
   "source": [
    "https://www.mongodb.com/nosql-explained\n",
    "\n",
    "What are the Types of NoSQL Databases?\n",
    "\n",
    "Over time, four major types of NoSQL databases emerged: document databases, key-value databases, wide-column stores, and graph databases. Let’s examine each type.\n",
    "\n",
    "    Document databases store data in documents similar to JSON (JavaScript Object Notation) objects. Each document contains pairs of fields and values. The values can typically be a variety of types including things like strings, numbers, booleans, arrays, or objects, and their structures typically align with objects developers are working with in code. Because of their variety of field value types and powerful query languages, document databases are great for a wide variety of use cases and can be used as a general purpose database. They can horizontally scale-out to accomodate large data volumes. MongoDB is consistently ranked as the world’s most popular NoSQL database according to DB-engines and is an example of a document database. For more on document databases, visit What is a Document Database?.\n",
    "\n",
    "    Key-value databases are a simpler type of database where each item contains keys and values. A value can typically only be retrieved by referencing its key, so learning how to query for a specific key-value pair is typically simple. Key-value databases are great for use cases where you need to store large amounts of data but you don’t need to perform complex queries to retrieve it. Common use cases include storing user preferences or caching. Redis and DynanoDB are popular key-value databases.\n",
    "\n",
    "    Wide-column stores store data in tables, rows, and dynamic columns. Wide-column stores provide a lot of flexibility over relational databases because each row is not required to have the same columns. Many consider wide-column stores to be two-dimensional key-value databases. Wide-column stores are great for when you need to store large amounts of data and you can predict what your query patterns will be. Wide-column stores are commonly used for storing Internet of Things data and user profile data. Cassandra and HBase are two of the most popular wide-column stores.\n",
    "\n",
    "    Graph databases store data in nodes and edges. Nodes typically store information about people, places, and things while edges store information about the relationships between the nodes. Graph databases excel in use cases where you need to traverse relationships to look for patterns such as social networks, fraud detection, and recommendation engines. Neo4j and JanusGraph are examples of graph databases."
   ]
  }
 ],
 "metadata": {
  "kernelspec": {
   "display_name": "Python 3",
   "language": "python",
   "name": "python3"
  },
  "language_info": {
   "codemirror_mode": {
    "name": "ipython",
    "version": 3
   },
   "file_extension": ".py",
   "mimetype": "text/x-python",
   "name": "python",
   "nbconvert_exporter": "python",
   "pygments_lexer": "ipython3",
   "version": "3.7.3"
  }
 },
 "nbformat": 4,
 "nbformat_minor": 5
}
